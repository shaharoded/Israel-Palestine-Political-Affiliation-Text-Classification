{
 "cells": [
  {
   "cell_type": "markdown",
   "metadata": {
    "id": "yi5VNBSOv-kT"
   },
   "source": [
    "# Imports and Setup"
   ]
  },
  {
   "cell_type": "code",
   "execution_count": 1,
   "metadata": {},
   "outputs": [
    {
     "name": "stdout",
     "output_type": "stream",
     "text": [
      "c:\\Users\\shaha\\Projects\\Python Projects\\Israel-Palestine-Political-Affiliation-Text-Classification\\Analysis\n",
      "C:\\Users\\shaha\\Projects\\Python Projects\\Israel-Palestine-Political-Affiliation-Text-Classification\n"
     ]
    }
   ],
   "source": [
    "import os\n",
    "print(os.getcwd())\n",
    "os.chdir(r'C:\\Users\\shaha\\Projects\\Python Projects\\Israel-Palestine-Political-Affiliation-Text-Classification')\n",
    "print(os.getcwd())"
   ]
  },
  {
   "cell_type": "code",
   "execution_count": 2,
   "metadata": {
    "id": "UD9uGUUSvuxq"
   },
   "outputs": [
    {
     "name": "stderr",
     "output_type": "stream",
     "text": [
      "c:\\Users\\shaha\\Projects\\Python Projects\\Israel-Palestine-Political-Affiliation-Text-Classification\\venv\\lib\\site-packages\\tqdm\\auto.py:21: TqdmWarning: IProgress not found. Please update jupyter and ipywidgets. See https://ipywidgets.readthedocs.io/en/stable/user_install.html\n",
      "  from .autonotebook import tqdm as notebook_tqdm\n",
      "[nltk_data] Downloading package punkt_tab to\n",
      "[nltk_data]     C:\\Users\\shaha\\AppData\\Roaming\\nltk_data...\n",
      "[nltk_data]   Package punkt_tab is already up-to-date!\n",
      "[nltk_data] Downloading package averaged_perceptron_tagger_eng to\n",
      "[nltk_data]     C:\\Users\\shaha\\AppData\\Roaming\\nltk_data...\n",
      "[nltk_data]   Package averaged_perceptron_tagger_eng is already up-to-\n",
      "[nltk_data]       date!\n",
      "[nltk_data] Downloading package wordnet to\n",
      "[nltk_data]     C:\\Users\\shaha\\AppData\\Roaming\\nltk_data...\n",
      "[nltk_data]   Package wordnet is already up-to-date!\n"
     ]
    }
   ],
   "source": [
    "import optuna\n",
    "\n",
    "from sklearn.model_selection import StratifiedKFold\n",
    "from sklearn.metrics import balanced_accuracy_score, f1_score\n",
    "import pandas as pd\n",
    "\n",
    "\n",
    "from classifiers import *\n",
    "from dataset import EmbeddingDataset\n",
    "from embedder import Embedder\n",
    "from Config.dataset_config import *\n",
    "\n",
    "from torch.utils.data import Dataset, DataLoader\n",
    "\n",
    "import nltk\n",
    "nltk.download('punkt_tab')\n",
    "nltk.download('averaged_perceptron_tagger_eng')\n",
    "nltk.download('wordnet')\n",
    "\n",
    "from tqdm import tqdm"
   ]
  },
  {
   "cell_type": "markdown",
   "metadata": {
    "id": "75rhsfaiwuOx"
   },
   "source": [
    "# Define optimizers"
   ]
  },
  {
   "cell_type": "code",
   "execution_count": 3,
   "metadata": {
    "collapsed": false
   },
   "outputs": [],
   "source": [
    "# Helper dataset\n",
    "class HelperDataset(Dataset):\n",
    "    def __init__(self, X, y):\n",
    "        super(HelperDataset).__init__()\n",
    "        self.X = X\n",
    "        self.y = y\n",
    "\n",
    "    def __len__(self):\n",
    "        return len(self.X)\n",
    "\n",
    "    def __getitem__(self, item):\n",
    "        return self.X[item], self.y[item]"
   ]
  },
  {
   "cell_type": "code",
   "execution_count": 4,
   "metadata": {
    "collapsed": false
   },
   "outputs": [],
   "source": [
    "# Custom tqdm callback\n",
    "class TqdmCallback:\n",
    "    def __init__(self, n_trials):\n",
    "        self.pbar = tqdm(total=n_trials)\n",
    "\n",
    "    def __call__(self, study, trial):\n",
    "        self.pbar.update(1)\n",
    "\n",
    "    def close(self):\n",
    "        self.pbar.close()"
   ]
  },
  {
   "cell_type": "code",
   "execution_count": 5,
   "metadata": {
    "collapsed": false
   },
   "outputs": [],
   "source": [
    "model_hyperparameters = {\n",
    "    'logistic_regression': {\n",
    "        'num_epochs': (5, 20, 'int'),\n",
    "        'learning_rate': (1e-5, 1e-3, 'loguniform'),\n",
    "        'weight_decay': (1e-5, 1e-3, 'loguniform')\n",
    "    },\n",
    "    'svm': {\n",
    "        'C': (1e-4, 1e2, 'loguniform'),\n",
    "        'kernel': (['linear', 'rbf', 'sigmoid'], 'categorical'),\n",
    "        'degree': (2, 4, 'int'),\n",
    "        'gamma': (['scale', 'auto'], 'categorical')\n",
    "    },\n",
    "    'xgboost': {\n",
    "        'n_estimators': (50, 200, 'int'),\n",
    "        'learning_rate': (1e-3, 0.2, 'loguniform'),\n",
    "        'booster': (['gbtree', 'gblinear', 'dart'], 'categorical'),\n",
    "        'max_depth': (3, 10, 'int'),\n",
    "        'min_child_weight': (2, 10, 'int'),\n",
    "        'colsample_bytree': (0.5, 1.0, 'uniform'),\n",
    "        'subsample': (0.5, 1.0, 'uniform'),\n",
    "        'reg_alpha': (1e-8, 10.0, 'loguniform'),\n",
    "        'reg_lambda': (1e-8, 10.0, 'loguniform'),\n",
    "        'gamma': (1e-8, 1.0, 'loguniform')\n",
    "    },\n",
    "    'dnn': {\n",
    "        \"num_epochs\": (5, 20, 'int'),  # Adjust after trial and error\n",
    "        \"learning_rate\": (1e-5, 1e-3, 'loguniform'),\n",
    "        'weight_decay': (1e-5, 1e-3, 'loguniform'),\n",
    "        \"batch_norm\": ([True, False], 'categorical'),\n",
    "        \"drop_out\": (0.0, 0.5, 'uniform'),\n",
    "        \"layers\": ([[768, 64, 3],\n",
    "                    [768, 128, 3],\n",
    "                    [768, 64, 64, 3],\n",
    "                    [768, 128, 64, 3],\n",
    "                    [768, 512, 32, 3],\n",
    "                    [768, 512, 128, 3],\n",
    "                    [768, 512, 128, 64, 3]], 'categorical')  # Layer dimensions, including an input and output layer.\n",
    "    }\n",
    "}\n",
    "\n",
    "def suggest_hyperparameters(trial, hyperparams):\n",
    "    params = {}\n",
    "    for key, value in hyperparams.items():\n",
    "        if len(value) == 2 and value[1] == 'categorical':\n",
    "            params[key] = trial.suggest_categorical(key, value[0])\n",
    "        elif len(value) == 3:\n",
    "            if value[2] == 'loguniform':\n",
    "                params[key] = trial.suggest_float(key, value[0], value[1], log=True)\n",
    "            elif value[2] == 'uniform':\n",
    "                params[key] = trial.suggest_float(key, value[0], value[1])\n",
    "            elif value[2] == 'int':\n",
    "                params[key] = trial.suggest_int(key, value[0], value[1])\n",
    "            elif value[2] == 'categorical':\n",
    "                params[key] = trial.suggest_categorical(key, value[0])\n",
    "        else:\n",
    "            raise ValueError(f\"Hyperparameter tuple for {key} is not in the expected format: {value}\")\n",
    "    return params\n",
    "\n",
    "def cross_validation(estimator, X, y, n_splits=5):\n",
    "    cv = StratifiedKFold(n_splits=n_splits, shuffle=True, random_state=42)\n",
    "    scores = []\n",
    "    for i, (train_index, val_index) in enumerate(cv.split(X, y)):\n",
    "        # Split to train and validation sets\n",
    "        x_train, x_val = X[train_index], X[val_index]\n",
    "        y_train, y_val = y[train_index], y[val_index]\n",
    "\n",
    "        help_train_dataset = HelperDataset(x_train, y_train)\n",
    "        help_val_dataset = HelperDataset(x_val, y_val)\n",
    "\n",
    "        train_dataloader = DataLoader(help_train_dataset, batch_size=BATCH_SIZE, shuffle=True)\n",
    "        val_dataloader = DataLoader(help_val_dataset, batch_size=BATCH_SIZE, shuffle=True)\n",
    "\n",
    "        # Fit to the Classifier train and predict data type\n",
    "        train = (train_dataloader, (x_train, y_train))\n",
    "        val = (val_dataloader, (x_val, y_val))\n",
    "\n",
    "        estimator.fit(train)\n",
    "        pred = estimator.predict(val)\n",
    "        score = f1_score(y_val, pred, average='micro')\n",
    "        scores.append(score)\n",
    "    return scores\n",
    "\n",
    "# Define objective function for optuna. The function include all models, and should be called with the model name. The function optimize the Classifier class hyperparameters.\n",
    "def objective(trial, model_name, X, y, folds_scores):\n",
    "        # Use suggest_hyperparameters to handle standard parameters\n",
    "    params = suggest_hyperparameters(trial, model_hyperparameters[model_name])\n",
    "\n",
    "    # Add unique overrides for specific models\n",
    "    if model_name == 'logistic_regression':\n",
    "        params['batch_norm'] = False\n",
    "        params['drop_out'] = 0.0\n",
    "        params['layers'] = [768, 3]\n",
    "\n",
    "    # Add unique parameters for XGBoost (booster-specific) based on booster\n",
    "    if model_name == 'xgboost':\n",
    "        if params[\"booster\"] in [\"gbtree\", \"dart\"]:\n",
    "            params[\"grow_policy\"] = trial.suggest_categorical(\"grow_policy\", [\"depthwise\", \"lossguide\"])\n",
    "            params[\"colsample_bytree\"] = trial.suggest_float(\"colsample_bytree\", 0.5, 1.0)\n",
    "            params[\"gamma\"] = trial.suggest_float(\"gamma\", 1e-8, 1.0, log=True)\n",
    "            params[\"max_depth\"] = trial.suggest_int(\"max_depth\", 3, 10)\n",
    "            params[\"min_child_weight\"] = trial.suggest_int(\"min_child_weight\", 2, 10)\n",
    "            params[\"subsample\"] = trial.suggest_float(\"subsample\", 0.5, 1.0)\n",
    "\n",
    "        if params[\"booster\"] == \"dart\":\n",
    "            params[\"sample_type\"] = trial.suggest_categorical(\"sample_type\", [\"uniform\", \"weighted\"])\n",
    "            params[\"normalize_type\"] = trial.suggest_categorical(\"normalize_type\", [\"tree\", \"forest\"])\n",
    "            params[\"rate_drop\"] = trial.suggest_float(\"rate_drop\", 1e-8, 1.0, log=True)\n",
    "            params[\"skip_drop\"] = trial.suggest_float(\"skip_drop\", 1e-8, 1.0, log=True)\n",
    "\n",
    "\n",
    "    model = Classifier(params, model_type=model_name, log=False)\n",
    "\n",
    "    # Perform cross validation\n",
    "    scores = cross_validation(model, X, y)\n",
    "\n",
    "    folds_scores.append(scores)     # Save scores for statistic tests\n",
    "    return np.mean(scores)\n",
    "\n",
    "def optimize_model(model_name, X, y, n_trials=10, timout=36000):\n",
    "    \"\"\"\n",
    "    The actual optimization.\n",
    "    \"\"\"\n",
    "    folds_scores = []   # create a list to store the scores from each trial folds\n",
    "    study = optuna.create_study(direction='maximize')\n",
    "    progress_bar = TqdmCallback(n_trials)\n",
    "    study.optimize(lambda trial: objective(trial, model_name, X, y, folds_scores), n_trials=n_trials, timeout=timout, callbacks=[progress_bar])\n",
    "    # Close progress bar\n",
    "    progress_bar.close()\n",
    "\n",
    "    best_params = study.best_params\n",
    "    best_value = study.best_value\n",
    "    attempt_stats = [(np.mean(scores), np.std(scores, ddof=1), scores) for scores in folds_scores]\n",
    "    best_attempt = sorted(attempt_stats, key=lambda x: (-x[0], x[1]))[0]\n",
    "\n",
    "    n = len(best_attempt[2])\n",
    "    z = 1.96  # For 95% confidence interval\n",
    "\n",
    "    # Calculate margin of error\n",
    "    margin_of_error = z * (best_attempt[1] / np.sqrt(n))\n",
    "    print(f\"Best hyperparameters for {model_name}: {best_params}\")\n",
    "    print(f\"Best F1 score for {model_name}: {best_value}\")\n",
    "    print(f\"Attempts Stats: Avg: {best_attempt[0]}, Margin: +-{margin_of_error}, STD: {best_attempt[1]}, Scores: {best_attempt[2]}\")\n",
    "    \n",
    "\n",
    "    return best_params, best_value, margin_of_error, best_attempt[1], best_attempt[2]"
   ]
  },
  {
   "cell_type": "markdown",
   "metadata": {
    "collapsed": false
   },
   "source": [
    "# Optimize models"
   ]
  },
  {
   "cell_type": "markdown",
   "metadata": {
    "collapsed": false
   },
   "source": [
    "## Create Datasets"
   ]
  },
  {
   "cell_type": "code",
   "execution_count": null,
   "metadata": {
    "id": "7ekXAYOkw0w_"
   },
   "outputs": [
    {
     "name": "stdout",
     "output_type": "stream",
     "text": [
      "[Dataset Status]: Loading the dataset...\n"
     ]
    },
    {
     "name": "stderr",
     "output_type": "stream",
     "text": [
      "Preprocessing comments: 100%|██████████| 30137/30137 [00:01<00:00, 29560.78it/s]\n"
     ]
    },
    {
     "name": "stdout",
     "output_type": "stream",
     "text": [
      "dataset size:  29705\n",
      "[Dataset Status]: No Augmentation was chosen (augmentation/ adversation ratio == 0 or no augmented_classes). Moving on...\n",
      "[EmbeddingDataset]: Loading precomputed embeddings from C:\\Users\\shaha\\Projects\\Python Projects\\Israel-Palestine-Political-Affiliation-Text-Classification\\Data\\subset TRAIN_augmentation=0_embeddings_distilbert.pkl...\n",
      "[Dataset Status]: Loading the dataset...\n",
      "[Dataset Status]: Undersampeling the dataset...\n"
     ]
    },
    {
     "name": "stderr",
     "output_type": "stream",
     "text": [
      "Preprocessing comments: 100%|██████████| 14800/14800 [00:00<00:00, 21999.97it/s]\n"
     ]
    },
    {
     "name": "stdout",
     "output_type": "stream",
     "text": [
      "dataset size:  14681\n",
      "[Dataset Status]: No Augmentation was chosen (augmentation/ adversation ratio == 0 or no augmented_classes). Moving on...\n",
      "[EmbeddingDataset]: Loading precomputed embeddings from C:\\Users\\shaha\\Projects\\Python Projects\\Israel-Palestine-Political-Affiliation-Text-Classification\\Data\\subset TRAIN_undersampled_embeddings_distilbert.pkl...\n",
      "[Dataset Status]: Loading the dataset...\n"
     ]
    },
    {
     "name": "stderr",
     "output_type": "stream",
     "text": [
      "Preprocessing comments: 100%|██████████| 30137/30137 [00:01<00:00, 28115.81it/s]\n"
     ]
    },
    {
     "name": "stdout",
     "output_type": "stream",
     "text": [
      "dataset size:  29705\n"
     ]
    },
    {
     "name": "stderr",
     "output_type": "stream",
     "text": [
      "Augmenting data:   0%|          | 0/29705 [00:00<?, ?row/s]"
     ]
    }
   ],
   "source": [
    "'''\n",
    "Create 6 different datasets:\n",
    "augmented dataset - with distilbert embedding or tfidf, \n",
    "undersampled balanced dataset - with distilbert embedding or tfidf,\n",
    "regular dataset - with distilbert embedding or tfidf\n",
    "'''\n",
    "bert_embedding_no_augmentation_data = EmbeddingDataset(\n",
    "    data_path=DATA_PATH,\n",
    "    subset=SUBSET,\n",
    "    id_column_idx=ID_COLUMN_IDX,\n",
    "    comment_column_idx=COMMENT_COLUMN_IDX,\n",
    "    label_column_idx=LABEL_COLUMN_IDX,\n",
    "    subset_column_idx=SUBSET_COLUMN_IDX,\n",
    "    augmented_classes=AUGMENTED_CLASSES,\n",
    "    augmentation_ratio=0,\n",
    "    augmentation_methods=AUGMENTATION_METHODS,\n",
    "    adversation_ratio = ADVERSATION_RATIO,\n",
    "    undersampling_targets={},\n",
    "    embedder=Embedder(),\n",
    "    embedding_method='distilbert'\n",
    ")\n",
    "\n",
    "bert_embedding_undersampled_data = EmbeddingDataset(\n",
    "    data_path=DATA_PATH,\n",
    "    subset=SUBSET,\n",
    "    id_column_idx=ID_COLUMN_IDX,\n",
    "    comment_column_idx=COMMENT_COLUMN_IDX,\n",
    "    label_column_idx=LABEL_COLUMN_IDX,\n",
    "    subset_column_idx=SUBSET_COLUMN_IDX,\n",
    "    augmented_classes=AUGMENTED_CLASSES,\n",
    "    augmentation_ratio=0,\n",
    "    augmentation_methods=AUGMENTATION_METHODS,\n",
    "    adversation_ratio = ADVERSATION_RATIO,\n",
    "    undersampling_targets=UNDERSAMPLING_TARGETS,\n",
    "    embedder=Embedder(),\n",
    "    embedding_method='distilbert'\n",
    ")\n",
    "\n",
    "bert_embedding_with_augmentation_data = EmbeddingDataset(\n",
    "    data_path=DATA_PATH,\n",
    "    subset=SUBSET,\n",
    "    id_column_idx=ID_COLUMN_IDX,\n",
    "    comment_column_idx=COMMENT_COLUMN_IDX,\n",
    "    label_column_idx=LABEL_COLUMN_IDX,\n",
    "    subset_column_idx=SUBSET_COLUMN_IDX,\n",
    "    augmented_classes=AUGMENTED_CLASSES,\n",
    "    augmentation_ratio=3,\n",
    "    augmentation_methods=AUGMENTATION_METHODS,\n",
    "    adversation_ratio = ADVERSATION_RATIO,\n",
    "    undersampling_targets={},\n",
    "    embedder=Embedder(),\n",
    "    embedding_method='distilbert'\n",
    ")\n",
    "\n",
    "tfidf_embedding_no_augmentation_data = EmbeddingDataset(\n",
    "    data_path=DATA_PATH,\n",
    "    subset=SUBSET,\n",
    "    id_column_idx=ID_COLUMN_IDX,\n",
    "    comment_column_idx=COMMENT_COLUMN_IDX,\n",
    "    label_column_idx=LABEL_COLUMN_IDX,\n",
    "    subset_column_idx=SUBSET_COLUMN_IDX,\n",
    "    augmented_classes=AUGMENTED_CLASSES,\n",
    "    augmentation_ratio=0,\n",
    "    augmentation_methods=AUGMENTATION_METHODS,\n",
    "    adversation_ratio = ADVERSATION_RATIO,\n",
    "    undersampling_targets={},\n",
    "    embedder=Embedder(),\n",
    "    embedding_method='tf-idf'\n",
    ")\n",
    "\n",
    "tfidf_embedding_undersampled_data = EmbeddingDataset(\n",
    "    data_path=DATA_PATH,\n",
    "    subset=SUBSET,\n",
    "    id_column_idx=ID_COLUMN_IDX,\n",
    "    comment_column_idx=COMMENT_COLUMN_IDX,\n",
    "    label_column_idx=LABEL_COLUMN_IDX,\n",
    "    subset_column_idx=SUBSET_COLUMN_IDX,\n",
    "    augmented_classes=AUGMENTED_CLASSES,\n",
    "    augmentation_ratio=0,\n",
    "    augmentation_methods=AUGMENTATION_METHODS,\n",
    "    adversation_ratio = ADVERSATION_RATIO,\n",
    "    undersampling_targets=UNDERSAMPLING_TARGETS,\n",
    "    embedder=Embedder(),\n",
    "    embedding_method='tf-idf'\n",
    ")\n",
    "\n",
    "tfidf_embedding_with_augmentation_data = EmbeddingDataset(\n",
    "    data_path=DATA_PATH,\n",
    "    subset=SUBSET,\n",
    "    id_column_idx=ID_COLUMN_IDX,\n",
    "    comment_column_idx=COMMENT_COLUMN_IDX,\n",
    "    label_column_idx=LABEL_COLUMN_IDX,\n",
    "    subset_column_idx=SUBSET_COLUMN_IDX,\n",
    "    augmented_classes=AUGMENTED_CLASSES,\n",
    "    augmentation_ratio=3,\n",
    "    augmentation_methods=AUGMENTATION_METHODS,\n",
    "    adversation_ratio = ADVERSATION_RATIO,\n",
    "    undersampling_targets={},\n",
    "    embedder=Embedder(),\n",
    "    embedding_method='tf-idf'\n",
    ")\n",
    "\n",
    "# Get X,y\n",
    "X_bert_no_augmentation, y_bert_no_augmentation = bert_embedding_no_augmentation_data.embeddings, bert_embedding_no_augmentation_data.labels\n",
    "X_bert_undersampled, y_bert_undersampled = bert_embedding_undersampled_data.embeddings, bert_embedding_undersampled_data.labels\n",
    "X_bert_with_augmentation, y_bert_with_augmentation = bert_embedding_with_augmentation_data.embeddings, bert_embedding_with_augmentation_data.labels\n",
    "X_tfidf_no_augmentation, y_tfidf_no_augmentation = tfidf_embedding_no_augmentation_data.embeddings, tfidf_embedding_no_augmentation_data.labels\n",
    "X_tfidf_undersampled, y_tfidf_undersampled = tfidf_embedding_undersampled_data.embeddings, tfidf_embedding_undersampled_data.labels\n",
    "X_tfidf_with_augmentation, y_tfidf_with_augmentation = tfidf_embedding_with_augmentation_data.embeddings, tfidf_embedding_with_augmentation_data.labels"
   ]
  },
  {
   "cell_type": "markdown",
   "metadata": {
    "collapsed": false
   },
   "source": [
    "## Logistic Regression"
   ]
  },
  {
   "cell_type": "code",
   "execution_count": 30,
   "metadata": {
    "collapsed": false
   },
   "outputs": [
    {
     "name": "stderr",
     "output_type": "stream",
     "text": [
      "[I 2025-01-24 14:30:18,611] A new study created in memory with name: no-name-5a989953-dd4b-4726-8b5a-d79b67de0725\n",
      "\n",
      "\n",
      "\n",
      "\n",
      "\n",
      "\n",
      "\u001b[A\u001b[A\u001b[A\u001b[A\u001b[A\u001b[A[I 2025-01-24 14:30:49,500] Trial 0 finished with value: 0.33437908292914587 and parameters: {'num_epochs': 18, 'learning_rate': 0.0001253244019953191, 'weight_decay': 0.00019306404323714608}. Best is trial 0 with value: 0.33437908292914587.\n",
      "\n",
      "\n",
      "\n",
      "\n",
      "\n",
      "\n",
      "\u001b[A\u001b[A\u001b[A\u001b[A\u001b[A\u001b[A[W 2025-01-24 14:31:08,289] Trial 1 failed with parameters: {'num_epochs': 12, 'learning_rate': 0.0002740604354304378, 'weight_decay': 0.0006010989363749924} because of the following error: KeyboardInterrupt().\n",
      "Traceback (most recent call last):\n",
      "  File \"c:\\Users\\shaha\\Projects\\Python Projects\\Israel-Palestine-Political-Affiliation-Text-Classification\\venv\\lib\\site-packages\\optuna\\study\\_optimize.py\", line 197, in _run_trial\n",
      "    value_or_values = func(trial)\n",
      "  File \"C:\\Users\\shaha\\AppData\\Local\\Temp\\ipykernel_11516\\1215731394.py\", line 121, in <lambda>\n",
      "    study.optimize(lambda trial: objective(trial, model_name, X, y, folds_scores), n_trials=n_trials, timeout=timout, callbacks=[progress_bar])\n",
      "  File \"C:\\Users\\shaha\\AppData\\Local\\Temp\\ipykernel_11516\\1215731394.py\", line 109, in objective\n",
      "    scores = cross_validation(model, X, y)\n",
      "  File \"C:\\Users\\shaha\\AppData\\Local\\Temp\\ipykernel_11516\\1215731394.py\", line 77, in cross_validation\n",
      "    estimator.fit(train)\n",
      "  File \"C:\\Users\\shaha\\Projects\\Python Projects\\Israel-Palestine-Political-Affiliation-Text-Classification\\classifiers.py\", line 114, in fit\n",
      "    self.optimizer.step()\n",
      "  File \"c:\\Users\\shaha\\Projects\\Python Projects\\Israel-Palestine-Political-Affiliation-Text-Classification\\venv\\lib\\site-packages\\torch\\optim\\optimizer.py\", line 469, in wrapper\n",
      "    with torch.autograd.profiler.record_function(profile_name):\n",
      "  File \"c:\\Users\\shaha\\Projects\\Python Projects\\Israel-Palestine-Political-Affiliation-Text-Classification\\venv\\lib\\site-packages\\torch\\autograd\\profiler.py\", line 688, in __enter__\n",
      "    self.record = torch.ops.profiler._record_function_enter_new(\n",
      "  File \"c:\\Users\\shaha\\Projects\\Python Projects\\Israel-Palestine-Political-Affiliation-Text-Classification\\venv\\lib\\site-packages\\torch\\_ops.py\", line 1061, in __call__\n",
      "    return self_._op(*args, **(kwargs or {}))\n",
      "KeyboardInterrupt\n",
      "[W 2025-01-24 14:31:08,325] Trial 1 failed with value None.\n"
     ]
    },
    {
     "ename": "KeyboardInterrupt",
     "evalue": "",
     "output_type": "error",
     "traceback": [
      "\u001b[1;31m---------------------------------------------------------------------------\u001b[0m",
      "\u001b[1;31mKeyboardInterrupt\u001b[0m                         Traceback (most recent call last)",
      "Cell \u001b[1;32mIn[30], line 2\u001b[0m\n\u001b[0;32m      1\u001b[0m lr_results \u001b[38;5;241m=\u001b[39m {}\n\u001b[1;32m----> 2\u001b[0m lr_results[\u001b[38;5;124m'\u001b[39m\u001b[38;5;124mbert_without_augmentation\u001b[39m\u001b[38;5;124m'\u001b[39m] \u001b[38;5;241m=\u001b[39m \u001b[43moptimize_model\u001b[49m\u001b[43m(\u001b[49m\u001b[38;5;124;43m'\u001b[39;49m\u001b[38;5;124;43mlogistic_regression\u001b[39;49m\u001b[38;5;124;43m'\u001b[39;49m\u001b[43m,\u001b[49m\u001b[43m \u001b[49m\u001b[43mX_bert_no_augmentation\u001b[49m\u001b[43m,\u001b[49m\u001b[43m \u001b[49m\u001b[43my_bert_no_augmentation\u001b[49m\u001b[43m,\u001b[49m\u001b[43m \u001b[49m\u001b[43mn_trials\u001b[49m\u001b[38;5;241;43m=\u001b[39;49m\u001b[38;5;241;43m3\u001b[39;49m\u001b[43m)\u001b[49m\n",
      "Cell \u001b[1;32mIn[27], line 121\u001b[0m, in \u001b[0;36moptimize_model\u001b[1;34m(model_name, X, y, n_trials, timout)\u001b[0m\n\u001b[0;32m    119\u001b[0m study \u001b[38;5;241m=\u001b[39m optuna\u001b[38;5;241m.\u001b[39mcreate_study(direction\u001b[38;5;241m=\u001b[39m\u001b[38;5;124m'\u001b[39m\u001b[38;5;124mmaximize\u001b[39m\u001b[38;5;124m'\u001b[39m)\n\u001b[0;32m    120\u001b[0m progress_bar \u001b[38;5;241m=\u001b[39m TqdmCallback(n_trials)\n\u001b[1;32m--> 121\u001b[0m \u001b[43mstudy\u001b[49m\u001b[38;5;241;43m.\u001b[39;49m\u001b[43moptimize\u001b[49m\u001b[43m(\u001b[49m\u001b[38;5;28;43;01mlambda\u001b[39;49;00m\u001b[43m \u001b[49m\u001b[43mtrial\u001b[49m\u001b[43m:\u001b[49m\u001b[43m \u001b[49m\u001b[43mobjective\u001b[49m\u001b[43m(\u001b[49m\u001b[43mtrial\u001b[49m\u001b[43m,\u001b[49m\u001b[43m \u001b[49m\u001b[43mmodel_name\u001b[49m\u001b[43m,\u001b[49m\u001b[43m \u001b[49m\u001b[43mX\u001b[49m\u001b[43m,\u001b[49m\u001b[43m \u001b[49m\u001b[43my\u001b[49m\u001b[43m,\u001b[49m\u001b[43m \u001b[49m\u001b[43mfolds_scores\u001b[49m\u001b[43m)\u001b[49m\u001b[43m,\u001b[49m\u001b[43m \u001b[49m\u001b[43mn_trials\u001b[49m\u001b[38;5;241;43m=\u001b[39;49m\u001b[43mn_trials\u001b[49m\u001b[43m,\u001b[49m\u001b[43m \u001b[49m\u001b[43mtimeout\u001b[49m\u001b[38;5;241;43m=\u001b[39;49m\u001b[43mtimout\u001b[49m\u001b[43m,\u001b[49m\u001b[43m \u001b[49m\u001b[43mcallbacks\u001b[49m\u001b[38;5;241;43m=\u001b[39;49m\u001b[43m[\u001b[49m\u001b[43mprogress_bar\u001b[49m\u001b[43m]\u001b[49m\u001b[43m)\u001b[49m\n\u001b[0;32m    122\u001b[0m \u001b[38;5;66;03m# Close progress bar\u001b[39;00m\n\u001b[0;32m    123\u001b[0m progress_bar\u001b[38;5;241m.\u001b[39mclose()\n",
      "File \u001b[1;32mc:\\Users\\shaha\\Projects\\Python Projects\\Israel-Palestine-Political-Affiliation-Text-Classification\\venv\\lib\\site-packages\\optuna\\study\\study.py:475\u001b[0m, in \u001b[0;36mStudy.optimize\u001b[1;34m(self, func, n_trials, timeout, n_jobs, catch, callbacks, gc_after_trial, show_progress_bar)\u001b[0m\n\u001b[0;32m    373\u001b[0m \u001b[38;5;28;01mdef\u001b[39;00m\u001b[38;5;250m \u001b[39m\u001b[38;5;21moptimize\u001b[39m(\n\u001b[0;32m    374\u001b[0m     \u001b[38;5;28mself\u001b[39m,\n\u001b[0;32m    375\u001b[0m     func: ObjectiveFuncType,\n\u001b[1;32m   (...)\u001b[0m\n\u001b[0;32m    382\u001b[0m     show_progress_bar: \u001b[38;5;28mbool\u001b[39m \u001b[38;5;241m=\u001b[39m \u001b[38;5;28;01mFalse\u001b[39;00m,\n\u001b[0;32m    383\u001b[0m ) \u001b[38;5;241m-\u001b[39m\u001b[38;5;241m>\u001b[39m \u001b[38;5;28;01mNone\u001b[39;00m:\n\u001b[0;32m    384\u001b[0m \u001b[38;5;250m    \u001b[39m\u001b[38;5;124;03m\"\"\"Optimize an objective function.\u001b[39;00m\n\u001b[0;32m    385\u001b[0m \n\u001b[0;32m    386\u001b[0m \u001b[38;5;124;03m    Optimization is done by choosing a suitable set of hyperparameter values from a given\u001b[39;00m\n\u001b[1;32m   (...)\u001b[0m\n\u001b[0;32m    473\u001b[0m \u001b[38;5;124;03m            If nested invocation of this method occurs.\u001b[39;00m\n\u001b[0;32m    474\u001b[0m \u001b[38;5;124;03m    \"\"\"\u001b[39;00m\n\u001b[1;32m--> 475\u001b[0m     \u001b[43m_optimize\u001b[49m\u001b[43m(\u001b[49m\n\u001b[0;32m    476\u001b[0m \u001b[43m        \u001b[49m\u001b[43mstudy\u001b[49m\u001b[38;5;241;43m=\u001b[39;49m\u001b[38;5;28;43mself\u001b[39;49m\u001b[43m,\u001b[49m\n\u001b[0;32m    477\u001b[0m \u001b[43m        \u001b[49m\u001b[43mfunc\u001b[49m\u001b[38;5;241;43m=\u001b[39;49m\u001b[43mfunc\u001b[49m\u001b[43m,\u001b[49m\n\u001b[0;32m    478\u001b[0m \u001b[43m        \u001b[49m\u001b[43mn_trials\u001b[49m\u001b[38;5;241;43m=\u001b[39;49m\u001b[43mn_trials\u001b[49m\u001b[43m,\u001b[49m\n\u001b[0;32m    479\u001b[0m \u001b[43m        \u001b[49m\u001b[43mtimeout\u001b[49m\u001b[38;5;241;43m=\u001b[39;49m\u001b[43mtimeout\u001b[49m\u001b[43m,\u001b[49m\n\u001b[0;32m    480\u001b[0m \u001b[43m        \u001b[49m\u001b[43mn_jobs\u001b[49m\u001b[38;5;241;43m=\u001b[39;49m\u001b[43mn_jobs\u001b[49m\u001b[43m,\u001b[49m\n\u001b[0;32m    481\u001b[0m \u001b[43m        \u001b[49m\u001b[43mcatch\u001b[49m\u001b[38;5;241;43m=\u001b[39;49m\u001b[38;5;28;43mtuple\u001b[39;49m\u001b[43m(\u001b[49m\u001b[43mcatch\u001b[49m\u001b[43m)\u001b[49m\u001b[43m \u001b[49m\u001b[38;5;28;43;01mif\u001b[39;49;00m\u001b[43m \u001b[49m\u001b[38;5;28;43misinstance\u001b[39;49m\u001b[43m(\u001b[49m\u001b[43mcatch\u001b[49m\u001b[43m,\u001b[49m\u001b[43m \u001b[49m\u001b[43mIterable\u001b[49m\u001b[43m)\u001b[49m\u001b[43m \u001b[49m\u001b[38;5;28;43;01melse\u001b[39;49;00m\u001b[43m \u001b[49m\u001b[43m(\u001b[49m\u001b[43mcatch\u001b[49m\u001b[43m,\u001b[49m\u001b[43m)\u001b[49m\u001b[43m,\u001b[49m\n\u001b[0;32m    482\u001b[0m \u001b[43m        \u001b[49m\u001b[43mcallbacks\u001b[49m\u001b[38;5;241;43m=\u001b[39;49m\u001b[43mcallbacks\u001b[49m\u001b[43m,\u001b[49m\n\u001b[0;32m    483\u001b[0m \u001b[43m        \u001b[49m\u001b[43mgc_after_trial\u001b[49m\u001b[38;5;241;43m=\u001b[39;49m\u001b[43mgc_after_trial\u001b[49m\u001b[43m,\u001b[49m\n\u001b[0;32m    484\u001b[0m \u001b[43m        \u001b[49m\u001b[43mshow_progress_bar\u001b[49m\u001b[38;5;241;43m=\u001b[39;49m\u001b[43mshow_progress_bar\u001b[49m\u001b[43m,\u001b[49m\n\u001b[0;32m    485\u001b[0m \u001b[43m    \u001b[49m\u001b[43m)\u001b[49m\n",
      "File \u001b[1;32mc:\\Users\\shaha\\Projects\\Python Projects\\Israel-Palestine-Political-Affiliation-Text-Classification\\venv\\lib\\site-packages\\optuna\\study\\_optimize.py:63\u001b[0m, in \u001b[0;36m_optimize\u001b[1;34m(study, func, n_trials, timeout, n_jobs, catch, callbacks, gc_after_trial, show_progress_bar)\u001b[0m\n\u001b[0;32m     61\u001b[0m \u001b[38;5;28;01mtry\u001b[39;00m:\n\u001b[0;32m     62\u001b[0m     \u001b[38;5;28;01mif\u001b[39;00m n_jobs \u001b[38;5;241m==\u001b[39m \u001b[38;5;241m1\u001b[39m:\n\u001b[1;32m---> 63\u001b[0m         \u001b[43m_optimize_sequential\u001b[49m\u001b[43m(\u001b[49m\n\u001b[0;32m     64\u001b[0m \u001b[43m            \u001b[49m\u001b[43mstudy\u001b[49m\u001b[43m,\u001b[49m\n\u001b[0;32m     65\u001b[0m \u001b[43m            \u001b[49m\u001b[43mfunc\u001b[49m\u001b[43m,\u001b[49m\n\u001b[0;32m     66\u001b[0m \u001b[43m            \u001b[49m\u001b[43mn_trials\u001b[49m\u001b[43m,\u001b[49m\n\u001b[0;32m     67\u001b[0m \u001b[43m            \u001b[49m\u001b[43mtimeout\u001b[49m\u001b[43m,\u001b[49m\n\u001b[0;32m     68\u001b[0m \u001b[43m            \u001b[49m\u001b[43mcatch\u001b[49m\u001b[43m,\u001b[49m\n\u001b[0;32m     69\u001b[0m \u001b[43m            \u001b[49m\u001b[43mcallbacks\u001b[49m\u001b[43m,\u001b[49m\n\u001b[0;32m     70\u001b[0m \u001b[43m            \u001b[49m\u001b[43mgc_after_trial\u001b[49m\u001b[43m,\u001b[49m\n\u001b[0;32m     71\u001b[0m \u001b[43m            \u001b[49m\u001b[43mreseed_sampler_rng\u001b[49m\u001b[38;5;241;43m=\u001b[39;49m\u001b[38;5;28;43;01mFalse\u001b[39;49;00m\u001b[43m,\u001b[49m\n\u001b[0;32m     72\u001b[0m \u001b[43m            \u001b[49m\u001b[43mtime_start\u001b[49m\u001b[38;5;241;43m=\u001b[39;49m\u001b[38;5;28;43;01mNone\u001b[39;49;00m\u001b[43m,\u001b[49m\n\u001b[0;32m     73\u001b[0m \u001b[43m            \u001b[49m\u001b[43mprogress_bar\u001b[49m\u001b[38;5;241;43m=\u001b[39;49m\u001b[43mprogress_bar\u001b[49m\u001b[43m,\u001b[49m\n\u001b[0;32m     74\u001b[0m \u001b[43m        \u001b[49m\u001b[43m)\u001b[49m\n\u001b[0;32m     75\u001b[0m     \u001b[38;5;28;01melse\u001b[39;00m:\n\u001b[0;32m     76\u001b[0m         \u001b[38;5;28;01mif\u001b[39;00m n_jobs \u001b[38;5;241m==\u001b[39m \u001b[38;5;241m-\u001b[39m\u001b[38;5;241m1\u001b[39m:\n",
      "File \u001b[1;32mc:\\Users\\shaha\\Projects\\Python Projects\\Israel-Palestine-Political-Affiliation-Text-Classification\\venv\\lib\\site-packages\\optuna\\study\\_optimize.py:160\u001b[0m, in \u001b[0;36m_optimize_sequential\u001b[1;34m(study, func, n_trials, timeout, catch, callbacks, gc_after_trial, reseed_sampler_rng, time_start, progress_bar)\u001b[0m\n\u001b[0;32m    157\u001b[0m         \u001b[38;5;28;01mbreak\u001b[39;00m\n\u001b[0;32m    159\u001b[0m \u001b[38;5;28;01mtry\u001b[39;00m:\n\u001b[1;32m--> 160\u001b[0m     frozen_trial \u001b[38;5;241m=\u001b[39m \u001b[43m_run_trial\u001b[49m\u001b[43m(\u001b[49m\u001b[43mstudy\u001b[49m\u001b[43m,\u001b[49m\u001b[43m \u001b[49m\u001b[43mfunc\u001b[49m\u001b[43m,\u001b[49m\u001b[43m \u001b[49m\u001b[43mcatch\u001b[49m\u001b[43m)\u001b[49m\n\u001b[0;32m    161\u001b[0m \u001b[38;5;28;01mfinally\u001b[39;00m:\n\u001b[0;32m    162\u001b[0m     \u001b[38;5;66;03m# The following line mitigates memory problems that can be occurred in some\u001b[39;00m\n\u001b[0;32m    163\u001b[0m     \u001b[38;5;66;03m# environments (e.g., services that use computing containers such as GitHub Actions).\u001b[39;00m\n\u001b[0;32m    164\u001b[0m     \u001b[38;5;66;03m# Please refer to the following PR for further details:\u001b[39;00m\n\u001b[0;32m    165\u001b[0m     \u001b[38;5;66;03m# https://github.com/optuna/optuna/pull/325.\u001b[39;00m\n\u001b[0;32m    166\u001b[0m     \u001b[38;5;28;01mif\u001b[39;00m gc_after_trial:\n",
      "File \u001b[1;32mc:\\Users\\shaha\\Projects\\Python Projects\\Israel-Palestine-Political-Affiliation-Text-Classification\\venv\\lib\\site-packages\\optuna\\study\\_optimize.py:248\u001b[0m, in \u001b[0;36m_run_trial\u001b[1;34m(study, func, catch)\u001b[0m\n\u001b[0;32m    241\u001b[0m         \u001b[38;5;28;01massert\u001b[39;00m \u001b[38;5;28;01mFalse\u001b[39;00m, \u001b[38;5;124m\"\u001b[39m\u001b[38;5;124mShould not reach.\u001b[39m\u001b[38;5;124m\"\u001b[39m\n\u001b[0;32m    243\u001b[0m \u001b[38;5;28;01mif\u001b[39;00m (\n\u001b[0;32m    244\u001b[0m     frozen_trial\u001b[38;5;241m.\u001b[39mstate \u001b[38;5;241m==\u001b[39m TrialState\u001b[38;5;241m.\u001b[39mFAIL\n\u001b[0;32m    245\u001b[0m     \u001b[38;5;129;01mand\u001b[39;00m func_err \u001b[38;5;129;01mis\u001b[39;00m \u001b[38;5;129;01mnot\u001b[39;00m \u001b[38;5;28;01mNone\u001b[39;00m\n\u001b[0;32m    246\u001b[0m     \u001b[38;5;129;01mand\u001b[39;00m \u001b[38;5;129;01mnot\u001b[39;00m \u001b[38;5;28misinstance\u001b[39m(func_err, catch)\n\u001b[0;32m    247\u001b[0m ):\n\u001b[1;32m--> 248\u001b[0m     \u001b[38;5;28;01mraise\u001b[39;00m func_err\n\u001b[0;32m    249\u001b[0m \u001b[38;5;28;01mreturn\u001b[39;00m frozen_trial\n",
      "File \u001b[1;32mc:\\Users\\shaha\\Projects\\Python Projects\\Israel-Palestine-Political-Affiliation-Text-Classification\\venv\\lib\\site-packages\\optuna\\study\\_optimize.py:197\u001b[0m, in \u001b[0;36m_run_trial\u001b[1;34m(study, func, catch)\u001b[0m\n\u001b[0;32m    195\u001b[0m \u001b[38;5;28;01mwith\u001b[39;00m get_heartbeat_thread(trial\u001b[38;5;241m.\u001b[39m_trial_id, study\u001b[38;5;241m.\u001b[39m_storage):\n\u001b[0;32m    196\u001b[0m     \u001b[38;5;28;01mtry\u001b[39;00m:\n\u001b[1;32m--> 197\u001b[0m         value_or_values \u001b[38;5;241m=\u001b[39m \u001b[43mfunc\u001b[49m\u001b[43m(\u001b[49m\u001b[43mtrial\u001b[49m\u001b[43m)\u001b[49m\n\u001b[0;32m    198\u001b[0m     \u001b[38;5;28;01mexcept\u001b[39;00m exceptions\u001b[38;5;241m.\u001b[39mTrialPruned \u001b[38;5;28;01mas\u001b[39;00m e:\n\u001b[0;32m    199\u001b[0m         \u001b[38;5;66;03m# TODO(mamu): Handle multi-objective cases.\u001b[39;00m\n\u001b[0;32m    200\u001b[0m         state \u001b[38;5;241m=\u001b[39m TrialState\u001b[38;5;241m.\u001b[39mPRUNED\n",
      "Cell \u001b[1;32mIn[27], line 121\u001b[0m, in \u001b[0;36moptimize_model.<locals>.<lambda>\u001b[1;34m(trial)\u001b[0m\n\u001b[0;32m    119\u001b[0m study \u001b[38;5;241m=\u001b[39m optuna\u001b[38;5;241m.\u001b[39mcreate_study(direction\u001b[38;5;241m=\u001b[39m\u001b[38;5;124m'\u001b[39m\u001b[38;5;124mmaximize\u001b[39m\u001b[38;5;124m'\u001b[39m)\n\u001b[0;32m    120\u001b[0m progress_bar \u001b[38;5;241m=\u001b[39m TqdmCallback(n_trials)\n\u001b[1;32m--> 121\u001b[0m study\u001b[38;5;241m.\u001b[39moptimize(\u001b[38;5;28;01mlambda\u001b[39;00m trial: \u001b[43mobjective\u001b[49m\u001b[43m(\u001b[49m\u001b[43mtrial\u001b[49m\u001b[43m,\u001b[49m\u001b[43m \u001b[49m\u001b[43mmodel_name\u001b[49m\u001b[43m,\u001b[49m\u001b[43m \u001b[49m\u001b[43mX\u001b[49m\u001b[43m,\u001b[49m\u001b[43m \u001b[49m\u001b[43my\u001b[49m\u001b[43m,\u001b[49m\u001b[43m \u001b[49m\u001b[43mfolds_scores\u001b[49m\u001b[43m)\u001b[49m, n_trials\u001b[38;5;241m=\u001b[39mn_trials, timeout\u001b[38;5;241m=\u001b[39mtimout, callbacks\u001b[38;5;241m=\u001b[39m[progress_bar])\n\u001b[0;32m    122\u001b[0m \u001b[38;5;66;03m# Close progress bar\u001b[39;00m\n\u001b[0;32m    123\u001b[0m progress_bar\u001b[38;5;241m.\u001b[39mclose()\n",
      "Cell \u001b[1;32mIn[27], line 109\u001b[0m, in \u001b[0;36mobjective\u001b[1;34m(trial, model_name, X, y, folds_scores)\u001b[0m\n\u001b[0;32m    106\u001b[0m model \u001b[38;5;241m=\u001b[39m Classifier(params, model_type\u001b[38;5;241m=\u001b[39mmodel_name, log\u001b[38;5;241m=\u001b[39m\u001b[38;5;28;01mFalse\u001b[39;00m)\n\u001b[0;32m    108\u001b[0m \u001b[38;5;66;03m# Perform cross validation\u001b[39;00m\n\u001b[1;32m--> 109\u001b[0m scores \u001b[38;5;241m=\u001b[39m \u001b[43mcross_validation\u001b[49m\u001b[43m(\u001b[49m\u001b[43mmodel\u001b[49m\u001b[43m,\u001b[49m\u001b[43m \u001b[49m\u001b[43mX\u001b[49m\u001b[43m,\u001b[49m\u001b[43m \u001b[49m\u001b[43my\u001b[49m\u001b[43m)\u001b[49m\n\u001b[0;32m    111\u001b[0m folds_scores\u001b[38;5;241m.\u001b[39mappend(scores)     \u001b[38;5;66;03m# Save scores for statistic tests\u001b[39;00m\n\u001b[0;32m    112\u001b[0m \u001b[38;5;28;01mreturn\u001b[39;00m np\u001b[38;5;241m.\u001b[39mmean(scores)\n",
      "Cell \u001b[1;32mIn[27], line 77\u001b[0m, in \u001b[0;36mcross_validation\u001b[1;34m(estimator, X, y, n_splits)\u001b[0m\n\u001b[0;32m     74\u001b[0m train \u001b[38;5;241m=\u001b[39m (train_dataloader, (x_train, y_train))\n\u001b[0;32m     75\u001b[0m val \u001b[38;5;241m=\u001b[39m (val_dataloader, (x_val, y_val))\n\u001b[1;32m---> 77\u001b[0m \u001b[43mestimator\u001b[49m\u001b[38;5;241;43m.\u001b[39;49m\u001b[43mfit\u001b[49m\u001b[43m(\u001b[49m\u001b[43mtrain\u001b[49m\u001b[43m)\u001b[49m\n\u001b[0;32m     78\u001b[0m pred \u001b[38;5;241m=\u001b[39m estimator\u001b[38;5;241m.\u001b[39mpredict(val)\n\u001b[0;32m     79\u001b[0m score \u001b[38;5;241m=\u001b[39m balanced_accuracy_score(y_val, pred)\n",
      "File \u001b[1;32m~\\Projects\\Python Projects\\Israel-Palestine-Political-Affiliation-Text-Classification\\classifiers.py:114\u001b[0m, in \u001b[0;36mClassifier.fit\u001b[1;34m(self, train_data_package)\u001b[0m\n\u001b[0;32m    112\u001b[0m     loss \u001b[38;5;241m=\u001b[39m \u001b[38;5;28mself\u001b[39m\u001b[38;5;241m.\u001b[39mcriterion(outputs\u001b[38;5;241m.\u001b[39msqueeze(), labels\u001b[38;5;241m.\u001b[39mlong())\n\u001b[0;32m    113\u001b[0m     loss\u001b[38;5;241m.\u001b[39mbackward()\n\u001b[1;32m--> 114\u001b[0m     \u001b[38;5;28;43mself\u001b[39;49m\u001b[38;5;241;43m.\u001b[39;49m\u001b[43moptimizer\u001b[49m\u001b[38;5;241;43m.\u001b[39;49m\u001b[43mstep\u001b[49m\u001b[43m(\u001b[49m\u001b[43m)\u001b[49m\n\u001b[0;32m    115\u001b[0m \u001b[38;5;28mself\u001b[39m\u001b[38;5;241m.\u001b[39mlog \u001b[38;5;129;01mand\u001b[39;00m \u001b[38;5;28mprint\u001b[39m(\u001b[38;5;124mf\u001b[39m\u001b[38;5;124m\"\u001b[39m\u001b[38;5;124mEpoch \u001b[39m\u001b[38;5;132;01m{\u001b[39;00mepoch\u001b[38;5;250m \u001b[39m\u001b[38;5;241m+\u001b[39m\u001b[38;5;250m \u001b[39m\u001b[38;5;241m1\u001b[39m\u001b[38;5;132;01m}\u001b[39;00m\u001b[38;5;124m: Training Loss = \u001b[39m\u001b[38;5;132;01m{\u001b[39;00mloss\u001b[38;5;241m.\u001b[39mitem()\u001b[38;5;132;01m}\u001b[39;00m\u001b[38;5;124m\"\u001b[39m)\n",
      "File \u001b[1;32mc:\\Users\\shaha\\Projects\\Python Projects\\Israel-Palestine-Political-Affiliation-Text-Classification\\venv\\lib\\site-packages\\torch\\optim\\optimizer.py:469\u001b[0m, in \u001b[0;36mOptimizer.profile_hook_step.<locals>.wrapper\u001b[1;34m(*args, **kwargs)\u001b[0m\n\u001b[0;32m    467\u001b[0m \u001b[38;5;28mself\u001b[39m \u001b[38;5;241m=\u001b[39m cast(Optimizer, \u001b[38;5;28mself\u001b[39m)\n\u001b[0;32m    468\u001b[0m profile_name \u001b[38;5;241m=\u001b[39m \u001b[38;5;124mf\u001b[39m\u001b[38;5;124m\"\u001b[39m\u001b[38;5;124mOptimizer.step#\u001b[39m\u001b[38;5;132;01m{\u001b[39;00m\u001b[38;5;28mself\u001b[39m\u001b[38;5;241m.\u001b[39m\u001b[38;5;18m__class__\u001b[39m\u001b[38;5;241m.\u001b[39m\u001b[38;5;18m__name__\u001b[39m\u001b[38;5;132;01m}\u001b[39;00m\u001b[38;5;124m.step\u001b[39m\u001b[38;5;124m\"\u001b[39m\n\u001b[1;32m--> 469\u001b[0m \u001b[38;5;28;01mwith\u001b[39;00m torch\u001b[38;5;241m.\u001b[39mautograd\u001b[38;5;241m.\u001b[39mprofiler\u001b[38;5;241m.\u001b[39mrecord_function(profile_name):\n\u001b[0;32m    470\u001b[0m     \u001b[38;5;66;03m# call optimizer step pre hooks\u001b[39;00m\n\u001b[0;32m    471\u001b[0m     \u001b[38;5;28;01mfor\u001b[39;00m pre_hook \u001b[38;5;129;01min\u001b[39;00m chain(\n\u001b[0;32m    472\u001b[0m         _global_optimizer_pre_hooks\u001b[38;5;241m.\u001b[39mvalues(),\n\u001b[0;32m    473\u001b[0m         \u001b[38;5;28mself\u001b[39m\u001b[38;5;241m.\u001b[39m_optimizer_step_pre_hooks\u001b[38;5;241m.\u001b[39mvalues(),\n\u001b[0;32m    474\u001b[0m     ):\n\u001b[0;32m    475\u001b[0m         result \u001b[38;5;241m=\u001b[39m pre_hook(\u001b[38;5;28mself\u001b[39m, args, kwargs)\n",
      "File \u001b[1;32mc:\\Users\\shaha\\Projects\\Python Projects\\Israel-Palestine-Political-Affiliation-Text-Classification\\venv\\lib\\site-packages\\torch\\autograd\\profiler.py:688\u001b[0m, in \u001b[0;36mrecord_function.__enter__\u001b[1;34m(self)\u001b[0m\n\u001b[0;32m    687\u001b[0m \u001b[38;5;28;01mdef\u001b[39;00m\u001b[38;5;250m \u001b[39m\u001b[38;5;21m__enter__\u001b[39m(\u001b[38;5;28mself\u001b[39m):\n\u001b[1;32m--> 688\u001b[0m     \u001b[38;5;28mself\u001b[39m\u001b[38;5;241m.\u001b[39mrecord \u001b[38;5;241m=\u001b[39m \u001b[43mtorch\u001b[49m\u001b[38;5;241;43m.\u001b[39;49m\u001b[43mops\u001b[49m\u001b[38;5;241;43m.\u001b[39;49m\u001b[43mprofiler\u001b[49m\u001b[38;5;241;43m.\u001b[39;49m\u001b[43m_record_function_enter_new\u001b[49m\u001b[43m(\u001b[49m\n\u001b[0;32m    689\u001b[0m \u001b[43m        \u001b[49m\u001b[38;5;28;43mself\u001b[39;49m\u001b[38;5;241;43m.\u001b[39;49m\u001b[43mname\u001b[49m\u001b[43m,\u001b[49m\u001b[43m \u001b[49m\u001b[38;5;28;43mself\u001b[39;49m\u001b[38;5;241;43m.\u001b[39;49m\u001b[43margs\u001b[49m\n\u001b[0;32m    690\u001b[0m \u001b[43m    \u001b[49m\u001b[43m)\u001b[49m\n\u001b[0;32m    691\u001b[0m     \u001b[38;5;28;01mreturn\u001b[39;00m \u001b[38;5;28mself\u001b[39m\n",
      "File \u001b[1;32mc:\\Users\\shaha\\Projects\\Python Projects\\Israel-Palestine-Political-Affiliation-Text-Classification\\venv\\lib\\site-packages\\torch\\_ops.py:1061\u001b[0m, in \u001b[0;36mOpOverloadPacket.__call__\u001b[1;34m(self_, *args, **kwargs)\u001b[0m\n\u001b[0;32m   1059\u001b[0m \u001b[38;5;28;01mif\u001b[39;00m self_\u001b[38;5;241m.\u001b[39m_has_torchbind_op_overload \u001b[38;5;129;01mand\u001b[39;00m _must_dispatch_in_python(args, kwargs):\n\u001b[0;32m   1060\u001b[0m     \u001b[38;5;28;01mreturn\u001b[39;00m _call_overload_packet_from_python(self_, args, kwargs)\n\u001b[1;32m-> 1061\u001b[0m \u001b[38;5;28;01mreturn\u001b[39;00m \u001b[43mself_\u001b[49m\u001b[38;5;241;43m.\u001b[39;49m\u001b[43m_op\u001b[49m\u001b[43m(\u001b[49m\u001b[38;5;241;43m*\u001b[39;49m\u001b[43margs\u001b[49m\u001b[43m,\u001b[49m\u001b[43m \u001b[49m\u001b[38;5;241;43m*\u001b[39;49m\u001b[38;5;241;43m*\u001b[39;49m\u001b[43m(\u001b[49m\u001b[43mkwargs\u001b[49m\u001b[43m \u001b[49m\u001b[38;5;129;43;01mor\u001b[39;49;00m\u001b[43m \u001b[49m\u001b[43m{\u001b[49m\u001b[43m}\u001b[49m\u001b[43m)\u001b[49m\u001b[43m)\u001b[49m\n",
      "\u001b[1;31mKeyboardInterrupt\u001b[0m: "
     ]
    }
   ],
   "source": [
    "lr_results = {}\n",
    "lr_results['bert_without_augmentation'] = optimize_model('logistic_regression', X_bert_no_augmentation, y_bert_no_augmentation)"
   ]
  },
  {
   "cell_type": "code",
   "execution_count": 21,
   "metadata": {},
   "outputs": [
    {
     "name": "stderr",
     "output_type": "stream",
     "text": [
      "[I 2025-01-24 13:52:04,417] A new study created in memory with name: no-name-eaba14b0-629f-4861-ab7f-f1dcb321dce1\n",
      "\n",
      "\n",
      "\n",
      "\n",
      "\n",
      "\u001b[A\u001b[A\u001b[A\u001b[A\u001b[A[I 2025-01-24 13:52:15,434] Trial 0 finished with value: 0.3323978621546794 and parameters: {'num_epochs': 9, 'learning_rate': 0.00032110600290645734, 'weight_decay': 0.00019581136615241164}. Best is trial 0 with value: 0.3323978621546794.\n",
      "\n",
      "\n",
      "\n",
      "\n",
      "\n",
      "\u001b[A\u001b[A\u001b[A\u001b[A\u001b[A[I 2025-01-24 13:52:34,354] Trial 1 finished with value: 0.33367457009390594 and parameters: {'num_epochs': 16, 'learning_rate': 0.0009298005070937324, 'weight_decay': 4.3015582155523136e-05}. Best is trial 1 with value: 0.33367457009390594.\n",
      "\n",
      "\n",
      "\n",
      "\n",
      "\n",
      "\u001b[A\u001b[A\u001b[A\u001b[A\u001b[A[I 2025-01-24 13:52:54,885] Trial 2 finished with value: 0.33523652991258024 and parameters: {'num_epochs': 19, 'learning_rate': 0.00039844935048623454, 'weight_decay': 3.2260911396490585e-05}. Best is trial 2 with value: 0.33523652991258024.\n",
      "\n",
      "\n",
      "\n",
      "\n",
      "\n",
      "\u001b[A\u001b[A\u001b[A\u001b[A\u001b[A[I 2025-01-24 13:53:07,001] Trial 3 finished with value: 0.33126628010689796 and parameters: {'num_epochs': 11, 'learning_rate': 0.00031984590290348594, 'weight_decay': 0.00024167223588381114}. Best is trial 2 with value: 0.33523652991258024.\n",
      "\n",
      "\n",
      "\n",
      "\n",
      "\n",
      "\u001b[A\u001b[A\u001b[A\u001b[A\u001b[A[I 2025-01-24 13:53:15,853] Trial 4 finished with value: 0.3337623946806585 and parameters: {'num_epochs': 8, 'learning_rate': 0.00038001190327226794, 'weight_decay': 2.292169825446433e-05}. Best is trial 2 with value: 0.33523652991258024.\n",
      "\n",
      "\n",
      "\n",
      "\n",
      "\n",
      "\u001b[A\u001b[A\u001b[A\u001b[A\u001b[A[I 2025-01-24 13:53:41,107] Trial 5 finished with value: 0.32526503513634675 and parameters: {'num_epochs': 16, 'learning_rate': 1.5152710037807599e-05, 'weight_decay': 0.00019650661202648742}. Best is trial 2 with value: 0.33523652991258024.\n",
      "\n",
      "\n",
      "\n",
      "\n",
      "\n",
      "\u001b[A\u001b[A\u001b[A\u001b[A\u001b[A[I 2025-01-24 13:54:06,351] Trial 6 finished with value: 0.33058467685345294 and parameters: {'num_epochs': 16, 'learning_rate': 1.2754542288053762e-05, 'weight_decay': 4.550742819454359e-05}. Best is trial 2 with value: 0.33523652991258024.\n",
      "\n",
      "\n",
      "\n",
      "\n",
      "\n",
      "\u001b[A\u001b[A\u001b[A\u001b[A\u001b[A[I 2025-01-24 13:54:31,109] Trial 7 finished with value: 0.3341578378957499 and parameters: {'num_epochs': 18, 'learning_rate': 1.5135504382434427e-05, 'weight_decay': 1.703545531936163e-05}. Best is trial 2 with value: 0.33523652991258024.\n",
      "\n",
      "\n",
      "\n",
      "\n",
      "\n",
      "\u001b[A\u001b[A\u001b[A\u001b[A\u001b[A[I 2025-01-24 13:54:56,032] Trial 8 finished with value: 0.33700093949826976 and parameters: {'num_epochs': 19, 'learning_rate': 3.896232888555642e-05, 'weight_decay': 1.037622336324651e-05}. Best is trial 8 with value: 0.33700093949826976.\n",
      "\n",
      "\n",
      "\n",
      "\n",
      "\n",
      "\u001b[A\u001b[A\u001b[A\u001b[A\u001b[A[I 2025-01-24 13:55:21,012] Trial 9 finished with value: 0.335193162657264 and parameters: {'num_epochs': 20, 'learning_rate': 0.00013431044504357137, 'weight_decay': 1.8693643619316763e-05}. Best is trial 8 with value: 0.33700093949826976.\n",
      "\n",
      "\n",
      "\n",
      "\n",
      "\n",
      "100%|██████████| 10/10 [03:16<00:00, 19.66s/it]"
     ]
    },
    {
     "name": "stdout",
     "output_type": "stream",
     "text": [
      "Best hyperparameters for logistic_regression: {'num_epochs': 19, 'learning_rate': 3.896232888555642e-05, 'weight_decay': 1.037622336324651e-05}\n",
      "Best F1 score for logistic_regression: 0.33700093949826976\n",
      "Attempts Stats: Avg: 0.33700093949826976, Margin: +-0.007789072358673653, STD: 0.00888617105900965, Scores: [0.3292349832958081, 0.3501651667563103, 0.3282524424356439, 0.33845135123776643, 0.33890075376582024]\n"
     ]
    },
    {
     "name": "stderr",
     "output_type": "stream",
     "text": [
      "\n"
     ]
    }
   ],
   "source": [
    "lr_results['bert_with_undersampling'] = optimize_model('logistic_regression', X_bert_undersampled, y_bert_undersampled)"
   ]
  },
  {
   "cell_type": "code",
   "execution_count": 22,
   "metadata": {},
   "outputs": [
    {
     "name": "stderr",
     "output_type": "stream",
     "text": [
      "[I 2025-01-24 13:55:21,033] A new study created in memory with name: no-name-65bba1c6-3157-4978-88ed-25a4e0b5e8ee\n",
      "\n",
      "\n",
      "\n",
      "\n",
      "\n",
      "\u001b[A\u001b[A\u001b[A\u001b[A\u001b[A[I 2025-01-24 13:56:34,157] Trial 0 finished with value: 0.33099646602184657 and parameters: {'num_epochs': 14, 'learning_rate': 3.5303152403258176e-05, 'weight_decay': 0.0007984387593372948}. Best is trial 0 with value: 0.33099646602184657.\n",
      "\n",
      "\n",
      "\n",
      "\n",
      "\n",
      "\u001b[A\u001b[A\u001b[A\u001b[A\u001b[A[I 2025-01-24 13:57:39,430] Trial 1 finished with value: 0.33709822922674665 and parameters: {'num_epochs': 13, 'learning_rate': 0.00032405256036654615, 'weight_decay': 0.00015860752822922895}. Best is trial 1 with value: 0.33709822922674665.\n",
      "\n",
      "\n",
      "\n",
      "\n",
      "\n",
      "\u001b[A\u001b[A\u001b[A\u001b[A\u001b[A[I 2025-01-24 13:58:25,712] Trial 2 finished with value: 0.3326499984888184 and parameters: {'num_epochs': 9, 'learning_rate': 4.5787693431730284e-05, 'weight_decay': 0.0007112206304118288}. Best is trial 1 with value: 0.33709822922674665.\n",
      "\n",
      "\n",
      "\n",
      "\n",
      "\n",
      "\u001b[A\u001b[A\u001b[A\u001b[A\u001b[A[I 2025-01-24 13:58:57,217] Trial 3 finished with value: 0.3331687919273835 and parameters: {'num_epochs': 5, 'learning_rate': 7.52048955841498e-05, 'weight_decay': 0.0002456484382474983}. Best is trial 1 with value: 0.33709822922674665.\n",
      "\n",
      "\n",
      "\n",
      "\n",
      "\n",
      "\u001b[A\u001b[A\u001b[A\u001b[A\u001b[A[I 2025-01-24 14:00:17,985] Trial 4 finished with value: 0.33338980817300656 and parameters: {'num_epochs': 16, 'learning_rate': 0.0003739939222331458, 'weight_decay': 0.0006159181045802977}. Best is trial 1 with value: 0.33709822922674665.\n",
      "\n",
      "\n",
      "\n",
      "\n",
      "\n",
      "\u001b[A\u001b[A\u001b[A\u001b[A\u001b[A[I 2025-01-24 14:01:46,369] Trial 5 finished with value: 0.3306998785884654 and parameters: {'num_epochs': 18, 'learning_rate': 0.00023891304861676878, 'weight_decay': 1.6759849534308152e-05}. Best is trial 1 with value: 0.33709822922674665.\n",
      "\n",
      "\n",
      "\n",
      "\n",
      "\n",
      "\u001b[A\u001b[A\u001b[A\u001b[A\u001b[A[I 2025-01-24 14:03:00,939] Trial 6 finished with value: 0.33295147208511583 and parameters: {'num_epochs': 15, 'learning_rate': 2.021042151758412e-05, 'weight_decay': 0.0002250487750767525}. Best is trial 1 with value: 0.33709822922674665.\n",
      "\n",
      "\n",
      "\n",
      "\n",
      "\n",
      "\u001b[A\u001b[A\u001b[A\u001b[A\u001b[A[I 2025-01-24 14:04:21,838] Trial 7 finished with value: 0.33502689167581434 and parameters: {'num_epochs': 16, 'learning_rate': 9.978646197034794e-05, 'weight_decay': 0.0001932651344678771}. Best is trial 1 with value: 0.33709822922674665.\n",
      "\n",
      "\n",
      "\n",
      "\n",
      "\n",
      "\u001b[A\u001b[A\u001b[A\u001b[A\u001b[A[I 2025-01-24 14:05:06,826] Trial 8 finished with value: 0.33028122998354803 and parameters: {'num_epochs': 9, 'learning_rate': 2.517828981302744e-05, 'weight_decay': 1.3480300222647893e-05}. Best is trial 1 with value: 0.33709822922674665.\n",
      "\n",
      "\n",
      "\n",
      "\n",
      "\n",
      "\u001b[A\u001b[A\u001b[A\u001b[A\u001b[A[I 2025-01-24 14:06:46,074] Trial 9 finished with value: 0.33308690350598996 and parameters: {'num_epochs': 20, 'learning_rate': 0.00010444448097076256, 'weight_decay': 1.2363600264984947e-05}. Best is trial 1 with value: 0.33709822922674665.\n",
      "\n",
      "\n",
      "\n",
      "\n",
      "\n",
      "100%|██████████| 10/10 [11:25<00:00, 68.50s/it]"
     ]
    },
    {
     "name": "stdout",
     "output_type": "stream",
     "text": [
      "Best hyperparameters for logistic_regression: {'num_epochs': 13, 'learning_rate': 0.00032405256036654615, 'weight_decay': 0.00015860752822922895}\n",
      "Best F1 score for logistic_regression: 0.33709822922674665\n",
      "Attempts Stats: Avg: 0.33709822922674665, Margin: +-0.004013152806588234, STD: 0.004578409428380284, Scores: [0.3415232088554781, 0.3308273588875908, 0.3343300086455434, 0.3412266875406123, 0.3375838822045088]\n"
     ]
    },
    {
     "name": "stderr",
     "output_type": "stream",
     "text": [
      "\n"
     ]
    }
   ],
   "source": [
    "lr_results['bert_with_augmentation'] = optimize_model('logistic_regression', X_bert_with_augmentation, y_bert_with_augmentation)"
   ]
  },
  {
   "cell_type": "code",
   "execution_count": 23,
   "metadata": {},
   "outputs": [
    {
     "name": "stderr",
     "output_type": "stream",
     "text": [
      "[I 2025-01-24 14:06:46,093] A new study created in memory with name: no-name-f33442a1-3c8c-467e-8245-85f86b0e0819\n",
      "\n",
      "\n",
      "\n",
      "\n",
      "\n",
      "\u001b[A\u001b[A\u001b[A\u001b[A\u001b[A[I 2025-01-24 14:07:01,565] Trial 0 finished with value: 0.28766560061658886 and parameters: {'num_epochs': 6, 'learning_rate': 1.4443316826286925e-05, 'weight_decay': 0.0005229163977712571}. Best is trial 0 with value: 0.28766560061658886.\n",
      "\n",
      "\n",
      "\n",
      "\n",
      "\n",
      "\u001b[A\u001b[A\u001b[A\u001b[A\u001b[A[I 2025-01-24 14:07:48,623] Trial 1 finished with value: 0.2722726626377209 and parameters: {'num_epochs': 18, 'learning_rate': 1.6197321680481613e-05, 'weight_decay': 3.8828499781522735e-05}. Best is trial 0 with value: 0.28766560061658886.\n",
      "\n",
      "\n",
      "\n",
      "\n",
      "\n",
      "\u001b[A\u001b[A\u001b[A\u001b[A\u001b[A[I 2025-01-24 14:08:01,649] Trial 2 finished with value: 0.27248628784075735 and parameters: {'num_epochs': 5, 'learning_rate': 1.706890317933938e-05, 'weight_decay': 0.0005507275335652247}. Best is trial 0 with value: 0.28766560061658886.\n",
      "\n",
      "\n",
      "\n",
      "\n",
      "\n",
      "\u001b[A\u001b[A\u001b[A\u001b[A\u001b[A[I 2025-01-24 14:08:42,024] Trial 3 finished with value: 0.27317240298740947 and parameters: {'num_epochs': 16, 'learning_rate': 0.00011200195300644016, 'weight_decay': 0.00013917133932397763}. Best is trial 0 with value: 0.28766560061658886.\n",
      "\n",
      "\n",
      "\n",
      "\n",
      "\n",
      "\u001b[A\u001b[A\u001b[A\u001b[A\u001b[A[I 2025-01-24 14:09:05,410] Trial 4 finished with value: 0.27180988554233326 and parameters: {'num_epochs': 9, 'learning_rate': 1.6862532939982197e-05, 'weight_decay': 0.0005398581233965885}. Best is trial 0 with value: 0.28766560061658886.\n",
      "\n",
      "\n",
      "\n",
      "\n",
      "\n",
      "\u001b[A\u001b[A\u001b[A\u001b[A\u001b[A[I 2025-01-24 14:09:18,101] Trial 5 finished with value: 0.2823361165494057 and parameters: {'num_epochs': 5, 'learning_rate': 1.488678392515338e-05, 'weight_decay': 0.00014589966017448575}. Best is trial 0 with value: 0.28766560061658886.\n",
      "\n",
      "\n",
      "\n",
      "\n",
      "\n",
      "\u001b[A\u001b[A\u001b[A\u001b[A\u001b[A[I 2025-01-24 14:10:09,045] Trial 6 finished with value: 0.2820216454449921 and parameters: {'num_epochs': 20, 'learning_rate': 0.00014604857967230963, 'weight_decay': 8.030070054122715e-05}. Best is trial 0 with value: 0.28766560061658886.\n",
      "\n",
      "\n",
      "\n",
      "\n",
      "\n",
      "\u001b[A\u001b[A\u001b[A\u001b[A\u001b[A[I 2025-01-24 14:10:45,802] Trial 7 finished with value: 0.2716618478250593 and parameters: {'num_epochs': 14, 'learning_rate': 2.6198628672335614e-05, 'weight_decay': 9.005781243886536e-05}. Best is trial 0 with value: 0.28766560061658886.\n",
      "\n",
      "\n",
      "\n",
      "\n",
      "\n",
      "\u001b[A\u001b[A\u001b[A\u001b[A\u001b[A[I 2025-01-24 14:11:07,799] Trial 8 finished with value: 0.2720660914081903 and parameters: {'num_epochs': 8, 'learning_rate': 0.0009309481656236733, 'weight_decay': 0.0009240230336874132}. Best is trial 0 with value: 0.28766560061658886.\n",
      "\n",
      "\n",
      "\n",
      "\n",
      "\n",
      "\u001b[A\u001b[A\u001b[A\u001b[A\u001b[A[I 2025-01-24 14:11:45,053] Trial 9 finished with value: 0.27276774184365754 and parameters: {'num_epochs': 15, 'learning_rate': 1.1129586711098665e-05, 'weight_decay': 2.99167831169761e-05}. Best is trial 0 with value: 0.28766560061658886.\n",
      "\n",
      "\n",
      "\n",
      "\n",
      "\n",
      "100%|██████████| 10/10 [04:58<00:00, 29.90s/it]"
     ]
    },
    {
     "name": "stdout",
     "output_type": "stream",
     "text": [
      "Best hyperparameters for logistic_regression: {'num_epochs': 6, 'learning_rate': 1.4443316826286925e-05, 'weight_decay': 0.0005229163977712571}\n",
      "Best F1 score for logistic_regression: 0.28766560061658886\n",
      "Attempts Stats: Avg: 0.28766560061658886, Margin: +-0.02270259293349784, STD: 0.025900276053473233, Scores: [0.33206216242683645, 0.28938605984770654, 0.2727665139016193, 0.27195658020845564, 0.2721566866983264]\n"
     ]
    },
    {
     "name": "stderr",
     "output_type": "stream",
     "text": [
      "\n"
     ]
    }
   ],
   "source": [
    "lr_results['tfidf_without_augmentation'] = optimize_model('logistic_regression', X_tfidf_no_augmentation, y_tfidf_no_augmentation)"
   ]
  },
  {
   "cell_type": "code",
   "execution_count": 24,
   "metadata": {},
   "outputs": [
    {
     "name": "stderr",
     "output_type": "stream",
     "text": [
      "[I 2025-01-24 14:11:45,072] A new study created in memory with name: no-name-e66da7a4-a431-47a4-8e7b-d0aab8d3f164\n",
      "\n",
      "\n",
      "\n",
      "\n",
      "\n",
      "\u001b[A\u001b[A\u001b[A\u001b[A\u001b[A[I 2025-01-24 14:11:51,448] Trial 0 finished with value: 0.3019900301620567 and parameters: {'num_epochs': 5, 'learning_rate': 0.0005289905367360097, 'weight_decay': 4.3887736593297426e-05}. Best is trial 0 with value: 0.3019900301620567.\n",
      "\n",
      "\n",
      "\n",
      "\n",
      "\n",
      "\u001b[A\u001b[A\u001b[A\u001b[A\u001b[A[I 2025-01-24 14:12:03,197] Trial 1 finished with value: 0.31787164889941016 and parameters: {'num_epochs': 9, 'learning_rate': 0.0007220239846153542, 'weight_decay': 5.561756641519532e-05}. Best is trial 1 with value: 0.31787164889941016.\n",
      "\n",
      "\n",
      "\n",
      "\n",
      "\n",
      "\u001b[A\u001b[A\u001b[A\u001b[A\u001b[A[I 2025-01-24 14:12:19,144] Trial 2 finished with value: 0.30317338051739995 and parameters: {'num_epochs': 12, 'learning_rate': 0.00040668719844268034, 'weight_decay': 0.0008325706652152355}. Best is trial 1 with value: 0.31787164889941016.\n",
      "\n",
      "\n",
      "\n",
      "\n",
      "\n",
      "\u001b[A\u001b[A\u001b[A\u001b[A\u001b[A[I 2025-01-24 14:12:32,292] Trial 3 finished with value: 0.2924969799151785 and parameters: {'num_epochs': 10, 'learning_rate': 0.00022747099899765407, 'weight_decay': 0.000457851881995486}. Best is trial 1 with value: 0.31787164889941016.\n",
      "\n",
      "\n",
      "\n",
      "\n",
      "\n",
      "\u001b[A\u001b[A\u001b[A\u001b[A\u001b[A[I 2025-01-24 14:12:45,256] Trial 4 finished with value: 0.3107886661237842 and parameters: {'num_epochs': 11, 'learning_rate': 0.0004688878750043971, 'weight_decay': 0.00011934355315342297}. Best is trial 1 with value: 0.31787164889941016.\n",
      "\n",
      "\n",
      "\n",
      "\n",
      "\n",
      "\u001b[A\u001b[A\u001b[A\u001b[A\u001b[A[I 2025-01-24 14:12:57,970] Trial 5 finished with value: 0.28654734433724005 and parameters: {'num_epochs': 11, 'learning_rate': 0.00016326937885021876, 'weight_decay': 3.4157062581962634e-05}. Best is trial 1 with value: 0.31787164889941016.\n",
      "\n",
      "\n",
      "\n",
      "\n",
      "\n",
      "\u001b[A\u001b[A\u001b[A\u001b[A\u001b[A[I 2025-01-24 14:13:04,768] Trial 6 finished with value: 0.2859526059694472 and parameters: {'num_epochs': 5, 'learning_rate': 4.87160787081952e-05, 'weight_decay': 3.4226970915426074e-05}. Best is trial 1 with value: 0.31787164889941016.\n",
      "\n",
      "\n",
      "\n",
      "\n",
      "\n",
      "\u001b[A\u001b[A\u001b[A\u001b[A\u001b[A[I 2025-01-24 14:13:10,912] Trial 7 finished with value: 0.19798230562201038 and parameters: {'num_epochs': 5, 'learning_rate': 1.4378367552715652e-05, 'weight_decay': 0.00015989003385286432}. Best is trial 1 with value: 0.31787164889941016.\n",
      "\n",
      "\n",
      "\n",
      "\n",
      "\n",
      "\u001b[A\u001b[A\u001b[A\u001b[A\u001b[A[I 2025-01-24 14:13:33,318] Trial 8 finished with value: 0.25261289095718464 and parameters: {'num_epochs': 19, 'learning_rate': 5.107257309538837e-05, 'weight_decay': 0.0004286055887223377}. Best is trial 1 with value: 0.31787164889941016.\n",
      "\n",
      "\n",
      "\n",
      "\n",
      "\n",
      "\u001b[A\u001b[A\u001b[A\u001b[A\u001b[A[I 2025-01-24 14:13:50,915] Trial 9 finished with value: 0.2679832791208167 and parameters: {'num_epochs': 16, 'learning_rate': 6.258327350088169e-05, 'weight_decay': 0.00031205557605422715}. Best is trial 1 with value: 0.31787164889941016.\n",
      "\n",
      "\n",
      "\n",
      "\n",
      "\n",
      "100%|██████████| 10/10 [02:05<00:00, 12.58s/it]"
     ]
    },
    {
     "name": "stdout",
     "output_type": "stream",
     "text": [
      "Best hyperparameters for logistic_regression: {'num_epochs': 9, 'learning_rate': 0.0007220239846153542, 'weight_decay': 5.561756641519532e-05}\n",
      "Best F1 score for logistic_regression: 0.31787164889941016\n",
      "Attempts Stats: Avg: 0.31787164889941016, Margin: +-0.017527123170772405, STD: 0.01999583615298916, Scores: [0.2833295459991065, 0.3201032087554124, 0.3299962984800231, 0.33298728648110343, 0.32294190478140555]\n"
     ]
    },
    {
     "name": "stderr",
     "output_type": "stream",
     "text": [
      "\n"
     ]
    }
   ],
   "source": [
    "lr_results['tfidf_with_undersampling'] = optimize_model('logistic_regression', X_tfidf_undersampled, y_tfidf_undersampled)"
   ]
  },
  {
   "cell_type": "code",
   "execution_count": 25,
   "metadata": {
    "collapsed": false
   },
   "outputs": [
    {
     "name": "stderr",
     "output_type": "stream",
     "text": [
      "[I 2025-01-24 14:13:50,931] A new study created in memory with name: no-name-14a71f0d-bbd1-4edc-be19-83b3bf7d0897\n",
      "\n",
      "\n",
      "\n",
      "\n",
      "\n",
      "\u001b[A\u001b[A\u001b[A\u001b[A\u001b[A[I 2025-01-24 14:15:07,077] Trial 0 finished with value: 0.32281445995555674 and parameters: {'num_epochs': 17, 'learning_rate': 0.0003085659201290591, 'weight_decay': 0.0006344870613880225}. Best is trial 0 with value: 0.32281445995555674.\n",
      "\n",
      "\n",
      "\n",
      "\n",
      "\n",
      "\u001b[A\u001b[A\u001b[A\u001b[A\u001b[A[I 2025-01-24 14:15:49,108] Trial 1 finished with value: 0.231657257038211 and parameters: {'num_epochs': 9, 'learning_rate': 1.2990685304362665e-05, 'weight_decay': 0.0009960478464434517}. Best is trial 0 with value: 0.32281445995555674.\n",
      "\n",
      "\n",
      "\n",
      "\n",
      "\n",
      "\u001b[A\u001b[A\u001b[A\u001b[A\u001b[A[I 2025-01-24 14:17:20,575] Trial 2 finished with value: 0.31817720226835877 and parameters: {'num_epochs': 19, 'learning_rate': 8.834364155774411e-05, 'weight_decay': 5.832453571365449e-05}. Best is trial 0 with value: 0.32281445995555674.\n",
      "\n",
      "\n",
      "\n",
      "\n",
      "\n",
      "\u001b[A\u001b[A\u001b[A\u001b[A\u001b[A[I 2025-01-24 14:17:46,059] Trial 3 finished with value: 0.32645279120821546 and parameters: {'num_epochs': 5, 'learning_rate': 0.0008379698067225026, 'weight_decay': 0.0001762009409032115}. Best is trial 3 with value: 0.32645279120821546.\n",
      "\n",
      "\n",
      "\n",
      "\n",
      "\n",
      "\u001b[A\u001b[A\u001b[A\u001b[A\u001b[A[I 2025-01-24 14:18:21,215] Trial 4 finished with value: 0.31104204587309847 and parameters: {'num_epochs': 5, 'learning_rate': 0.00027738317006650924, 'weight_decay': 0.0001620527414664143}. Best is trial 3 with value: 0.32645279120821546.\n",
      "\n",
      "\n",
      "\n",
      "\n",
      "\n",
      "\u001b[A\u001b[A\u001b[A\u001b[A\u001b[A[I 2025-01-24 14:19:20,468] Trial 5 finished with value: 0.29354883773283663 and parameters: {'num_epochs': 7, 'learning_rate': 0.00010505270006067066, 'weight_decay': 0.00039054315624840265}. Best is trial 3 with value: 0.32645279120821546.\n",
      "\n",
      "\n",
      "\n",
      "\n",
      "\n",
      "\u001b[A\u001b[A\u001b[A\u001b[A\u001b[A[I 2025-01-24 14:21:14,558] Trial 6 finished with value: 0.32156722371414703 and parameters: {'num_epochs': 16, 'learning_rate': 0.00011687298673771826, 'weight_decay': 4.262138007575453e-05}. Best is trial 3 with value: 0.32645279120821546.\n",
      "\n",
      "\n",
      "\n",
      "\n",
      "\n",
      "\u001b[A\u001b[A\u001b[A\u001b[A\u001b[A[I 2025-01-24 14:22:15,510] Trial 7 finished with value: 0.3047047640709394 and parameters: {'num_epochs': 13, 'learning_rate': 7.647477962936104e-05, 'weight_decay': 0.00015938721090029306}. Best is trial 3 with value: 0.32645279120821546.\n",
      "\n",
      "\n",
      "\n",
      "\n",
      "\n",
      "\u001b[A\u001b[A\u001b[A\u001b[A\u001b[A[I 2025-01-24 14:23:03,363] Trial 8 finished with value: 0.30720869117847904 and parameters: {'num_epochs': 10, 'learning_rate': 9.789183719618639e-05, 'weight_decay': 5.802390865929802e-05}. Best is trial 3 with value: 0.32645279120821546.\n",
      "\n",
      "\n",
      "\n",
      "\n",
      "\n",
      "\u001b[A\u001b[A\u001b[A\u001b[A\u001b[A[I 2025-01-24 14:24:15,178] Trial 9 finished with value: 0.2900817742122098 and parameters: {'num_epochs': 15, 'learning_rate': 4.1841499179589294e-05, 'weight_decay': 0.0001848888905508114}. Best is trial 3 with value: 0.32645279120821546.\n",
      "\n",
      "\n",
      "\n",
      "\n",
      "\n",
      "100%|██████████| 10/10 [10:24<00:00, 62.42s/it]"
     ]
    },
    {
     "name": "stdout",
     "output_type": "stream",
     "text": [
      "Best hyperparameters for logistic_regression: {'num_epochs': 5, 'learning_rate': 0.0008379698067225026, 'weight_decay': 0.0001762009409032115}\n",
      "Best F1 score for logistic_regression: 0.32645279120821546\n",
      "Attempts Stats: Avg: 0.32645279120821546, Margin: +-0.004713258585313571, STD: 0.005377125812395733, Scores: [0.32218714991307257, 0.31980961375264094, 0.3316365359075722, 0.3270717841526088, 0.33155887231518294]\n"
     ]
    },
    {
     "name": "stderr",
     "output_type": "stream",
     "text": [
      "\n"
     ]
    }
   ],
   "source": [
    "lr_results['tfidf_with_augmentation'] = optimize_model('logistic_regression', X_tfidf_with_augmentation, y_tfidf_with_augmentation)"
   ]
  },
  {
   "cell_type": "code",
   "execution_count": null,
   "metadata": {
    "collapsed": false
   },
   "outputs": [
    {
     "name": "stdout",
     "output_type": "stream",
     "text": [
      "Logistic Regression results:\n",
      "\n",
      "\n"
     ]
    },
    {
     "data": {
      "text/html": [
       "<div>\n",
       "<style scoped>\n",
       "    .dataframe tbody tr th:only-of-type {\n",
       "        vertical-align: middle;\n",
       "    }\n",
       "\n",
       "    .dataframe tbody tr th {\n",
       "        vertical-align: top;\n",
       "    }\n",
       "\n",
       "    .dataframe thead th {\n",
       "        text-align: right;\n",
       "    }\n",
       "</style>\n",
       "<table border=\"1\" class=\"dataframe\">\n",
       "  <thead>\n",
       "    <tr style=\"text-align: right;\">\n",
       "      <th></th>\n",
       "      <th>Experiment</th>\n",
       "      <th>Best Parameters</th>\n",
       "      <th>Best Avg</th>\n",
       "      <th>Margin</th>\n",
       "      <th>STD</th>\n",
       "      <th>Scores</th>\n",
       "    </tr>\n",
       "  </thead>\n",
       "  <tbody>\n",
       "    <tr>\n",
       "      <th>0</th>\n",
       "      <td>bert_without_augmentation</td>\n",
       "      <td>{'num_epochs': 19, 'learning_rate': 0.00031630...</td>\n",
       "      <td>0.339557</td>\n",
       "      <td>0.004255</td>\n",
       "      <td>0.004854</td>\n",
       "      <td>[0.33497629314953326, 0.33842494294603287, 0.3...</td>\n",
       "    </tr>\n",
       "    <tr>\n",
       "      <th>1</th>\n",
       "      <td>bert_with_undersampling</td>\n",
       "      <td>{'num_epochs': 19, 'learning_rate': 3.89623288...</td>\n",
       "      <td>0.337001</td>\n",
       "      <td>0.007789</td>\n",
       "      <td>0.008886</td>\n",
       "      <td>[0.3292349832958081, 0.3501651667563103, 0.328...</td>\n",
       "    </tr>\n",
       "    <tr>\n",
       "      <th>2</th>\n",
       "      <td>bert_with_augmentation</td>\n",
       "      <td>{'num_epochs': 13, 'learning_rate': 0.00032405...</td>\n",
       "      <td>0.337098</td>\n",
       "      <td>0.004013</td>\n",
       "      <td>0.004578</td>\n",
       "      <td>[0.3415232088554781, 0.3308273588875908, 0.334...</td>\n",
       "    </tr>\n",
       "    <tr>\n",
       "      <th>3</th>\n",
       "      <td>tfidf_without_augmentation</td>\n",
       "      <td>{'num_epochs': 6, 'learning_rate': 1.444331682...</td>\n",
       "      <td>0.287666</td>\n",
       "      <td>0.022703</td>\n",
       "      <td>0.025900</td>\n",
       "      <td>[0.33206216242683645, 0.28938605984770654, 0.2...</td>\n",
       "    </tr>\n",
       "    <tr>\n",
       "      <th>4</th>\n",
       "      <td>tfidf_with_undersampling</td>\n",
       "      <td>{'num_epochs': 9, 'learning_rate': 0.000722023...</td>\n",
       "      <td>0.317872</td>\n",
       "      <td>0.017527</td>\n",
       "      <td>0.019996</td>\n",
       "      <td>[0.2833295459991065, 0.3201032087554124, 0.329...</td>\n",
       "    </tr>\n",
       "    <tr>\n",
       "      <th>5</th>\n",
       "      <td>tfidf_with_augmentation</td>\n",
       "      <td>{'num_epochs': 5, 'learning_rate': 0.000837969...</td>\n",
       "      <td>0.326453</td>\n",
       "      <td>0.004713</td>\n",
       "      <td>0.005377</td>\n",
       "      <td>[0.32218714991307257, 0.31980961375264094, 0.3...</td>\n",
       "    </tr>\n",
       "  </tbody>\n",
       "</table>\n",
       "</div>"
      ],
      "text/plain": [
       "                   Experiment  \\\n",
       "0   bert_without_augmentation   \n",
       "1     bert_with_undersampling   \n",
       "2      bert_with_augmentation   \n",
       "3  tfidf_without_augmentation   \n",
       "4    tfidf_with_undersampling   \n",
       "5     tfidf_with_augmentation   \n",
       "\n",
       "                                     Best Parameters  Best Avg    Margin  \\\n",
       "0  {'num_epochs': 19, 'learning_rate': 0.00031630...  0.339557  0.004255   \n",
       "1  {'num_epochs': 19, 'learning_rate': 3.89623288...  0.337001  0.007789   \n",
       "2  {'num_epochs': 13, 'learning_rate': 0.00032405...  0.337098  0.004013   \n",
       "3  {'num_epochs': 6, 'learning_rate': 1.444331682...  0.287666  0.022703   \n",
       "4  {'num_epochs': 9, 'learning_rate': 0.000722023...  0.317872  0.017527   \n",
       "5  {'num_epochs': 5, 'learning_rate': 0.000837969...  0.326453  0.004713   \n",
       "\n",
       "        STD                                             Scores  \n",
       "0  0.004854  [0.33497629314953326, 0.33842494294603287, 0.3...  \n",
       "1  0.008886  [0.3292349832958081, 0.3501651667563103, 0.328...  \n",
       "2  0.004578  [0.3415232088554781, 0.3308273588875908, 0.334...  \n",
       "3  0.025900  [0.33206216242683645, 0.28938605984770654, 0.2...  \n",
       "4  0.019996  [0.2833295459991065, 0.3201032087554124, 0.329...  \n",
       "5  0.005377  [0.32218714991307257, 0.31980961375264094, 0.3...  "
      ]
     },
     "metadata": {},
     "output_type": "display_data"
    }
   ],
   "source": [
    "print(\"Logistic Regression results:\\n\\n\")\n",
    "df = pd.DataFrame([\n",
    "    {\n",
    "        'Experiment': key,\n",
    "        'Best Parameters': value[0],\n",
    "        'Best Avg': value[1],\n",
    "        'Margin': value[2],\n",
    "        'STD': value[3],\n",
    "        'Scores': value[4]\n",
    "    }\n",
    "    for key, value in lr_results.items()\n",
    "])\n",
    "display(df)\n"
   ]
  },
  {
   "cell_type": "markdown",
   "metadata": {
    "collapsed": false
   },
   "source": [
    "## SVM"
   ]
  },
  {
   "cell_type": "code",
   "execution_count": 14,
   "metadata": {
    "collapsed": false
   },
   "outputs": [
    {
     "name": "stderr",
     "output_type": "stream",
     "text": [
      "[I 2025-01-22 17:34:11,376] A new study created in memory with name: no-name-d8f1fc7f-7d31-418f-880a-294454c62a9c\n",
      "  0%|          | 0/100 [00:00<?, ?it/s][I 2025-01-22 17:35:33,977] Trial 0 finished with value: 0.805571790512853 and parameters: {'C': 15.81137337626578, 'kernel': 'sigmoid', 'degree': 2, 'gamma': 'auto'}. Best is trial 0 with value: 0.805571790512853.\n",
      "  1%|          | 1/100 [01:22<2:16:17, 82.60s/it][I 2025-01-22 17:37:11,083] Trial 1 finished with value: 0.8364712851998071 and parameters: {'C': 6.318287384728119, 'kernel': 'rbf', 'degree': 3, 'gamma': 'auto'}. Best is trial 1 with value: 0.8364712851998071.\n",
      "  2%|▏         | 2/100 [02:59<2:28:50, 91.13s/it][I 2025-01-22 17:38:58,817] Trial 2 finished with value: 0.801437262036894 and parameters: {'C': 0.20890059254271676, 'kernel': 'linear', 'degree': 2, 'gamma': 'auto'}. Best is trial 1 with value: 0.8364712851998071.\n",
      "  3%|▎         | 3/100 [04:47<2:39:35, 98.71s/it][I 2025-01-22 17:40:08,544] Trial 3 finished with value: 0.7876727500924925 and parameters: {'C': 4.309297264205877, 'kernel': 'sigmoid', 'degree': 3, 'gamma': 'scale'}. Best is trial 1 with value: 0.8364712851998071.\n",
      "  4%|▍         | 4/100 [05:57<2:19:37, 87.27s/it][I 2025-01-22 17:45:46,972] Trial 4 finished with value: 0.7742100678589994 and parameters: {'C': 2.068730810843825, 'kernel': 'linear', 'degree': 2, 'gamma': 'scale'}. Best is trial 1 with value: 0.8364712851998071.\n",
      "  5%|▌         | 5/100 [11:35<4:41:34, 177.84s/it][I 2025-01-22 17:47:20,676] Trial 5 finished with value: 0.8435089050301829 and parameters: {'C': 0.002106474430383285, 'kernel': 'linear', 'degree': 5, 'gamma': 'scale'}. Best is trial 5 with value: 0.8435089050301829.\n",
      "  6%|▌         | 6/100 [13:09<3:53:47, 149.23s/it][I 2025-01-22 17:48:34,142] Trial 6 finished with value: 0.8149022858507665 and parameters: {'C': 0.6672345834379794, 'kernel': 'sigmoid', 'degree': 2, 'gamma': 'scale'}. Best is trial 5 with value: 0.8435089050301829.\n",
      "  7%|▋         | 7/100 [14:22<3:12:55, 124.46s/it][I 2025-01-22 17:51:08,062] Trial 7 finished with value: 0.7878216746046242 and parameters: {'C': 0.003842618278371366, 'kernel': 'poly', 'degree': 2, 'gamma': 'scale'}. Best is trial 5 with value: 0.8435089050301829.\n",
      "  8%|▊         | 8/100 [16:56<3:25:13, 133.84s/it][I 2025-01-22 17:53:50,843] Trial 8 finished with value: 0.7220419985856854 and parameters: {'C': 0.008272752341641593, 'kernel': 'poly', 'degree': 2, 'gamma': 'auto'}. Best is trial 5 with value: 0.8435089050301829.\n",
      "  9%|▉         | 9/100 [19:39<3:36:42, 142.89s/it][I 2025-01-22 17:56:41,462] Trial 9 finished with value: 0.6801286464260459 and parameters: {'C': 0.00018296566307092862, 'kernel': 'rbf', 'degree': 2, 'gamma': 'scale'}. Best is trial 5 with value: 0.8435089050301829.\n",
      " 10%|█         | 10/100 [22:30<3:47:10, 151.45s/it][I 2025-01-22 17:58:21,701] Trial 10 finished with value: 0.8416726376966344 and parameters: {'C': 0.0001735065434024887, 'kernel': 'linear', 'degree': 5, 'gamma': 'scale'}. Best is trial 5 with value: 0.8435089050301829.\n",
      " 11%|█         | 11/100 [24:10<3:21:24, 135.78s/it][I 2025-01-22 18:00:03,768] Trial 11 finished with value: 0.8402948518013778 and parameters: {'C': 0.0001008008578406452, 'kernel': 'linear', 'degree': 5, 'gamma': 'scale'}. Best is trial 5 with value: 0.8435089050301829.\n",
      " 12%|█▏        | 12/100 [25:52<3:04:05, 125.52s/it][I 2025-01-22 18:01:36,612] Trial 12 finished with value: 0.8430499552758148 and parameters: {'C': 0.0025337979394235302, 'kernel': 'linear', 'degree': 5, 'gamma': 'scale'}. Best is trial 5 with value: 0.8435089050301829.\n",
      " 13%|█▎        | 13/100 [27:25<2:47:39, 115.62s/it][I 2025-01-22 18:03:10,387] Trial 13 finished with value: 0.8378486027789875 and parameters: {'C': 0.007766698980364093, 'kernel': 'linear', 'degree': 4, 'gamma': 'scale'}. Best is trial 5 with value: 0.8435089050301829.\n",
      " 14%|█▍        | 14/100 [28:59<2:36:15, 109.02s/it][I 2025-01-22 18:04:42,480] Trial 14 finished with value: 0.8439676206265133 and parameters: {'C': 0.0016344028155334937, 'kernel': 'linear', 'degree': 4, 'gamma': 'scale'}. Best is trial 14 with value: 0.8439676206265133.\n",
      " 15%|█▌        | 15/100 [30:31<2:27:13, 103.92s/it][I 2025-01-22 18:06:28,124] Trial 15 finished with value: 0.8260648336775457 and parameters: {'C': 0.044882715930271294, 'kernel': 'linear', 'degree': 4, 'gamma': 'scale'}. Best is trial 14 with value: 0.8439676206265133.\n",
      " 16%|█▌        | 16/100 [32:16<2:26:12, 104.44s/it]"
     ]
    }
   ],
   "source": [
    "svm_results = {}\n",
    "svm_results['bert_without_augmentation'] = optimize_model('svm', X_bert_no_augmentation, y_bert_no_augmentation)"
   ]
  },
  {
   "cell_type": "code",
   "execution_count": null,
   "metadata": {},
   "outputs": [],
   "source": [
    "svm_results['bert_with_undersampling'] = optimize_model('svm', X_bert_undersampled, y_bert_undersampled)"
   ]
  },
  {
   "cell_type": "code",
   "execution_count": 7,
   "metadata": {},
   "outputs": [
    {
     "name": "stderr",
     "output_type": "stream",
     "text": [
      "[I 2025-01-22 20:11:10,140] A new study created in memory with name: no-name-713591f1-f6c1-42c3-a133-8fe7fba753a0\n",
      "  0%|          | 0/100 [00:00<?, ?it/s][I 2025-01-22 20:24:02,959] Trial 0 finished with value: 0.7960212928019943 and parameters: {'C': 0.0003197872629113399, 'kernel': 'linear', 'degree': 5, 'gamma': 'auto'}. Best is trial 0 with value: 0.7960212928019943.\n",
      "  1%|          | 1/100 [12:52<21:15:09, 772.82s/it][I 2025-01-22 20:36:33,379] Trial 1 finished with value: 0.926730360419624 and parameters: {'C': 69.0221340142107, 'kernel': 'rbf', 'degree': 2, 'gamma': 'auto'}. Best is trial 1 with value: 0.926730360419624.\n",
      "  2%|▏         | 2/100 [25:23<20:40:44, 759.64s/it][I 2025-01-22 20:47:45,839] Trial 2 finished with value: 0.7039768722085655 and parameters: {'C': 42.13385194789783, 'kernel': 'sigmoid', 'degree': 2, 'gamma': 'scale'}. Best is trial 1 with value: 0.926730360419624.\n",
      "  3%|▎         | 3/100 [36:35<19:23:43, 719.83s/it][I 2025-01-22 21:02:22,391] Trial 3 finished with value: 0.9369705016791885 and parameters: {'C': 3.2987078242084187, 'kernel': 'poly', 'degree': 5, 'gamma': 'scale'}. Best is trial 3 with value: 0.9369705016791885.\n",
      "  4%|▍         | 4/100 [51:12<20:50:43, 781.70s/it][I 2025-01-22 21:16:37,195] Trial 4 finished with value: 0.7933140947962469 and parameters: {'C': 0.07361242155495461, 'kernel': 'rbf', 'degree': 3, 'gamma': 'scale'}. Best is trial 3 with value: 0.9369705016791885.\n",
      "  5%|▌         | 5/100 [1:05:27<21:19:26, 808.06s/it][I 2025-01-22 21:27:44,128] Trial 5 finished with value: 0.7028013018038293 and parameters: {'C': 75.71721580653785, 'kernel': 'sigmoid', 'degree': 2, 'gamma': 'scale'}. Best is trial 3 with value: 0.9369705016791885.\n",
      "  6%|▌         | 6/100 [1:16:33<19:50:47, 760.08s/it][I 2025-01-22 21:40:18,760] Trial 6 finished with value: 0.9183147872450924 and parameters: {'C': 15.403579792542574, 'kernel': 'rbf', 'degree': 4, 'gamma': 'auto'}. Best is trial 3 with value: 0.9369705016791885.\n",
      "  7%|▋         | 7/100 [1:29:08<19:35:21, 758.30s/it][I 2025-01-22 21:56:22,447] Trial 7 finished with value: 0.7859575875082228 and parameters: {'C': 0.016912884082557332, 'kernel': 'rbf', 'degree': 5, 'gamma': 'scale'}. Best is trial 3 with value: 0.9369705016791885.\n",
      "  8%|▊         | 8/100 [1:45:12<21:02:58, 823.68s/it][I 2025-01-22 22:09:28,828] Trial 8 finished with value: 0.9334395665270228 and parameters: {'C': 15.493981046396936, 'kernel': 'rbf', 'degree': 5, 'gamma': 'scale'}. Best is trial 3 with value: 0.9369705016791885.\n",
      "  9%|▉         | 9/100 [1:58:18<20:31:34, 812.02s/it][W 2025-01-22 22:12:29,426] Trial 9 failed with parameters: {'C': 0.00729396865146696, 'kernel': 'sigmoid', 'degree': 4, 'gamma': 'scale'} because of the following error: KeyboardInterrupt().\n",
      "Traceback (most recent call last):\n",
      "  File \"c:\\Users\\shaha\\Projects\\Python Projects\\Israel-Palestine-Political-Affiliation-Text-Classification\\venv\\lib\\site-packages\\optuna\\study\\_optimize.py\", line 197, in _run_trial\n",
      "    value_or_values = func(trial)\n",
      "  File \"C:\\Users\\shaha\\AppData\\Local\\Temp\\ipykernel_33024\\2932907497.py\", line 134, in <lambda>\n",
      "    study.optimize(lambda trial: objective(trial, model_name, X, y, folds_scores), n_trials=n_trials, timeout=timout, callbacks=[progress_bar])\n",
      "  File \"C:\\Users\\shaha\\AppData\\Local\\Temp\\ipykernel_33024\\2932907497.py\", line 122, in objective\n",
      "    scores = cross_validation(model, X, y, n_splits=10)\n",
      "  File \"C:\\Users\\shaha\\AppData\\Local\\Temp\\ipykernel_33024\\2932907497.py\", line 79, in cross_validation\n",
      "    estimator.fit(train)\n",
      "  File \"C:\\Users\\shaha\\Projects\\Python Projects\\Israel-Palestine-Political-Affiliation-Text-Classification\\classifiers.py\", line 104, in fit\n",
      "    self.model.fit(X_train, y_train)\n",
      "  File \"c:\\Users\\shaha\\Projects\\Python Projects\\Israel-Palestine-Political-Affiliation-Text-Classification\\venv\\lib\\site-packages\\sklearn\\base.py\", line 1152, in wrapper\n",
      "    return fit_method(estimator, *args, **kwargs)\n",
      "  File \"c:\\Users\\shaha\\Projects\\Python Projects\\Israel-Palestine-Political-Affiliation-Text-Classification\\venv\\lib\\site-packages\\sklearn\\svm\\_base.py\", line 250, in fit\n",
      "    fit(X, y, sample_weight, solver_type, kernel, random_seed=seed)\n",
      "  File \"c:\\Users\\shaha\\Projects\\Python Projects\\Israel-Palestine-Political-Affiliation-Text-Classification\\venv\\lib\\site-packages\\sklearn\\svm\\_base.py\", line 329, in _dense_fit\n",
      "    ) = libsvm.fit(\n",
      "KeyboardInterrupt\n",
      "[W 2025-01-22 22:12:29,502] Trial 9 failed with value None.\n"
     ]
    },
    {
     "ename": "KeyboardInterrupt",
     "evalue": "",
     "output_type": "error",
     "traceback": [
      "\u001b[1;31m---------------------------------------------------------------------------\u001b[0m",
      "\u001b[1;31mKeyboardInterrupt\u001b[0m                         Traceback (most recent call last)",
      "Cell \u001b[1;32mIn[7], line 1\u001b[0m\n\u001b[1;32m----> 1\u001b[0m svm_results[\u001b[38;5;124m'\u001b[39m\u001b[38;5;124mbert_with_augmentation\u001b[39m\u001b[38;5;124m'\u001b[39m] \u001b[38;5;241m=\u001b[39m \u001b[43moptimize_model\u001b[49m\u001b[43m(\u001b[49m\u001b[38;5;124;43m'\u001b[39;49m\u001b[38;5;124;43msvm\u001b[39;49m\u001b[38;5;124;43m'\u001b[39;49m\u001b[43m,\u001b[49m\u001b[43m \u001b[49m\u001b[43mX_bert_with_augmentation\u001b[49m\u001b[43m,\u001b[49m\u001b[43m \u001b[49m\u001b[43my_bert_with_augmentation\u001b[49m\u001b[43m)\u001b[49m\n",
      "Cell \u001b[1;32mIn[5], line 134\u001b[0m, in \u001b[0;36moptimize_model\u001b[1;34m(model_name, X, y, n_trials, timout)\u001b[0m\n\u001b[0;32m    132\u001b[0m study \u001b[38;5;241m=\u001b[39m optuna\u001b[38;5;241m.\u001b[39mcreate_study(direction\u001b[38;5;241m=\u001b[39m\u001b[38;5;124m'\u001b[39m\u001b[38;5;124mmaximize\u001b[39m\u001b[38;5;124m'\u001b[39m)\n\u001b[0;32m    133\u001b[0m progress_bar \u001b[38;5;241m=\u001b[39m TqdmCallback(n_trials)\n\u001b[1;32m--> 134\u001b[0m \u001b[43mstudy\u001b[49m\u001b[38;5;241;43m.\u001b[39;49m\u001b[43moptimize\u001b[49m\u001b[43m(\u001b[49m\u001b[38;5;28;43;01mlambda\u001b[39;49;00m\u001b[43m \u001b[49m\u001b[43mtrial\u001b[49m\u001b[43m:\u001b[49m\u001b[43m \u001b[49m\u001b[43mobjective\u001b[49m\u001b[43m(\u001b[49m\u001b[43mtrial\u001b[49m\u001b[43m,\u001b[49m\u001b[43m \u001b[49m\u001b[43mmodel_name\u001b[49m\u001b[43m,\u001b[49m\u001b[43m \u001b[49m\u001b[43mX\u001b[49m\u001b[43m,\u001b[49m\u001b[43m \u001b[49m\u001b[43my\u001b[49m\u001b[43m,\u001b[49m\u001b[43m \u001b[49m\u001b[43mfolds_scores\u001b[49m\u001b[43m)\u001b[49m\u001b[43m,\u001b[49m\u001b[43m \u001b[49m\u001b[43mn_trials\u001b[49m\u001b[38;5;241;43m=\u001b[39;49m\u001b[43mn_trials\u001b[49m\u001b[43m,\u001b[49m\u001b[43m \u001b[49m\u001b[43mtimeout\u001b[49m\u001b[38;5;241;43m=\u001b[39;49m\u001b[43mtimout\u001b[49m\u001b[43m,\u001b[49m\u001b[43m \u001b[49m\u001b[43mcallbacks\u001b[49m\u001b[38;5;241;43m=\u001b[39;49m\u001b[43m[\u001b[49m\u001b[43mprogress_bar\u001b[49m\u001b[43m]\u001b[49m\u001b[43m)\u001b[49m\n\u001b[0;32m    135\u001b[0m \u001b[38;5;66;03m# Close progress bar\u001b[39;00m\n\u001b[0;32m    136\u001b[0m progress_bar\u001b[38;5;241m.\u001b[39mclose()\n",
      "File \u001b[1;32mc:\\Users\\shaha\\Projects\\Python Projects\\Israel-Palestine-Political-Affiliation-Text-Classification\\venv\\lib\\site-packages\\optuna\\study\\study.py:475\u001b[0m, in \u001b[0;36mStudy.optimize\u001b[1;34m(self, func, n_trials, timeout, n_jobs, catch, callbacks, gc_after_trial, show_progress_bar)\u001b[0m\n\u001b[0;32m    373\u001b[0m \u001b[38;5;28;01mdef\u001b[39;00m\u001b[38;5;250m \u001b[39m\u001b[38;5;21moptimize\u001b[39m(\n\u001b[0;32m    374\u001b[0m     \u001b[38;5;28mself\u001b[39m,\n\u001b[0;32m    375\u001b[0m     func: ObjectiveFuncType,\n\u001b[1;32m   (...)\u001b[0m\n\u001b[0;32m    382\u001b[0m     show_progress_bar: \u001b[38;5;28mbool\u001b[39m \u001b[38;5;241m=\u001b[39m \u001b[38;5;28;01mFalse\u001b[39;00m,\n\u001b[0;32m    383\u001b[0m ) \u001b[38;5;241m-\u001b[39m\u001b[38;5;241m>\u001b[39m \u001b[38;5;28;01mNone\u001b[39;00m:\n\u001b[0;32m    384\u001b[0m \u001b[38;5;250m    \u001b[39m\u001b[38;5;124;03m\"\"\"Optimize an objective function.\u001b[39;00m\n\u001b[0;32m    385\u001b[0m \n\u001b[0;32m    386\u001b[0m \u001b[38;5;124;03m    Optimization is done by choosing a suitable set of hyperparameter values from a given\u001b[39;00m\n\u001b[1;32m   (...)\u001b[0m\n\u001b[0;32m    473\u001b[0m \u001b[38;5;124;03m            If nested invocation of this method occurs.\u001b[39;00m\n\u001b[0;32m    474\u001b[0m \u001b[38;5;124;03m    \"\"\"\u001b[39;00m\n\u001b[1;32m--> 475\u001b[0m     \u001b[43m_optimize\u001b[49m\u001b[43m(\u001b[49m\n\u001b[0;32m    476\u001b[0m \u001b[43m        \u001b[49m\u001b[43mstudy\u001b[49m\u001b[38;5;241;43m=\u001b[39;49m\u001b[38;5;28;43mself\u001b[39;49m\u001b[43m,\u001b[49m\n\u001b[0;32m    477\u001b[0m \u001b[43m        \u001b[49m\u001b[43mfunc\u001b[49m\u001b[38;5;241;43m=\u001b[39;49m\u001b[43mfunc\u001b[49m\u001b[43m,\u001b[49m\n\u001b[0;32m    478\u001b[0m \u001b[43m        \u001b[49m\u001b[43mn_trials\u001b[49m\u001b[38;5;241;43m=\u001b[39;49m\u001b[43mn_trials\u001b[49m\u001b[43m,\u001b[49m\n\u001b[0;32m    479\u001b[0m \u001b[43m        \u001b[49m\u001b[43mtimeout\u001b[49m\u001b[38;5;241;43m=\u001b[39;49m\u001b[43mtimeout\u001b[49m\u001b[43m,\u001b[49m\n\u001b[0;32m    480\u001b[0m \u001b[43m        \u001b[49m\u001b[43mn_jobs\u001b[49m\u001b[38;5;241;43m=\u001b[39;49m\u001b[43mn_jobs\u001b[49m\u001b[43m,\u001b[49m\n\u001b[0;32m    481\u001b[0m \u001b[43m        \u001b[49m\u001b[43mcatch\u001b[49m\u001b[38;5;241;43m=\u001b[39;49m\u001b[38;5;28;43mtuple\u001b[39;49m\u001b[43m(\u001b[49m\u001b[43mcatch\u001b[49m\u001b[43m)\u001b[49m\u001b[43m \u001b[49m\u001b[38;5;28;43;01mif\u001b[39;49;00m\u001b[43m \u001b[49m\u001b[38;5;28;43misinstance\u001b[39;49m\u001b[43m(\u001b[49m\u001b[43mcatch\u001b[49m\u001b[43m,\u001b[49m\u001b[43m \u001b[49m\u001b[43mIterable\u001b[49m\u001b[43m)\u001b[49m\u001b[43m \u001b[49m\u001b[38;5;28;43;01melse\u001b[39;49;00m\u001b[43m \u001b[49m\u001b[43m(\u001b[49m\u001b[43mcatch\u001b[49m\u001b[43m,\u001b[49m\u001b[43m)\u001b[49m\u001b[43m,\u001b[49m\n\u001b[0;32m    482\u001b[0m \u001b[43m        \u001b[49m\u001b[43mcallbacks\u001b[49m\u001b[38;5;241;43m=\u001b[39;49m\u001b[43mcallbacks\u001b[49m\u001b[43m,\u001b[49m\n\u001b[0;32m    483\u001b[0m \u001b[43m        \u001b[49m\u001b[43mgc_after_trial\u001b[49m\u001b[38;5;241;43m=\u001b[39;49m\u001b[43mgc_after_trial\u001b[49m\u001b[43m,\u001b[49m\n\u001b[0;32m    484\u001b[0m \u001b[43m        \u001b[49m\u001b[43mshow_progress_bar\u001b[49m\u001b[38;5;241;43m=\u001b[39;49m\u001b[43mshow_progress_bar\u001b[49m\u001b[43m,\u001b[49m\n\u001b[0;32m    485\u001b[0m \u001b[43m    \u001b[49m\u001b[43m)\u001b[49m\n",
      "File \u001b[1;32mc:\\Users\\shaha\\Projects\\Python Projects\\Israel-Palestine-Political-Affiliation-Text-Classification\\venv\\lib\\site-packages\\optuna\\study\\_optimize.py:63\u001b[0m, in \u001b[0;36m_optimize\u001b[1;34m(study, func, n_trials, timeout, n_jobs, catch, callbacks, gc_after_trial, show_progress_bar)\u001b[0m\n\u001b[0;32m     61\u001b[0m \u001b[38;5;28;01mtry\u001b[39;00m:\n\u001b[0;32m     62\u001b[0m     \u001b[38;5;28;01mif\u001b[39;00m n_jobs \u001b[38;5;241m==\u001b[39m \u001b[38;5;241m1\u001b[39m:\n\u001b[1;32m---> 63\u001b[0m         \u001b[43m_optimize_sequential\u001b[49m\u001b[43m(\u001b[49m\n\u001b[0;32m     64\u001b[0m \u001b[43m            \u001b[49m\u001b[43mstudy\u001b[49m\u001b[43m,\u001b[49m\n\u001b[0;32m     65\u001b[0m \u001b[43m            \u001b[49m\u001b[43mfunc\u001b[49m\u001b[43m,\u001b[49m\n\u001b[0;32m     66\u001b[0m \u001b[43m            \u001b[49m\u001b[43mn_trials\u001b[49m\u001b[43m,\u001b[49m\n\u001b[0;32m     67\u001b[0m \u001b[43m            \u001b[49m\u001b[43mtimeout\u001b[49m\u001b[43m,\u001b[49m\n\u001b[0;32m     68\u001b[0m \u001b[43m            \u001b[49m\u001b[43mcatch\u001b[49m\u001b[43m,\u001b[49m\n\u001b[0;32m     69\u001b[0m \u001b[43m            \u001b[49m\u001b[43mcallbacks\u001b[49m\u001b[43m,\u001b[49m\n\u001b[0;32m     70\u001b[0m \u001b[43m            \u001b[49m\u001b[43mgc_after_trial\u001b[49m\u001b[43m,\u001b[49m\n\u001b[0;32m     71\u001b[0m \u001b[43m            \u001b[49m\u001b[43mreseed_sampler_rng\u001b[49m\u001b[38;5;241;43m=\u001b[39;49m\u001b[38;5;28;43;01mFalse\u001b[39;49;00m\u001b[43m,\u001b[49m\n\u001b[0;32m     72\u001b[0m \u001b[43m            \u001b[49m\u001b[43mtime_start\u001b[49m\u001b[38;5;241;43m=\u001b[39;49m\u001b[38;5;28;43;01mNone\u001b[39;49;00m\u001b[43m,\u001b[49m\n\u001b[0;32m     73\u001b[0m \u001b[43m            \u001b[49m\u001b[43mprogress_bar\u001b[49m\u001b[38;5;241;43m=\u001b[39;49m\u001b[43mprogress_bar\u001b[49m\u001b[43m,\u001b[49m\n\u001b[0;32m     74\u001b[0m \u001b[43m        \u001b[49m\u001b[43m)\u001b[49m\n\u001b[0;32m     75\u001b[0m     \u001b[38;5;28;01melse\u001b[39;00m:\n\u001b[0;32m     76\u001b[0m         \u001b[38;5;28;01mif\u001b[39;00m n_jobs \u001b[38;5;241m==\u001b[39m \u001b[38;5;241m-\u001b[39m\u001b[38;5;241m1\u001b[39m:\n",
      "File \u001b[1;32mc:\\Users\\shaha\\Projects\\Python Projects\\Israel-Palestine-Political-Affiliation-Text-Classification\\venv\\lib\\site-packages\\optuna\\study\\_optimize.py:160\u001b[0m, in \u001b[0;36m_optimize_sequential\u001b[1;34m(study, func, n_trials, timeout, catch, callbacks, gc_after_trial, reseed_sampler_rng, time_start, progress_bar)\u001b[0m\n\u001b[0;32m    157\u001b[0m         \u001b[38;5;28;01mbreak\u001b[39;00m\n\u001b[0;32m    159\u001b[0m \u001b[38;5;28;01mtry\u001b[39;00m:\n\u001b[1;32m--> 160\u001b[0m     frozen_trial \u001b[38;5;241m=\u001b[39m \u001b[43m_run_trial\u001b[49m\u001b[43m(\u001b[49m\u001b[43mstudy\u001b[49m\u001b[43m,\u001b[49m\u001b[43m \u001b[49m\u001b[43mfunc\u001b[49m\u001b[43m,\u001b[49m\u001b[43m \u001b[49m\u001b[43mcatch\u001b[49m\u001b[43m)\u001b[49m\n\u001b[0;32m    161\u001b[0m \u001b[38;5;28;01mfinally\u001b[39;00m:\n\u001b[0;32m    162\u001b[0m     \u001b[38;5;66;03m# The following line mitigates memory problems that can be occurred in some\u001b[39;00m\n\u001b[0;32m    163\u001b[0m     \u001b[38;5;66;03m# environments (e.g., services that use computing containers such as GitHub Actions).\u001b[39;00m\n\u001b[0;32m    164\u001b[0m     \u001b[38;5;66;03m# Please refer to the following PR for further details:\u001b[39;00m\n\u001b[0;32m    165\u001b[0m     \u001b[38;5;66;03m# https://github.com/optuna/optuna/pull/325.\u001b[39;00m\n\u001b[0;32m    166\u001b[0m     \u001b[38;5;28;01mif\u001b[39;00m gc_after_trial:\n",
      "File \u001b[1;32mc:\\Users\\shaha\\Projects\\Python Projects\\Israel-Palestine-Political-Affiliation-Text-Classification\\venv\\lib\\site-packages\\optuna\\study\\_optimize.py:248\u001b[0m, in \u001b[0;36m_run_trial\u001b[1;34m(study, func, catch)\u001b[0m\n\u001b[0;32m    241\u001b[0m         \u001b[38;5;28;01massert\u001b[39;00m \u001b[38;5;28;01mFalse\u001b[39;00m, \u001b[38;5;124m\"\u001b[39m\u001b[38;5;124mShould not reach.\u001b[39m\u001b[38;5;124m\"\u001b[39m\n\u001b[0;32m    243\u001b[0m \u001b[38;5;28;01mif\u001b[39;00m (\n\u001b[0;32m    244\u001b[0m     frozen_trial\u001b[38;5;241m.\u001b[39mstate \u001b[38;5;241m==\u001b[39m TrialState\u001b[38;5;241m.\u001b[39mFAIL\n\u001b[0;32m    245\u001b[0m     \u001b[38;5;129;01mand\u001b[39;00m func_err \u001b[38;5;129;01mis\u001b[39;00m \u001b[38;5;129;01mnot\u001b[39;00m \u001b[38;5;28;01mNone\u001b[39;00m\n\u001b[0;32m    246\u001b[0m     \u001b[38;5;129;01mand\u001b[39;00m \u001b[38;5;129;01mnot\u001b[39;00m \u001b[38;5;28misinstance\u001b[39m(func_err, catch)\n\u001b[0;32m    247\u001b[0m ):\n\u001b[1;32m--> 248\u001b[0m     \u001b[38;5;28;01mraise\u001b[39;00m func_err\n\u001b[0;32m    249\u001b[0m \u001b[38;5;28;01mreturn\u001b[39;00m frozen_trial\n",
      "File \u001b[1;32mc:\\Users\\shaha\\Projects\\Python Projects\\Israel-Palestine-Political-Affiliation-Text-Classification\\venv\\lib\\site-packages\\optuna\\study\\_optimize.py:197\u001b[0m, in \u001b[0;36m_run_trial\u001b[1;34m(study, func, catch)\u001b[0m\n\u001b[0;32m    195\u001b[0m \u001b[38;5;28;01mwith\u001b[39;00m get_heartbeat_thread(trial\u001b[38;5;241m.\u001b[39m_trial_id, study\u001b[38;5;241m.\u001b[39m_storage):\n\u001b[0;32m    196\u001b[0m     \u001b[38;5;28;01mtry\u001b[39;00m:\n\u001b[1;32m--> 197\u001b[0m         value_or_values \u001b[38;5;241m=\u001b[39m \u001b[43mfunc\u001b[49m\u001b[43m(\u001b[49m\u001b[43mtrial\u001b[49m\u001b[43m)\u001b[49m\n\u001b[0;32m    198\u001b[0m     \u001b[38;5;28;01mexcept\u001b[39;00m exceptions\u001b[38;5;241m.\u001b[39mTrialPruned \u001b[38;5;28;01mas\u001b[39;00m e:\n\u001b[0;32m    199\u001b[0m         \u001b[38;5;66;03m# TODO(mamu): Handle multi-objective cases.\u001b[39;00m\n\u001b[0;32m    200\u001b[0m         state \u001b[38;5;241m=\u001b[39m TrialState\u001b[38;5;241m.\u001b[39mPRUNED\n",
      "Cell \u001b[1;32mIn[5], line 134\u001b[0m, in \u001b[0;36moptimize_model.<locals>.<lambda>\u001b[1;34m(trial)\u001b[0m\n\u001b[0;32m    132\u001b[0m study \u001b[38;5;241m=\u001b[39m optuna\u001b[38;5;241m.\u001b[39mcreate_study(direction\u001b[38;5;241m=\u001b[39m\u001b[38;5;124m'\u001b[39m\u001b[38;5;124mmaximize\u001b[39m\u001b[38;5;124m'\u001b[39m)\n\u001b[0;32m    133\u001b[0m progress_bar \u001b[38;5;241m=\u001b[39m TqdmCallback(n_trials)\n\u001b[1;32m--> 134\u001b[0m study\u001b[38;5;241m.\u001b[39moptimize(\u001b[38;5;28;01mlambda\u001b[39;00m trial: \u001b[43mobjective\u001b[49m\u001b[43m(\u001b[49m\u001b[43mtrial\u001b[49m\u001b[43m,\u001b[49m\u001b[43m \u001b[49m\u001b[43mmodel_name\u001b[49m\u001b[43m,\u001b[49m\u001b[43m \u001b[49m\u001b[43mX\u001b[49m\u001b[43m,\u001b[49m\u001b[43m \u001b[49m\u001b[43my\u001b[49m\u001b[43m,\u001b[49m\u001b[43m \u001b[49m\u001b[43mfolds_scores\u001b[49m\u001b[43m)\u001b[49m, n_trials\u001b[38;5;241m=\u001b[39mn_trials, timeout\u001b[38;5;241m=\u001b[39mtimout, callbacks\u001b[38;5;241m=\u001b[39m[progress_bar])\n\u001b[0;32m    135\u001b[0m \u001b[38;5;66;03m# Close progress bar\u001b[39;00m\n\u001b[0;32m    136\u001b[0m progress_bar\u001b[38;5;241m.\u001b[39mclose()\n",
      "Cell \u001b[1;32mIn[5], line 122\u001b[0m, in \u001b[0;36mobjective\u001b[1;34m(trial, model_name, X, y, folds_scores)\u001b[0m\n\u001b[0;32m    117\u001b[0m pipeline \u001b[38;5;241m=\u001b[39m Pipeline([\n\u001b[0;32m    118\u001b[0m     (\u001b[38;5;124m'\u001b[39m\u001b[38;5;124mclassifier\u001b[39m\u001b[38;5;124m'\u001b[39m, model)\n\u001b[0;32m    119\u001b[0m ])\n\u001b[0;32m    121\u001b[0m \u001b[38;5;66;03m# Perform cross validation\u001b[39;00m\n\u001b[1;32m--> 122\u001b[0m scores \u001b[38;5;241m=\u001b[39m \u001b[43mcross_validation\u001b[49m\u001b[43m(\u001b[49m\u001b[43mmodel\u001b[49m\u001b[43m,\u001b[49m\u001b[43m \u001b[49m\u001b[43mX\u001b[49m\u001b[43m,\u001b[49m\u001b[43m \u001b[49m\u001b[43my\u001b[49m\u001b[43m,\u001b[49m\u001b[43m \u001b[49m\u001b[43mn_splits\u001b[49m\u001b[38;5;241;43m=\u001b[39;49m\u001b[38;5;241;43m10\u001b[39;49m\u001b[43m)\u001b[49m\n\u001b[0;32m    124\u001b[0m folds_scores\u001b[38;5;241m.\u001b[39mappend(scores)     \u001b[38;5;66;03m# Save scores for statistic tests\u001b[39;00m\n\u001b[0;32m    125\u001b[0m \u001b[38;5;28;01mreturn\u001b[39;00m np\u001b[38;5;241m.\u001b[39mmean(scores)\n",
      "Cell \u001b[1;32mIn[5], line 79\u001b[0m, in \u001b[0;36mcross_validation\u001b[1;34m(estimator, X, y, n_splits)\u001b[0m\n\u001b[0;32m     76\u001b[0m train \u001b[38;5;241m=\u001b[39m (train_dataloader, (x_train, y_train))\n\u001b[0;32m     77\u001b[0m val \u001b[38;5;241m=\u001b[39m (val_dataloader, (x_val, y_val))\n\u001b[1;32m---> 79\u001b[0m \u001b[43mestimator\u001b[49m\u001b[38;5;241;43m.\u001b[39;49m\u001b[43mfit\u001b[49m\u001b[43m(\u001b[49m\u001b[43mtrain\u001b[49m\u001b[43m)\u001b[49m\n\u001b[0;32m     80\u001b[0m pred \u001b[38;5;241m=\u001b[39m estimator\u001b[38;5;241m.\u001b[39mpredict(val)\n\u001b[0;32m     81\u001b[0m score \u001b[38;5;241m=\u001b[39m f1_score(y_val, pred, average\u001b[38;5;241m=\u001b[39m\u001b[38;5;124m'\u001b[39m\u001b[38;5;124mmicro\u001b[39m\u001b[38;5;124m'\u001b[39m)\n",
      "File \u001b[1;32m~\\Projects\\Python Projects\\Israel-Palestine-Political-Affiliation-Text-Classification\\classifiers.py:104\u001b[0m, in \u001b[0;36mClassifier.fit\u001b[1;34m(self, train_data_package)\u001b[0m\n\u001b[0;32m    102\u001b[0m \u001b[38;5;28;01mif\u001b[39;00m \u001b[38;5;28mself\u001b[39m\u001b[38;5;241m.\u001b[39mmodel_type \u001b[38;5;129;01min\u001b[39;00m [\u001b[38;5;124m\"\u001b[39m\u001b[38;5;124msvm\u001b[39m\u001b[38;5;124m\"\u001b[39m, \u001b[38;5;124m\"\u001b[39m\u001b[38;5;124mxgboost\u001b[39m\u001b[38;5;124m\"\u001b[39m]:\n\u001b[0;32m    103\u001b[0m     \u001b[38;5;28mself\u001b[39m\u001b[38;5;241m.\u001b[39mlog \u001b[38;5;129;01mand\u001b[39;00m \u001b[38;5;28mprint\u001b[39m(\u001b[38;5;124mf\u001b[39m\u001b[38;5;124m'\u001b[39m\u001b[38;5;124m[Model Fit Status]: Fitting the model...\u001b[39m\u001b[38;5;124m'\u001b[39m)\n\u001b[1;32m--> 104\u001b[0m     \u001b[38;5;28;43mself\u001b[39;49m\u001b[38;5;241;43m.\u001b[39;49m\u001b[43mmodel\u001b[49m\u001b[38;5;241;43m.\u001b[39;49m\u001b[43mfit\u001b[49m\u001b[43m(\u001b[49m\u001b[43mX_train\u001b[49m\u001b[43m,\u001b[49m\u001b[43m \u001b[49m\u001b[43my_train\u001b[49m\u001b[43m)\u001b[49m\n\u001b[0;32m    105\u001b[0m \u001b[38;5;28;01melif\u001b[39;00m \u001b[38;5;28mself\u001b[39m\u001b[38;5;241m.\u001b[39mmodel_type \u001b[38;5;129;01min\u001b[39;00m [\u001b[38;5;124m\"\u001b[39m\u001b[38;5;124mlogistic_regression\u001b[39m\u001b[38;5;124m\"\u001b[39m, \u001b[38;5;124m\"\u001b[39m\u001b[38;5;124mdnn\u001b[39m\u001b[38;5;124m\"\u001b[39m]:\n\u001b[0;32m    106\u001b[0m     \u001b[38;5;28mself\u001b[39m\u001b[38;5;241m.\u001b[39mlog \u001b[38;5;129;01mand\u001b[39;00m \u001b[38;5;28mprint\u001b[39m(\u001b[38;5;124mf\u001b[39m\u001b[38;5;124m'\u001b[39m\u001b[38;5;124m[Model Fit Status]: Fitting the model...\u001b[39m\u001b[38;5;124m'\u001b[39m)\n",
      "File \u001b[1;32mc:\\Users\\shaha\\Projects\\Python Projects\\Israel-Palestine-Political-Affiliation-Text-Classification\\venv\\lib\\site-packages\\sklearn\\base.py:1152\u001b[0m, in \u001b[0;36m_fit_context.<locals>.decorator.<locals>.wrapper\u001b[1;34m(estimator, *args, **kwargs)\u001b[0m\n\u001b[0;32m   1145\u001b[0m     estimator\u001b[38;5;241m.\u001b[39m_validate_params()\n\u001b[0;32m   1147\u001b[0m \u001b[38;5;28;01mwith\u001b[39;00m config_context(\n\u001b[0;32m   1148\u001b[0m     skip_parameter_validation\u001b[38;5;241m=\u001b[39m(\n\u001b[0;32m   1149\u001b[0m         prefer_skip_nested_validation \u001b[38;5;129;01mor\u001b[39;00m global_skip_validation\n\u001b[0;32m   1150\u001b[0m     )\n\u001b[0;32m   1151\u001b[0m ):\n\u001b[1;32m-> 1152\u001b[0m     \u001b[38;5;28;01mreturn\u001b[39;00m \u001b[43mfit_method\u001b[49m\u001b[43m(\u001b[49m\u001b[43mestimator\u001b[49m\u001b[43m,\u001b[49m\u001b[43m \u001b[49m\u001b[38;5;241;43m*\u001b[39;49m\u001b[43margs\u001b[49m\u001b[43m,\u001b[49m\u001b[43m \u001b[49m\u001b[38;5;241;43m*\u001b[39;49m\u001b[38;5;241;43m*\u001b[39;49m\u001b[43mkwargs\u001b[49m\u001b[43m)\u001b[49m\n",
      "File \u001b[1;32mc:\\Users\\shaha\\Projects\\Python Projects\\Israel-Palestine-Political-Affiliation-Text-Classification\\venv\\lib\\site-packages\\sklearn\\svm\\_base.py:250\u001b[0m, in \u001b[0;36mBaseLibSVM.fit\u001b[1;34m(self, X, y, sample_weight)\u001b[0m\n\u001b[0;32m    247\u001b[0m     \u001b[38;5;28mprint\u001b[39m(\u001b[38;5;124m\"\u001b[39m\u001b[38;5;124m[LibSVM]\u001b[39m\u001b[38;5;124m\"\u001b[39m, end\u001b[38;5;241m=\u001b[39m\u001b[38;5;124m\"\u001b[39m\u001b[38;5;124m\"\u001b[39m)\n\u001b[0;32m    249\u001b[0m seed \u001b[38;5;241m=\u001b[39m rnd\u001b[38;5;241m.\u001b[39mrandint(np\u001b[38;5;241m.\u001b[39miinfo(\u001b[38;5;124m\"\u001b[39m\u001b[38;5;124mi\u001b[39m\u001b[38;5;124m\"\u001b[39m)\u001b[38;5;241m.\u001b[39mmax)\n\u001b[1;32m--> 250\u001b[0m \u001b[43mfit\u001b[49m\u001b[43m(\u001b[49m\u001b[43mX\u001b[49m\u001b[43m,\u001b[49m\u001b[43m \u001b[49m\u001b[43my\u001b[49m\u001b[43m,\u001b[49m\u001b[43m \u001b[49m\u001b[43msample_weight\u001b[49m\u001b[43m,\u001b[49m\u001b[43m \u001b[49m\u001b[43msolver_type\u001b[49m\u001b[43m,\u001b[49m\u001b[43m \u001b[49m\u001b[43mkernel\u001b[49m\u001b[43m,\u001b[49m\u001b[43m \u001b[49m\u001b[43mrandom_seed\u001b[49m\u001b[38;5;241;43m=\u001b[39;49m\u001b[43mseed\u001b[49m\u001b[43m)\u001b[49m\n\u001b[0;32m    251\u001b[0m \u001b[38;5;66;03m# see comment on the other call to np.iinfo in this file\u001b[39;00m\n\u001b[0;32m    253\u001b[0m \u001b[38;5;28mself\u001b[39m\u001b[38;5;241m.\u001b[39mshape_fit_ \u001b[38;5;241m=\u001b[39m X\u001b[38;5;241m.\u001b[39mshape \u001b[38;5;28;01mif\u001b[39;00m \u001b[38;5;28mhasattr\u001b[39m(X, \u001b[38;5;124m\"\u001b[39m\u001b[38;5;124mshape\u001b[39m\u001b[38;5;124m\"\u001b[39m) \u001b[38;5;28;01melse\u001b[39;00m (n_samples,)\n",
      "File \u001b[1;32mc:\\Users\\shaha\\Projects\\Python Projects\\Israel-Palestine-Political-Affiliation-Text-Classification\\venv\\lib\\site-packages\\sklearn\\svm\\_base.py:329\u001b[0m, in \u001b[0;36mBaseLibSVM._dense_fit\u001b[1;34m(self, X, y, sample_weight, solver_type, kernel, random_seed)\u001b[0m\n\u001b[0;32m    315\u001b[0m libsvm\u001b[38;5;241m.\u001b[39mset_verbosity_wrap(\u001b[38;5;28mself\u001b[39m\u001b[38;5;241m.\u001b[39mverbose)\n\u001b[0;32m    317\u001b[0m \u001b[38;5;66;03m# we don't pass **self.get_params() to allow subclasses to\u001b[39;00m\n\u001b[0;32m    318\u001b[0m \u001b[38;5;66;03m# add other parameters to __init__\u001b[39;00m\n\u001b[0;32m    319\u001b[0m (\n\u001b[0;32m    320\u001b[0m     \u001b[38;5;28mself\u001b[39m\u001b[38;5;241m.\u001b[39msupport_,\n\u001b[0;32m    321\u001b[0m     \u001b[38;5;28mself\u001b[39m\u001b[38;5;241m.\u001b[39msupport_vectors_,\n\u001b[0;32m    322\u001b[0m     \u001b[38;5;28mself\u001b[39m\u001b[38;5;241m.\u001b[39m_n_support,\n\u001b[0;32m    323\u001b[0m     \u001b[38;5;28mself\u001b[39m\u001b[38;5;241m.\u001b[39mdual_coef_,\n\u001b[0;32m    324\u001b[0m     \u001b[38;5;28mself\u001b[39m\u001b[38;5;241m.\u001b[39mintercept_,\n\u001b[0;32m    325\u001b[0m     \u001b[38;5;28mself\u001b[39m\u001b[38;5;241m.\u001b[39m_probA,\n\u001b[0;32m    326\u001b[0m     \u001b[38;5;28mself\u001b[39m\u001b[38;5;241m.\u001b[39m_probB,\n\u001b[0;32m    327\u001b[0m     \u001b[38;5;28mself\u001b[39m\u001b[38;5;241m.\u001b[39mfit_status_,\n\u001b[0;32m    328\u001b[0m     \u001b[38;5;28mself\u001b[39m\u001b[38;5;241m.\u001b[39m_num_iter,\n\u001b[1;32m--> 329\u001b[0m ) \u001b[38;5;241m=\u001b[39m \u001b[43mlibsvm\u001b[49m\u001b[38;5;241;43m.\u001b[39;49m\u001b[43mfit\u001b[49m\u001b[43m(\u001b[49m\n\u001b[0;32m    330\u001b[0m \u001b[43m    \u001b[49m\u001b[43mX\u001b[49m\u001b[43m,\u001b[49m\n\u001b[0;32m    331\u001b[0m \u001b[43m    \u001b[49m\u001b[43my\u001b[49m\u001b[43m,\u001b[49m\n\u001b[0;32m    332\u001b[0m \u001b[43m    \u001b[49m\u001b[43msvm_type\u001b[49m\u001b[38;5;241;43m=\u001b[39;49m\u001b[43msolver_type\u001b[49m\u001b[43m,\u001b[49m\n\u001b[0;32m    333\u001b[0m \u001b[43m    \u001b[49m\u001b[43msample_weight\u001b[49m\u001b[38;5;241;43m=\u001b[39;49m\u001b[43msample_weight\u001b[49m\u001b[43m,\u001b[49m\n\u001b[0;32m    334\u001b[0m \u001b[43m    \u001b[49m\u001b[38;5;66;43;03m# TODO(1.4): Replace \"_class_weight\" with \"class_weight_\"\u001b[39;49;00m\n\u001b[0;32m    335\u001b[0m \u001b[43m    \u001b[49m\u001b[43mclass_weight\u001b[49m\u001b[38;5;241;43m=\u001b[39;49m\u001b[38;5;28;43mgetattr\u001b[39;49m\u001b[43m(\u001b[49m\u001b[38;5;28;43mself\u001b[39;49m\u001b[43m,\u001b[49m\u001b[43m \u001b[49m\u001b[38;5;124;43m\"\u001b[39;49m\u001b[38;5;124;43m_class_weight\u001b[39;49m\u001b[38;5;124;43m\"\u001b[39;49m\u001b[43m,\u001b[49m\u001b[43m \u001b[49m\u001b[43mnp\u001b[49m\u001b[38;5;241;43m.\u001b[39;49m\u001b[43mempty\u001b[49m\u001b[43m(\u001b[49m\u001b[38;5;241;43m0\u001b[39;49m\u001b[43m)\u001b[49m\u001b[43m)\u001b[49m\u001b[43m,\u001b[49m\n\u001b[0;32m    336\u001b[0m \u001b[43m    \u001b[49m\u001b[43mkernel\u001b[49m\u001b[38;5;241;43m=\u001b[39;49m\u001b[43mkernel\u001b[49m\u001b[43m,\u001b[49m\n\u001b[0;32m    337\u001b[0m \u001b[43m    \u001b[49m\u001b[43mC\u001b[49m\u001b[38;5;241;43m=\u001b[39;49m\u001b[38;5;28;43mself\u001b[39;49m\u001b[38;5;241;43m.\u001b[39;49m\u001b[43mC\u001b[49m\u001b[43m,\u001b[49m\n\u001b[0;32m    338\u001b[0m \u001b[43m    \u001b[49m\u001b[43mnu\u001b[49m\u001b[38;5;241;43m=\u001b[39;49m\u001b[38;5;28;43mself\u001b[39;49m\u001b[38;5;241;43m.\u001b[39;49m\u001b[43mnu\u001b[49m\u001b[43m,\u001b[49m\n\u001b[0;32m    339\u001b[0m \u001b[43m    \u001b[49m\u001b[43mprobability\u001b[49m\u001b[38;5;241;43m=\u001b[39;49m\u001b[38;5;28;43mself\u001b[39;49m\u001b[38;5;241;43m.\u001b[39;49m\u001b[43mprobability\u001b[49m\u001b[43m,\u001b[49m\n\u001b[0;32m    340\u001b[0m \u001b[43m    \u001b[49m\u001b[43mdegree\u001b[49m\u001b[38;5;241;43m=\u001b[39;49m\u001b[38;5;28;43mself\u001b[39;49m\u001b[38;5;241;43m.\u001b[39;49m\u001b[43mdegree\u001b[49m\u001b[43m,\u001b[49m\n\u001b[0;32m    341\u001b[0m \u001b[43m    \u001b[49m\u001b[43mshrinking\u001b[49m\u001b[38;5;241;43m=\u001b[39;49m\u001b[38;5;28;43mself\u001b[39;49m\u001b[38;5;241;43m.\u001b[39;49m\u001b[43mshrinking\u001b[49m\u001b[43m,\u001b[49m\n\u001b[0;32m    342\u001b[0m \u001b[43m    \u001b[49m\u001b[43mtol\u001b[49m\u001b[38;5;241;43m=\u001b[39;49m\u001b[38;5;28;43mself\u001b[39;49m\u001b[38;5;241;43m.\u001b[39;49m\u001b[43mtol\u001b[49m\u001b[43m,\u001b[49m\n\u001b[0;32m    343\u001b[0m \u001b[43m    \u001b[49m\u001b[43mcache_size\u001b[49m\u001b[38;5;241;43m=\u001b[39;49m\u001b[38;5;28;43mself\u001b[39;49m\u001b[38;5;241;43m.\u001b[39;49m\u001b[43mcache_size\u001b[49m\u001b[43m,\u001b[49m\n\u001b[0;32m    344\u001b[0m \u001b[43m    \u001b[49m\u001b[43mcoef0\u001b[49m\u001b[38;5;241;43m=\u001b[39;49m\u001b[38;5;28;43mself\u001b[39;49m\u001b[38;5;241;43m.\u001b[39;49m\u001b[43mcoef0\u001b[49m\u001b[43m,\u001b[49m\n\u001b[0;32m    345\u001b[0m \u001b[43m    \u001b[49m\u001b[43mgamma\u001b[49m\u001b[38;5;241;43m=\u001b[39;49m\u001b[38;5;28;43mself\u001b[39;49m\u001b[38;5;241;43m.\u001b[39;49m\u001b[43m_gamma\u001b[49m\u001b[43m,\u001b[49m\n\u001b[0;32m    346\u001b[0m \u001b[43m    \u001b[49m\u001b[43mepsilon\u001b[49m\u001b[38;5;241;43m=\u001b[39;49m\u001b[38;5;28;43mself\u001b[39;49m\u001b[38;5;241;43m.\u001b[39;49m\u001b[43mepsilon\u001b[49m\u001b[43m,\u001b[49m\n\u001b[0;32m    347\u001b[0m \u001b[43m    \u001b[49m\u001b[43mmax_iter\u001b[49m\u001b[38;5;241;43m=\u001b[39;49m\u001b[38;5;28;43mself\u001b[39;49m\u001b[38;5;241;43m.\u001b[39;49m\u001b[43mmax_iter\u001b[49m\u001b[43m,\u001b[49m\n\u001b[0;32m    348\u001b[0m \u001b[43m    \u001b[49m\u001b[43mrandom_seed\u001b[49m\u001b[38;5;241;43m=\u001b[39;49m\u001b[43mrandom_seed\u001b[49m\u001b[43m,\u001b[49m\n\u001b[0;32m    349\u001b[0m \u001b[43m\u001b[49m\u001b[43m)\u001b[49m\n\u001b[0;32m    351\u001b[0m \u001b[38;5;28mself\u001b[39m\u001b[38;5;241m.\u001b[39m_warn_from_fit_status()\n",
      "\u001b[1;31mKeyboardInterrupt\u001b[0m: "
     ]
    }
   ],
   "source": [
    "svm_results['bert_with_augmentation'] = optimize_model('svm', X_bert_with_augmentation, y_bert_with_augmentation)"
   ]
  },
  {
   "cell_type": "code",
   "execution_count": null,
   "metadata": {},
   "outputs": [],
   "source": [
    "svm_results['tfidf_without_augmentation'] = optimize_model('svm', X_tfidf_no_augmentation, y_tfidf_no_augmentation)"
   ]
  },
  {
   "cell_type": "code",
   "execution_count": null,
   "metadata": {},
   "outputs": [],
   "source": [
    "svm_results['tfidf_with_undersampling'] = optimize_model('svm', X_tfidf_undersampled, y_tfidf_undersampled)"
   ]
  },
  {
   "cell_type": "code",
   "execution_count": 15,
   "metadata": {
    "id": "Dvg-ZLIiyunH"
   },
   "outputs": [
    {
     "name": "stderr",
     "output_type": "stream",
     "text": [
      "[I 2025-01-21 22:25:19,509] A new study created in memory with name: no-name-94bea806-3901-4049-b252-f124a4afb4e1\n",
      "\n",
      "  0%|          | 0/50 [00:00<?, ?it/s]\u001b[A[I 2025-01-21 22:31:13,275] Trial 0 finished with value: 0.8001407056053734 and parameters: {'C': 0.0005557124134415947, 'kernel': 'linear', 'degree': 2, 'gamma': 'scale'}. Best is trial 0 with value: 0.8001407056053734.\n",
      "\n",
      "  2%|▏         | 1/50 [05:53<4:48:54, 353.76s/it]\u001b[A[I 2025-01-21 22:45:32,500] Trial 1 finished with value: 0.5062383408925666 and parameters: {'C': 0.000589949334947208, 'kernel': 'poly', 'degree': 5, 'gamma': 'scale'}. Best is trial 0 with value: 0.8001407056053734.\n",
      "\n",
      "  4%|▍         | 2/50 [20:12<8:05:11, 606.50s/it]\u001b[A\n",
      "[I 2025-01-21 22:45:32,505] A new study created in memory with name: no-name-259a2ba7-9296-4c4b-b7e7-508a73dabc9a\n"
     ]
    },
    {
     "name": "stdout",
     "output_type": "stream",
     "text": [
      "Best hyperparameters for svm: {'C': 0.0005557124134415947, 'kernel': 'linear', 'degree': 2, 'gamma': 'scale'}\n",
      "Best F1 score for svm: 0.8001407056053734\n"
     ]
    },
    {
     "name": "stderr",
     "output_type": "stream",
     "text": [
      "\n",
      "  0%|          | 0/50 [00:00<?, ?it/s]\u001b[A[I 2025-01-21 22:46:33,015] Trial 0 finished with value: 0.6801286464260459 and parameters: {'C': 79.7971925806194, 'kernel': 'poly', 'degree': 3, 'gamma': 'auto'}. Best is trial 0 with value: 0.6801286464260459.\n",
      "\n",
      "  2%|▏         | 1/50 [01:00<49:24, 60.51s/it]\u001b[A[I 2025-01-21 22:47:40,813] Trial 1 finished with value: 0.6801286464260459 and parameters: {'C': 0.0003724160232412946, 'kernel': 'rbf', 'degree': 5, 'gamma': 'auto'}. Best is trial 0 with value: 0.6801286464260459.\n",
      "\n",
      "  4%|▍         | 2/50 [02:08<51:50, 64.80s/it]\u001b[A[I 2025-01-21 22:49:03,000] Trial 2 finished with value: 0.6801286464260459 and parameters: {'C': 0.20500688205834142, 'kernel': 'rbf', 'degree': 4, 'gamma': 'auto'}. Best is trial 0 with value: 0.6801286464260459.\n",
      "\n",
      "  6%|▌         | 3/50 [03:30<56:58, 72.74s/it]\u001b[A[I 2025-01-21 22:50:16,155] Trial 3 finished with value: 0.730456233521128 and parameters: {'C': 0.06090560165176679, 'kernel': 'linear', 'degree': 4, 'gamma': 'scale'}. Best is trial 3 with value: 0.730456233521128.\n",
      "\n",
      "  8%|▊         | 4/50 [04:43<55:53, 72.90s/it]\u001b[A[I 2025-01-21 22:51:06,514] Trial 4 finished with value: 0.761668797504812 and parameters: {'C': 3.969319643490677, 'kernel': 'sigmoid', 'degree': 4, 'gamma': 'scale'}. Best is trial 4 with value: 0.761668797504812.\n",
      "\n",
      " 10%|█         | 5/50 [05:34<48:34, 64.77s/it]\u001b[A[I 2025-01-21 22:52:14,987] Trial 5 finished with value: 0.6801286464260459 and parameters: {'C': 0.0001820730399489636, 'kernel': 'linear', 'degree': 2, 'gamma': 'auto'}. Best is trial 4 with value: 0.761668797504812.\n",
      "\n",
      " 12%|█▏        | 6/50 [06:42<48:25, 66.03s/it]\u001b[A[I 2025-01-21 22:53:30,617] Trial 6 finished with value: 0.7208208644178129 and parameters: {'C': 40.63654953056346, 'kernel': 'sigmoid', 'degree': 2, 'gamma': 'auto'}. Best is trial 4 with value: 0.761668797504812.\n",
      "\n",
      " 14%|█▍        | 7/50 [07:58<49:34, 69.17s/it]\u001b[A[I 2025-01-21 22:54:33,071] Trial 7 finished with value: 0.6801286464260459 and parameters: {'C': 0.0328828334621112, 'kernel': 'sigmoid', 'degree': 2, 'gamma': 'auto'}. Best is trial 4 with value: 0.761668797504812.\n",
      "\n",
      " 16%|█▌        | 8/50 [09:00<46:55, 67.03s/it]\u001b[A[I 2025-01-21 22:56:07,176] Trial 8 finished with value: 0.6801286464260459 and parameters: {'C': 0.032187129007406196, 'kernel': 'rbf', 'degree': 3, 'gamma': 'scale'}. Best is trial 4 with value: 0.761668797504812.\n",
      "\n",
      " 18%|█▊        | 9/50 [10:34<51:35, 75.49s/it]\u001b[A[I 2025-01-21 22:57:40,700] Trial 9 finished with value: 0.6801286464260459 and parameters: {'C': 0.007286845837420061, 'kernel': 'rbf', 'degree': 3, 'gamma': 'scale'}. Best is trial 4 with value: 0.761668797504812.\n",
      "\n",
      " 20%|██        | 10/50 [12:08<54:02, 81.06s/it]\u001b[A[I 2025-01-21 22:58:31,550] Trial 10 finished with value: 0.7590642576487723 and parameters: {'C': 4.584739141160728, 'kernel': 'sigmoid', 'degree': 5, 'gamma': 'scale'}. Best is trial 4 with value: 0.761668797504812.\n",
      "\n",
      " 22%|██▏       | 11/50 [12:59<46:40, 71.81s/it]\u001b[A[I 2025-01-21 22:59:21,748] Trial 11 finished with value: 0.7616662217663945 and parameters: {'C': 3.850562895347861, 'kernel': 'sigmoid', 'degree': 5, 'gamma': 'scale'}. Best is trial 4 with value: 0.761668797504812.\n",
      "\n",
      " 24%|██▍       | 12/50 [13:49<41:19, 65.24s/it]\u001b[A[I 2025-01-21 23:00:13,193] Trial 12 finished with value: 0.7726784401328144 and parameters: {'C': 2.1770886565694334, 'kernel': 'sigmoid', 'degree': 5, 'gamma': 'scale'}. Best is trial 12 with value: 0.7726784401328144.\n",
      "\n",
      " 26%|██▌       | 13/50 [14:40<37:39, 61.06s/it]\u001b[A[I 2025-01-21 23:01:05,872] Trial 13 finished with value: 0.7731348141487653 and parameters: {'C': 2.197918847562293, 'kernel': 'sigmoid', 'degree': 4, 'gamma': 'scale'}. Best is trial 13 with value: 0.7731348141487653.\n",
      "\n",
      " 28%|██▊       | 14/50 [15:33<35:07, 58.53s/it]\u001b[A[I 2025-01-21 23:03:30,362] Trial 14 finished with value: 0.6874725449700512 and parameters: {'C': 1.1339467931728215, 'kernel': 'poly', 'degree': 5, 'gamma': 'scale'}. Best is trial 13 with value: 0.7731348141487653.\n",
      "\n",
      " 30%|███       | 15/50 [17:57<49:15, 84.44s/it]\u001b[A[I 2025-01-21 23:04:30,016] Trial 15 finished with value: 0.7821658213561498 and parameters: {'C': 0.49503644907234334, 'kernel': 'sigmoid', 'degree': 4, 'gamma': 'scale'}. Best is trial 15 with value: 0.7821658213561498.\n",
      "\n",
      " 32%|███▏      | 16/50 [18:57<43:37, 76.98s/it]\u001b[A[I 2025-01-21 23:05:31,788] Trial 16 finished with value: 0.7772714500470659 and parameters: {'C': 0.33286147109245495, 'kernel': 'sigmoid', 'degree': 4, 'gamma': 'scale'}. Best is trial 15 with value: 0.7821658213561498.\n",
      "\n",
      " 34%|███▍      | 17/50 [19:59<39:49, 72.41s/it]\u001b[A[I 2025-01-21 23:06:35,564] Trial 17 finished with value: 0.7703867354154667 and parameters: {'C': 0.24646356931816926, 'kernel': 'sigmoid', 'degree': 4, 'gamma': 'scale'}. Best is trial 15 with value: 0.7821658213561498.\n",
      "\n",
      " 36%|███▌      | 18/50 [21:03<37:25, 70.17s/it]\u001b[A\n",
      "[I 2025-01-21 23:06:35,567] A new study created in memory with name: no-name-ae4c8b47-7fc6-45b6-b981-3a273b38eb66\n"
     ]
    },
    {
     "name": "stdout",
     "output_type": "stream",
     "text": [
      "Best hyperparameters for svm: {'C': 0.49503644907234334, 'kernel': 'sigmoid', 'degree': 4, 'gamma': 'scale'}\n",
      "Best F1 score for svm: 0.7821658213561498\n"
     ]
    },
    {
     "name": "stderr",
     "output_type": "stream",
     "text": [
      "\n",
      "  0%|          | 0/50 [00:00<?, ?it/s]\u001b[A[I 2025-01-21 23:14:57,168] Trial 0 finished with value: 0.7840745074957588 and parameters: {'C': 0.9560707529752526, 'kernel': 'linear', 'degree': 4, 'gamma': 'auto'}. Best is trial 0 with value: 0.7840745074957588.\n",
      "\n",
      "  2%|▏         | 1/50 [08:21<6:49:38, 501.60s/it]\u001b[A[I 2025-01-21 23:23:08,982] Trial 1 finished with value: 0.7827793857978741 and parameters: {'C': 0.866907409787206, 'kernel': 'linear', 'degree': 4, 'gamma': 'auto'}. Best is trial 0 with value: 0.7840745074957588.\n",
      "\n",
      "  4%|▍         | 2/50 [16:33<6:36:40, 495.84s/it]\u001b[A[I 2025-01-21 23:38:57,640] Trial 2 finished with value: 0.43502821729044766 and parameters: {'C': 0.7878594571168033, 'kernel': 'rbf', 'degree': 3, 'gamma': 'auto'}. Best is trial 0 with value: 0.7840745074957588.\n",
      "\n",
      "  6%|▌         | 3/50 [32:22<8:27:05, 647.36s/it]\u001b[A"
     ]
    },
    {
     "name": "stdout",
     "output_type": "stream",
     "text": [
      "Best hyperparameters for svm: {'C': 0.9560707529752526, 'kernel': 'linear', 'degree': 4, 'gamma': 'auto'}\n",
      "Best F1 score for svm: 0.7840745074957588\n"
     ]
    },
    {
     "name": "stderr",
     "output_type": "stream",
     "text": [
      "\n"
     ]
    }
   ],
   "source": [
    "svm_results['tfidf_with_augmentation'] = optimize_model('svm', X_tfidf_with_augmentation, y_tfidf_with_augmentation)"
   ]
  },
  {
   "cell_type": "code",
   "execution_count": 16,
   "metadata": {
    "collapsed": false
   },
   "outputs": [
    {
     "name": "stdout",
     "output_type": "stream",
     "text": [
      "SVM results:\n",
      "\n",
      "\n",
      "Using BERT embeddings without augmentation scores: [[0.6788990825688074, 0.6788990825688074, 0.6804281345565749, 0.6804281345565749, 0.6804281345565749, 0.6804281345565749, 0.6804281345565749, 0.6814701378254211, 0.6799387442572741, 0.6799387442572741], [0.6788990825688074, 0.6788990825688074, 0.6804281345565749, 0.6804281345565749, 0.6804281345565749, 0.6804281345565749, 0.6804281345565749, 0.6814701378254211, 0.6799387442572741, 0.6799387442572741], [0.845565749235474, 0.8532110091743119, 0.8394495412844036, 0.8532110091743119, 0.8425076452599388, 0.8379204892966361, 0.8241590214067278, 0.8453292496171516, 0.8529862174578867, 0.8437978560490046], [0.8470948012232415, 0.8532110091743119, 0.8394495412844036, 0.8501529051987767, 0.8394495412844036, 0.8379204892966361, 0.8241590214067278, 0.8453292496171516, 0.8545176110260337, 0.8453292496171516], [0.6788990825688074, 0.6788990825688074, 0.6804281345565749, 0.6804281345565749, 0.6804281345565749, 0.6804281345565749, 0.6804281345565749, 0.6814701378254211, 0.6799387442572741, 0.6799387442572741], [0.6788990825688074, 0.6788990825688074, 0.6804281345565749, 0.6804281345565749, 0.6804281345565749, 0.6804281345565749, 0.6804281345565749, 0.6814701378254211, 0.6799387442572741, 0.6799387442572741], [0.8409785932721713, 0.8516819571865444, 0.8409785932721713, 0.8547400611620795, 0.8379204892966361, 0.8379204892966361, 0.8226299694189603, 0.8468606431852986, 0.8545176110260337, 0.8407350689127105], [0.8440366972477065, 0.8470948012232415, 0.8394495412844036, 0.8501529051987767, 0.8363914373088684, 0.8425076452599388, 0.8165137614678899, 0.8407350689127105, 0.8514548238897397, 0.8437978560490046], [0.8058103975535168, 0.8073394495412844, 0.8333333333333334, 0.8348623853211009, 0.8119266055045872, 0.8165137614678899, 0.7981651376146789, 0.8039816232771823, 0.8330781010719756, 0.8284839203675345], [0.6788990825688074, 0.6788990825688074, 0.6804281345565749, 0.6804281345565749, 0.6804281345565749, 0.6804281345565749, 0.6804281345565749, 0.6814701378254211, 0.6799387442572741, 0.6799387442572741], [0.8318042813455657, 0.8532110091743119, 0.8425076452599388, 0.8440366972477065, 0.8302752293577982, 0.8348623853211009, 0.8165137614678899, 0.8300153139356815, 0.8483920367534457, 0.8514548238897397], [0.8318042813455657, 0.8516819571865444, 0.8425076452599388, 0.8440366972477065, 0.827217125382263, 0.8363914373088684, 0.8149847094801224, 0.8284839203675345, 0.8483920367534457, 0.8499234303215927], [0.8333333333333334, 0.8532110091743119, 0.8379204892966361, 0.8486238532110092, 0.8302752293577982, 0.8363914373088684, 0.8180428134556575, 0.8315467075038285, 0.8545176110260337, 0.8499234303215927], [0.7691131498470948, 0.7675840978593272, 0.8042813455657493, 0.790519877675841, 0.7889908256880734, 0.7889908256880734, 0.77217125382263, 0.7825421133231241, 0.7886676875957122, 0.7947932618683001], [0.8470948012232415, 0.8593272171253823, 0.8379204892966361, 0.845565749235474, 0.8409785932721713, 0.8348623853211009, 0.8211009174311926, 0.8392036753445635, 0.8606431852986217, 0.8483920367534457], [0.8256880733944955, 0.827217125382263, 0.8379204892966361, 0.845565749235474, 0.8226299694189603, 0.8333333333333334, 0.8180428134556575, 0.7993874425727412, 0.8346094946401225, 0.8284839203675345], [0.7599388379204893, 0.7477064220183486, 0.7798165137614679, 0.764525993883792, 0.7431192660550459, 0.77217125382263, 0.7584097859327217, 0.7687595712098009, 0.7611026033690659, 0.7687595712098009]]\n",
      "Using BERT embeddings without augmentation best score: 0.8438137787955847\n",
      "Using BERT embeddings without augmentation best parameters: {'C': 0.0003560135369092698, 'kernel': 'linear', 'degree': 4, 'gamma': 'scale'}\n",
      "\n",
      "\n",
      "Using BERT embeddings with augmentation scores: [[0.8041176470588235, 0.8052941176470588, 0.7992937021777516, 0.7998822836962919, 0.794585050029429, 0.7822248381400824, 0.8128310771041789, 0.807533843437316, 0.7992937021777516, 0.79635079458505], [0.5052941176470588, 0.5052941176470588, 0.5044143613890524, 0.5044143613890524, 0.5161859917598587, 0.5020600353148911, 0.5061801059446733, 0.4985285462036492, 0.5120659211300765, 0.5079458505002943]]\n",
      "Using BERT embeddings with augmentation best score: 0.8001407056053734\n",
      "Using BERT embeddings with augmentation best parameters: {'C': 0.0005557124134415947, 'kernel': 'linear', 'degree': 2, 'gamma': 'scale'}\n",
      "\n",
      "\n",
      "Using TF-IDF embeddings without augmentation scores: [[0.6788990825688074, 0.6788990825688074, 0.6804281345565749, 0.6804281345565749, 0.6804281345565749, 0.6804281345565749, 0.6804281345565749, 0.6814701378254211, 0.6799387442572741, 0.6799387442572741], [0.6788990825688074, 0.6788990825688074, 0.6804281345565749, 0.6804281345565749, 0.6804281345565749, 0.6804281345565749, 0.6804281345565749, 0.6814701378254211, 0.6799387442572741, 0.6799387442572741], [0.6788990825688074, 0.6788990825688074, 0.6804281345565749, 0.6804281345565749, 0.6804281345565749, 0.6804281345565749, 0.6804281345565749, 0.6814701378254211, 0.6799387442572741, 0.6799387442572741], [0.7293577981651376, 0.746177370030581, 0.7308868501529052, 0.7262996941896025, 0.7186544342507645, 0.7262996941896025, 0.7431192660550459, 0.7289433384379785, 0.7289433384379785, 0.7258805513016845], [0.7629969418960245, 0.753822629969419, 0.764525993883792, 0.7568807339449541, 0.72782874617737, 0.7675840978593272, 0.7691131498470948, 0.7488514548238897, 0.7871362940275651, 0.777947932618683], [0.6788990825688074, 0.6788990825688074, 0.6804281345565749, 0.6804281345565749, 0.6804281345565749, 0.6804281345565749, 0.6804281345565749, 0.6814701378254211, 0.6799387442572741, 0.6799387442572741], [0.7232415902140673, 0.7324159021406728, 0.7125382262996942, 0.7155963302752294, 0.7140672782874617, 0.7140672782874617, 0.72782874617737, 0.7258805513016845, 0.7243491577335375, 0.7182235834609495], [0.6788990825688074, 0.6788990825688074, 0.6804281345565749, 0.6804281345565749, 0.6804281345565749, 0.6804281345565749, 0.6804281345565749, 0.6814701378254211, 0.6799387442572741, 0.6799387442572741], [0.6788990825688074, 0.6788990825688074, 0.6804281345565749, 0.6804281345565749, 0.6804281345565749, 0.6804281345565749, 0.6804281345565749, 0.6814701378254211, 0.6799387442572741, 0.6799387442572741], [0.6788990825688074, 0.6788990825688074, 0.6804281345565749, 0.6804281345565749, 0.6804281345565749, 0.6804281345565749, 0.6804281345565749, 0.6814701378254211, 0.6799387442572741, 0.6799387442572741], [0.7599388379204893, 0.7691131498470948, 0.7553516819571865, 0.753822629969419, 0.7339449541284404, 0.77217125382263, 0.7660550458715596, 0.7473200612557427, 0.777947932618683, 0.7549770290964778], [0.7629969418960245, 0.7691131498470948, 0.7660550458715596, 0.7477064220183486, 0.7308868501529052, 0.7691131498470948, 0.7737003058103975, 0.7442572741194488, 0.776416539050536, 0.776416539050536], [0.7752293577981652, 0.7737003058103975, 0.7813455657492355, 0.7660550458715596, 0.7599388379204893, 0.7828746177370031, 0.7706422018348624, 0.7549770290964778, 0.7947932618683001, 0.7672281776416539], [0.7767584097859327, 0.7737003058103975, 0.7844036697247706, 0.7782874617737003, 0.753822629969419, 0.7844036697247706, 0.7782874617737003, 0.7503828483920367, 0.7901990811638591, 0.7611026033690659], [0.6850152905198776, 0.691131498470948, 0.6834862385321101, 0.6834862385321101, 0.6880733944954128, 0.6880733944954128, 0.6850152905198776, 0.6906584992343032, 0.6921898928024502, 0.6875957120980092], [0.7935779816513762, 0.7874617737003058, 0.7859327217125383, 0.7706422018348624, 0.7553516819571865, 0.7813455657492355, 0.7828746177370031, 0.7733537519142419, 0.8055130168453293, 0.7856049004594181], [0.7874617737003058, 0.7752293577981652, 0.7859327217125383, 0.764525993883792, 0.7415902140672783, 0.7798165137614679, 0.7828746177370031, 0.7656967840735069, 0.8039816232771823, 0.7856049004594181], [0.7798165137614679, 0.77217125382263, 0.7859327217125383, 0.7660550458715596, 0.7293577981651376, 0.764525993883792, 0.7767584097859327, 0.7626339969372129, 0.7886676875957122, 0.777947932618683]]\n",
      "Using TF-IDF embeddings without augmentation best score: 0.7821658213561498\n",
      "Using TF-IDF embeddings without augmentation best parameters: {'C': 0.49503644907234334, 'kernel': 'sigmoid', 'degree': 4, 'gamma': 'scale'}\n",
      "\n",
      "\n",
      "Using TF-IDF embeddings with augmentation scores: [[0.7776470588235294, 0.7964705882352942, 0.7863449087698646, 0.7769276044732195, 0.7892878163625662, 0.7645673925838729, 0.7904649793996469, 0.7910535609181871, 0.7828134196586227, 0.785167745732784], [0.7788235294117647, 0.7994117647058824, 0.786933490288405, 0.7757504414361389, 0.7857563272513243, 0.7616244849911713, 0.786933490288405, 0.7886992348440259, 0.7786933490288405, 0.785167745732784], [0.43529411764705883, 0.43529411764705883, 0.43496174220129485, 0.43496174220129485, 0.43496174220129485, 0.43496174220129485, 0.43496174220129485, 0.43496174220129485, 0.43496174220129485, 0.43496174220129485]]\n",
      "Using TF-IDF embeddings with augmentation best score: 0.7840745074957588\n",
      "Using TF-IDF embeddings with augmentation best parameters: {'C': 0.9560707529752526, 'kernel': 'linear', 'degree': 4, 'gamma': 'auto'}\n",
      "\n",
      "\n"
     ]
    }
   ],
   "source": [
    "print(\"SVM results:\\n\\n\")\n",
    "df = pd.DataFrame([\n",
    "    {\n",
    "        'Experiment': key,\n",
    "        'Best Parameters': value[0],\n",
    "        'Best Avg': value[1],\n",
    "        'STD': value[2],\n",
    "        'Scores': value[3]\n",
    "    }\n",
    "    for key, value in svm_results.items()\n",
    "])\n",
    "display(df)"
   ]
  },
  {
   "cell_type": "markdown",
   "metadata": {
    "collapsed": false
   },
   "source": [
    "## XGBoost"
   ]
  },
  {
   "cell_type": "code",
   "execution_count": 7,
   "metadata": {
    "collapsed": false
   },
   "outputs": [
    {
     "name": "stderr",
     "output_type": "stream",
     "text": [
      "[I 2025-01-24 14:31:49,384] A new study created in memory with name: no-name-05eba04d-bfdf-4720-b5d5-8bc0b2a8ccdd\n",
      "\n",
      "\n",
      "\n",
      "\n",
      "\n",
      "\n",
      "\n",
      "\u001b[A\u001b[A\u001b[A\u001b[A\u001b[A\u001b[A\u001b[Ac:\\Users\\shaha\\Projects\\Python Projects\\Israel-Palestine-Political-Affiliation-Text-Classification\\venv\\lib\\site-packages\\xgboost\\core.py:158: UserWarning: [14:31:49] WARNING: C:\\buildkite-agent\\builds\\buildkite-windows-cpu-autoscaling-group-i-0c55ff5f71b100e98-1\\xgboost\\xgboost-ci-windows\\src\\learner.cc:740: \n",
      "Parameters: { \"colsample_bytree\", \"gamma\", \"max_depth\", \"min_child_weight\", \"subsample\" } are not used.\n",
      "\n",
      "  warnings.warn(smsg, UserWarning)\n",
      "c:\\Users\\shaha\\Projects\\Python Projects\\Israel-Palestine-Political-Affiliation-Text-Classification\\venv\\lib\\site-packages\\xgboost\\core.py:158: UserWarning: [14:31:57] WARNING: C:\\buildkite-agent\\builds\\buildkite-windows-cpu-autoscaling-group-i-0c55ff5f71b100e98-1\\xgboost\\xgboost-ci-windows\\src\\learner.cc:740: \n",
      "Parameters: { \"colsample_bytree\", \"gamma\", \"max_depth\", \"min_child_weight\", \"subsample\" } are not used.\n",
      "\n",
      "  warnings.warn(smsg, UserWarning)\n",
      "c:\\Users\\shaha\\Projects\\Python Projects\\Israel-Palestine-Political-Affiliation-Text-Classification\\venv\\lib\\site-packages\\xgboost\\core.py:158: UserWarning: [14:32:11] WARNING: C:\\buildkite-agent\\builds\\buildkite-windows-cpu-autoscaling-group-i-0c55ff5f71b100e98-1\\xgboost\\xgboost-ci-windows\\src\\learner.cc:740: \n",
      "Parameters: { \"colsample_bytree\", \"gamma\", \"max_depth\", \"min_child_weight\", \"subsample\" } are not used.\n",
      "\n",
      "  warnings.warn(smsg, UserWarning)\n",
      "c:\\Users\\shaha\\Projects\\Python Projects\\Israel-Palestine-Political-Affiliation-Text-Classification\\venv\\lib\\site-packages\\xgboost\\core.py:158: UserWarning: [14:32:25] WARNING: C:\\buildkite-agent\\builds\\buildkite-windows-cpu-autoscaling-group-i-0c55ff5f71b100e98-1\\xgboost\\xgboost-ci-windows\\src\\learner.cc:740: \n",
      "Parameters: { \"colsample_bytree\", \"gamma\", \"max_depth\", \"min_child_weight\", \"subsample\" } are not used.\n",
      "\n",
      "  warnings.warn(smsg, UserWarning)\n",
      "c:\\Users\\shaha\\Projects\\Python Projects\\Israel-Palestine-Political-Affiliation-Text-Classification\\venv\\lib\\site-packages\\xgboost\\core.py:158: UserWarning: [14:32:39] WARNING: C:\\buildkite-agent\\builds\\buildkite-windows-cpu-autoscaling-group-i-0c55ff5f71b100e98-1\\xgboost\\xgboost-ci-windows\\src\\learner.cc:740: \n",
      "Parameters: { \"colsample_bytree\", \"gamma\", \"max_depth\", \"min_child_weight\", \"subsample\" } are not used.\n",
      "\n",
      "  warnings.warn(smsg, UserWarning)\n",
      "[I 2025-01-24 14:32:53,336] Trial 0 finished with value: 0.7465663697593963 and parameters: {'n_estimators': 120, 'learning_rate': 0.17939026509382186, 'booster': 'gblinear', 'max_depth': 4, 'min_child_weight': 10, 'colsample_bytree': 0.9373755220160798, 'subsample': 0.6889316913998524, 'reg_alpha': 0.158167892934842, 'reg_lambda': 0.2983076654164862, 'gamma': 8.062823161893443e-07}. Best is trial 0 with value: 0.7465663697593963.\n",
      "\n",
      "\n",
      "\n",
      "\n",
      "\n",
      "\n",
      "\n",
      "\u001b[A\u001b[A\u001b[A\u001b[A\u001b[A\u001b[A\u001b[A"
     ]
    }
   ],
   "source": [
    "xgb_results = {}\n",
    "xgb_results['bert_without_augmentation'] = optimize_model('xgboost', X_bert_no_augmentation, y_bert_no_augmentation)"
   ]
  },
  {
   "cell_type": "code",
   "execution_count": null,
   "metadata": {},
   "outputs": [],
   "source": [
    "xgb_results['bert_with_undersampling'] = optimize_model('xgboost', X_bert_undersampled, y_bert_undersampled)"
   ]
  },
  {
   "cell_type": "code",
   "execution_count": null,
   "metadata": {},
   "outputs": [],
   "source": [
    "xgb_results['bert_with_augmentation'] = optimize_model('xgboost', X_bert_with_augmentation, y_bert_with_augmentation)"
   ]
  },
  {
   "cell_type": "code",
   "execution_count": null,
   "metadata": {},
   "outputs": [],
   "source": [
    "xgb_results['tfidf_without_augmentation'] = optimize_model('xgboost', X_tfidf_no_augmentation, y_tfidf_no_augmentation)"
   ]
  },
  {
   "cell_type": "code",
   "execution_count": null,
   "metadata": {},
   "outputs": [],
   "source": [
    "xgb_results['tfidf_with_undersampling'] = optimize_model('xgboost', X_tfidf_undersampled, y_tfidf_undersampled)"
   ]
  },
  {
   "cell_type": "code",
   "execution_count": 18,
   "metadata": {
    "id": "ze5Iu-hQyvkX"
   },
   "outputs": [
    {
     "name": "stderr",
     "output_type": "stream",
     "text": [
      "[I 2025-01-22 00:02:35,748] A new study created in memory with name: no-name-52b9a333-5004-47ab-aa9b-bf23208103ac\n",
      "\n",
      "  0%|          | 0/50 [00:00<?, ?it/s]\u001b[A[I 2025-01-22 00:05:19,206] Trial 0 finished with value: 0.7781306650971159 and parameters: {'booster': 'gbtree', 'max_depth': 3, 'min_child_weight': 2, 'eta': 1.530201987912871e-07, 'gamma': 0.6105421880756111, 'grow_policy': 'depthwise'}. Best is trial 0 with value: 0.7781306650971159.\n",
      "\n",
      "  2%|▏         | 1/50 [02:43<2:13:29, 163.46s/it]\u001b[A[I 2025-01-22 00:06:35,431] Trial 1 finished with value: 0.8234460409237269 and parameters: {'booster': 'gblinear'}. Best is trial 1 with value: 0.8234460409237269.\n",
      "\n",
      "  4%|▍         | 2/50 [03:59<1:29:42, 112.14s/it]\u001b[A[I 2025-01-22 00:31:18,263] Trial 2 finished with value: 0.43502821729044766 and parameters: {'booster': 'dart', 'max_depth': 7, 'min_child_weight': 10, 'eta': 1.777911040105423e-08, 'gamma': 5.325087413727096e-08, 'grow_policy': 'depthwise', 'sample_type': 'uniform', 'normalize_type': 'forest', 'rate_drop': 0.006538399229886496, 'skip_drop': 0.0007106197356892675}. Best is trial 1 with value: 0.8234460409237269.\n",
      "\n",
      "  6%|▌         | 3/50 [28:42<7:29:46, 574.17s/it]\u001b[A\n",
      "[I 2025-01-22 00:31:18,267] A new study created in memory with name: no-name-9426b193-4352-4855-9e96-5eb819a60315\n"
     ]
    },
    {
     "name": "stdout",
     "output_type": "stream",
     "text": [
      "Best hyperparameters for xgboost: {'booster': 'gblinear'}\n",
      "Best F1 score for xgboost: 0.8234460409237269\n"
     ]
    },
    {
     "name": "stderr",
     "output_type": "stream",
     "text": [
      "\n",
      "  0%|          | 0/50 [00:00<?, ?it/s]\u001b[A[I 2025-01-22 00:32:24,144] Trial 0 finished with value: 0.7674845806932015 and parameters: {'booster': 'gbtree', 'max_depth': 9, 'min_child_weight': 9, 'eta': 0.0002802047486933304, 'gamma': 6.513704429429651e-05, 'grow_policy': 'lossguide'}. Best is trial 0 with value: 0.7674845806932015.\n",
      "\n",
      "  2%|▏         | 1/50 [01:05<53:47, 65.87s/it]\u001b[A[I 2025-01-22 00:33:19,099] Trial 1 finished with value: 0.7601388088848926 and parameters: {'booster': 'gbtree', 'max_depth': 7, 'min_child_weight': 2, 'eta': 0.0009668725597862803, 'gamma': 0.016763959241005454, 'grow_policy': 'lossguide'}. Best is trial 0 with value: 0.7674845806932015.\n",
      "\n",
      "  4%|▍         | 2/50 [02:00<47:33, 59.45s/it]\u001b[A[I 2025-01-22 00:40:43,693] Trial 2 finished with value: 0.766410731931195 and parameters: {'booster': 'dart', 'max_depth': 9, 'min_child_weight': 7, 'eta': 4.939113527583739e-05, 'gamma': 0.00583518111631256, 'grow_policy': 'lossguide', 'sample_type': 'uniform', 'normalize_type': 'tree', 'rate_drop': 3.666764500535061e-08, 'skip_drop': 7.266373659608185e-06}. Best is trial 0 with value: 0.7674845806932015.\n",
      "\n",
      "  6%|▌         | 3/50 [09:25<3:04:19, 235.32s/it]\u001b[A[I 2025-01-22 00:41:16,052] Trial 3 finished with value: 0.7500358261798052 and parameters: {'booster': 'gblinear'}. Best is trial 0 with value: 0.7674845806932015.\n",
      "\n",
      "  8%|▊         | 4/50 [09:57<1:58:58, 155.19s/it]\u001b[A[I 2025-01-22 00:41:47,186] Trial 4 finished with value: 0.7498826868229905 and parameters: {'booster': 'gblinear'}. Best is trial 0 with value: 0.7674845806932015.\n",
      "\n",
      " 10%|█         | 5/50 [10:28<1:22:50, 110.45s/it]\u001b[A[I 2025-01-22 00:42:18,429] Trial 5 finished with value: 0.7498826868229905 and parameters: {'booster': 'gblinear'}. Best is trial 0 with value: 0.7674845806932015.\n",
      "\n",
      " 12%|█▏        | 6/50 [11:00<1:01:15, 83.52s/it] \u001b[A[I 2025-01-22 00:42:49,297] Trial 6 finished with value: 0.7500355920217674 and parameters: {'booster': 'gblinear'}. Best is trial 0 with value: 0.7674845806932015.\n",
      "\n",
      " 14%|█▍        | 7/50 [11:31<47:31, 66.31s/it]  \u001b[A[I 2025-01-22 00:50:04,051] Trial 7 finished with value: 0.7667174789609004 and parameters: {'booster': 'dart', 'max_depth': 9, 'min_child_weight': 4, 'eta': 0.0025587131043773833, 'gamma': 0.2178771832784132, 'grow_policy': 'depthwise', 'sample_type': 'weighted', 'normalize_type': 'forest', 'rate_drop': 2.6901235045899958e-05, 'skip_drop': 4.7235979874720105e-05}. Best is trial 0 with value: 0.7674845806932015.\n",
      "\n",
      " 16%|█▌        | 8/50 [18:45<2:08:31, 183.60s/it]\u001b[A[I 2025-01-22 00:50:34,717] Trial 8 finished with value: 0.7581494021945291 and parameters: {'booster': 'gbtree', 'max_depth': 5, 'min_child_weight': 7, 'eta': 0.001448447432834496, 'gamma': 2.3168353376680137e-08, 'grow_policy': 'depthwise'}. Best is trial 0 with value: 0.7674845806932015.\n",
      "\n",
      " 18%|█▊        | 9/50 [19:16<1:32:47, 135.79s/it]\u001b[A[I 2025-01-22 00:51:09,455] Trial 9 finished with value: 0.7579969653118283 and parameters: {'booster': 'gbtree', 'max_depth': 5, 'min_child_weight': 8, 'eta': 6.230837232226174e-05, 'gamma': 8.726599056800781e-08, 'grow_policy': 'lossguide'}. Best is trial 0 with value: 0.7674845806932015.\n",
      "\n",
      " 20%|██        | 10/50 [19:51<1:09:43, 104.60s/it]\u001b[A[I 2025-01-22 00:51:29,612] Trial 10 finished with value: 0.7202085411485921 and parameters: {'booster': 'gbtree', 'max_depth': 3, 'min_child_weight': 10, 'eta': 3.087375971734415e-08, 'gamma': 1.7802004782741874e-05, 'grow_policy': 'lossguide'}. Best is trial 0 with value: 0.7674845806932015.\n",
      "\n",
      " 22%|██▏       | 11/50 [20:11<1:11:34, 110.12s/it]\u001b[A\n",
      "[I 2025-01-22 00:51:29,617] A new study created in memory with name: no-name-333aa906-9550-44f6-b91e-91658d76ae43\n"
     ]
    },
    {
     "name": "stdout",
     "output_type": "stream",
     "text": [
      "Best hyperparameters for xgboost: {'booster': 'gbtree', 'max_depth': 9, 'min_child_weight': 9, 'eta': 0.0002802047486933304, 'gamma': 6.513704429429651e-05, 'grow_policy': 'lossguide'}\n",
      "Best F1 score for xgboost: 0.7674845806932015\n"
     ]
    },
    {
     "name": "stderr",
     "output_type": "stream",
     "text": [
      "\n",
      "  0%|          | 0/50 [00:00<?, ?it/s]\u001b[A[I 2025-01-22 00:53:43,223] Trial 0 finished with value: 0.6993282207526919 and parameters: {'booster': 'gbtree', 'max_depth': 9, 'min_child_weight': 5, 'eta': 0.0005093095769966941, 'gamma': 0.2755313681357525, 'grow_policy': 'depthwise'}. Best is trial 0 with value: 0.6993282207526919.\n",
      "\n",
      "  2%|▏         | 1/50 [02:13<1:49:06, 133.60s/it]\u001b[A[I 2025-01-22 00:54:57,485] Trial 1 finished with value: 0.7797195582176367 and parameters: {'booster': 'gblinear'}. Best is trial 1 with value: 0.7797195582176367.\n",
      "\n",
      "  4%|▍         | 2/50 [03:27<1:18:57, 98.70s/it] \u001b[A[I 2025-01-22 01:08:17,167] Trial 2 finished with value: 0.6038717930962849 and parameters: {'booster': 'dart', 'max_depth': 3, 'min_child_weight': 6, 'eta': 0.002200044207834882, 'gamma': 3.130789620824195e-05, 'grow_policy': 'depthwise', 'sample_type': 'uniform', 'normalize_type': 'tree', 'rate_drop': 0.18103649974028194, 'skip_drop': 8.493998683190917e-07}. Best is trial 1 with value: 0.7797195582176367.\n",
      "\n",
      "  6%|▌         | 3/50 [16:47<5:28:02, 418.78s/it]\u001b[A[I 2025-01-22 01:09:31,962] Trial 3 finished with value: 0.7797784163694907 and parameters: {'booster': 'gblinear'}. Best is trial 3 with value: 0.7797784163694907.\n",
      "\n",
      "  8%|▊         | 4/50 [18:02<3:36:57, 282.98s/it]\u001b[A[I 2025-01-22 01:11:58,922] Trial 4 finished with value: 0.6943259356715022 and parameters: {'booster': 'gbtree', 'max_depth': 9, 'min_child_weight': 9, 'eta': 0.0009537513126116157, 'gamma': 0.02764426473499009, 'grow_policy': 'lossguide'}. Best is trial 3 with value: 0.7797784163694907.\n",
      "\n",
      " 10%|█         | 5/50 [20:29<3:04:23, 245.86s/it]\u001b[A"
     ]
    },
    {
     "name": "stdout",
     "output_type": "stream",
     "text": [
      "Best hyperparameters for xgboost: {'booster': 'gblinear'}\n",
      "Best F1 score for xgboost: 0.7797784163694907\n"
     ]
    },
    {
     "name": "stderr",
     "output_type": "stream",
     "text": [
      "\n"
     ]
    }
   ],
   "source": [
    "xgb_results['tfidf_with_augmentation'] = optimize_model('xgboost', X_tfidf_with_augmentation, y_tfidf_with_augmentation)"
   ]
  },
  {
   "cell_type": "code",
   "execution_count": 19,
   "metadata": {
    "collapsed": false
   },
   "outputs": [
    {
     "name": "stdout",
     "output_type": "stream",
     "text": [
      "XGBoost results:\n",
      "\n",
      "\n",
      "Using BERT embeddings without augmentation scores: [[0.8195718654434251, 0.8211009174311926, 0.8058103975535168, 0.8333333333333334, 0.8042813455657493, 0.8149847094801224, 0.8363914373088684, 0.8147013782542113, 0.8238897396630934, 0.8407350689127105], [0.8440366972477065, 0.8409785932721713, 0.8348623853211009, 0.8608562691131498, 0.8348623853211009, 0.8394495412844036, 0.8302752293577982, 0.8376722817764165, 0.8499234303215927, 0.8407350689127105]]\n",
      "Using BERT embeddings without augmentation best score: 0.8413651881928151\n",
      "Using BERT embeddings without augmentation best parameters: {'booster': 'dart', 'max_depth': 7, 'min_child_weight': 7, 'eta': 0.021095344741750326, 'gamma': 3.9120857204649044e-08, 'grow_policy': 'lossguide', 'sample_type': 'weighted', 'normalize_type': 'forest', 'rate_drop': 0.040842423024035804, 'skip_drop': 0.0015853552518449807}\n",
      "\n",
      "\n",
      "Using BERT embeddings with augmentation scores: [[0.7776470588235294, 0.7823529411764706, 0.7692760447321955, 0.7751618599175986, 0.7692760447321955, 0.7686874632136551, 0.7975279576221307, 0.7816362566215421, 0.7769276044732195, 0.7828134196586227], [0.8247058823529412, 0.8270588235294117, 0.8181283107710418, 0.8187168922895821, 0.835197174808711, 0.809299587992937, 0.8293113596233078, 0.8328428487345497, 0.8122424955856387, 0.8269570335491465], [0.43529411764705883, 0.43529411764705883, 0.43496174220129485, 0.43496174220129485, 0.43496174220129485, 0.43496174220129485, 0.43496174220129485, 0.43496174220129485, 0.43496174220129485, 0.43496174220129485]]\n",
      "Using BERT embeddings with augmentation best score: 0.8234460409237269\n",
      "Using BERT embeddings with augmentation best parameters: {'booster': 'gblinear'}\n",
      "\n",
      "\n",
      "Using TF-IDF embeddings without augmentation scores: [[0.7660550458715596, 0.7584097859327217, 0.7553516819571865, 0.77217125382263, 0.7385321100917431, 0.7599388379204893, 0.7752293577981652, 0.776416539050536, 0.7947932618683001, 0.777947932618683], [0.7737003058103975, 0.764525993883792, 0.746177370030581, 0.764525993883792, 0.7415902140672783, 0.7477064220183486, 0.7553516819571865, 0.7672281776416539, 0.7871362940275651, 0.7534456355283308], [0.7599388379204893, 0.7599388379204893, 0.7584097859327217, 0.77217125382263, 0.7492354740061162, 0.7629969418960245, 0.7752293577981652, 0.7718223583460949, 0.7856049004594181, 0.7687595712098009], [0.7629969418960245, 0.7660550458715596, 0.7431192660550459, 0.7400611620795107, 0.7415902140672783, 0.7492354740061162, 0.7629969418960245, 0.7335375191424196, 0.7473200612557427, 0.7534456355283308], [0.7629969418960245, 0.7660550458715596, 0.7431192660550459, 0.7400611620795107, 0.7415902140672783, 0.7492354740061162, 0.7629969418960245, 0.7320061255742726, 0.7473200612557427, 0.7534456355283308], [0.7629969418960245, 0.7660550458715596, 0.7431192660550459, 0.7400611620795107, 0.7415902140672783, 0.7492354740061162, 0.7629969418960245, 0.7320061255742726, 0.7473200612557427, 0.7534456355283308], [0.7629969418960245, 0.7660550458715596, 0.7431192660550459, 0.7400611620795107, 0.7415902140672783, 0.7492354740061162, 0.764525993883792, 0.7320061255742726, 0.7473200612557427, 0.7534456355283308], [0.7737003058103975, 0.7568807339449541, 0.7522935779816514, 0.77217125382263, 0.7431192660550459, 0.7706422018348624, 0.7660550458715596, 0.7733537519142419, 0.7993874425727412, 0.7595712098009189], [0.7614678899082569, 0.764525993883792, 0.7584097859327217, 0.7553516819571865, 0.7339449541284404, 0.7507645259938838, 0.7599388379204893, 0.7626339969372129, 0.781010719754977, 0.7534456355283308], [0.7614678899082569, 0.7584097859327217, 0.753822629969419, 0.7568807339449541, 0.735474006116208, 0.7584097859327217, 0.7553516819571865, 0.7672281776416539, 0.77947932618683, 0.7534456355283308], [0.7140672782874617, 0.7308868501529052, 0.72782874617737, 0.7140672782874617, 0.7018348623853211, 0.7324159021406728, 0.7171253822629969, 0.7166921898928025, 0.7427258805513017, 0.7044410413476263]]\n",
      "Using TF-IDF embeddings without augmentation best score: 0.7674845806932015\n",
      "Using TF-IDF embeddings without augmentation best parameters: {'booster': 'gbtree', 'max_depth': 9, 'min_child_weight': 9, 'eta': 0.0002802047486933304, 'gamma': 6.513704429429651e-05, 'grow_policy': 'lossguide'}\n",
      "\n",
      "\n",
      "Using TF-IDF embeddings with augmentation scores: [[0.7088235294117647, 0.7047058823529412, 0.6915832842848735, 0.7010005885815186, 0.709240729841083, 0.683343143025309, 0.7086521483225426, 0.7045320776927605, 0.6798116539140671, 0.7015891701000588], [0.7817647058823529, 0.7829411764705883, 0.7763390229546793, 0.7675103001765744, 0.7904649793996469, 0.7716303708063567, 0.7822248381400824, 0.7892878163625662, 0.773984696880518, 0.7810476751030018], [0.6082352941176471, 0.61, 0.5862271924661565, 0.6209535020600353, 0.5985874043555033, 0.6015303119482048, 0.6156562683931724, 0.6115361977633902, 0.5879929370217775, 0.5979988228369629], [0.7817647058823529, 0.7829411764705883, 0.7763390229546793, 0.7675103001765744, 0.7904649793996469, 0.7716303708063567, 0.7822248381400824, 0.7892878163625662, 0.7745732783990583, 0.7810476751030018], [0.6982352941176471, 0.7041176470588235, 0.6809888169511478, 0.7033549146556798, 0.7033549146556798, 0.6709829311359623, 0.7121836374337845, 0.7004120070629782, 0.672160094173043, 0.6974690994702767]]\n",
      "Using TF-IDF embeddings with augmentation best score: 0.7797784163694907\n",
      "Using TF-IDF embeddings with augmentation best parameters: {'booster': 'gblinear'}\n",
      "\n",
      "\n"
     ]
    }
   ],
   "source": [
    "print(\"XGBoost results:\\n\\n\")\n",
    "df = pd.DataFrame([\n",
    "    {\n",
    "        'Experiment': key,\n",
    "        'Best Parameters': value[0],\n",
    "        'Best Avg': value[1],\n",
    "        'STD': value[2],\n",
    "        'Scores': value[3]\n",
    "    }\n",
    "    for key, value in xgb_results.items()\n",
    "])\n",
    "display(df)"
   ]
  },
  {
   "cell_type": "markdown",
   "metadata": {
    "collapsed": false
   },
   "source": [
    "## DNN"
   ]
  },
  {
   "cell_type": "code",
   "execution_count": 19,
   "metadata": {},
   "outputs": [
    {
     "name": "stderr",
     "output_type": "stream",
     "text": [
      "[I 2025-01-24 13:38:22,075] A new study created in memory with name: no-name-42c5ee1e-9e8e-4cc4-a047-a98d7be67b83\n",
      "\n",
      "\n",
      "\n",
      "\n",
      "\u001b[A\u001b[A\u001b[A\u001b[A[I 2025-01-24 13:38:45,103] Trial 0 finished with value: 0.3319768884173942 and parameters: {'num_epochs': 8, 'learning_rate': 1.0038165104772525e-05, 'weight_decay': 1.6986560279504574e-05, 'batch_norm': False, 'drop_out': 0.3748758721881615, 'layers': [768, 64, 64, 3]}. Best is trial 0 with value: 0.3319768884173942.\n",
      "\n",
      "\n",
      "\n",
      "\n",
      "\u001b[A\u001b[A\u001b[A\u001b[Ac:\\Users\\shaha\\Projects\\Python Projects\\Israel-Palestine-Political-Affiliation-Text-Classification\\venv\\lib\\site-packages\\optuna\\distributions.py:524: UserWarning: Choices for a categorical distribution should be a tuple of None, bool, int, float and str for persistent storage but contains [768, 64, 3] which is of type list.\n",
      "  warnings.warn(message)\n",
      "c:\\Users\\shaha\\Projects\\Python Projects\\Israel-Palestine-Political-Affiliation-Text-Classification\\venv\\lib\\site-packages\\optuna\\distributions.py:524: UserWarning: Choices for a categorical distribution should be a tuple of None, bool, int, float and str for persistent storage but contains [768, 128, 3] which is of type list.\n",
      "  warnings.warn(message)\n",
      "c:\\Users\\shaha\\Projects\\Python Projects\\Israel-Palestine-Political-Affiliation-Text-Classification\\venv\\lib\\site-packages\\optuna\\distributions.py:524: UserWarning: Choices for a categorical distribution should be a tuple of None, bool, int, float and str for persistent storage but contains [768, 64, 64, 3] which is of type list.\n",
      "  warnings.warn(message)\n",
      "c:\\Users\\shaha\\Projects\\Python Projects\\Israel-Palestine-Political-Affiliation-Text-Classification\\venv\\lib\\site-packages\\optuna\\distributions.py:524: UserWarning: Choices for a categorical distribution should be a tuple of None, bool, int, float and str for persistent storage but contains [768, 128, 64, 3] which is of type list.\n",
      "  warnings.warn(message)\n",
      "c:\\Users\\shaha\\Projects\\Python Projects\\Israel-Palestine-Political-Affiliation-Text-Classification\\venv\\lib\\site-packages\\optuna\\distributions.py:524: UserWarning: Choices for a categorical distribution should be a tuple of None, bool, int, float and str for persistent storage but contains [768, 512, 32, 3] which is of type list.\n",
      "  warnings.warn(message)\n",
      "c:\\Users\\shaha\\Projects\\Python Projects\\Israel-Palestine-Political-Affiliation-Text-Classification\\venv\\lib\\site-packages\\optuna\\distributions.py:524: UserWarning: Choices for a categorical distribution should be a tuple of None, bool, int, float and str for persistent storage but contains [768, 512, 128, 3] which is of type list.\n",
      "  warnings.warn(message)\n",
      "c:\\Users\\shaha\\Projects\\Python Projects\\Israel-Palestine-Political-Affiliation-Text-Classification\\venv\\lib\\site-packages\\optuna\\distributions.py:524: UserWarning: Choices for a categorical distribution should be a tuple of None, bool, int, float and str for persistent storage but contains [768, 512, 128, 64, 3] which is of type list.\n",
      "  warnings.warn(message)\n",
      "[I 2025-01-24 13:39:23,903] Trial 1 finished with value: 0.3324707183704495 and parameters: {'num_epochs': 10, 'learning_rate': 0.0009853333199590212, 'weight_decay': 0.00017060459135858619, 'batch_norm': True, 'drop_out': 0.00882633257625165, 'layers': [768, 128, 3]}. Best is trial 1 with value: 0.3324707183704495.\n",
      "\n",
      "\n",
      "\n",
      "\n",
      "\u001b[A\u001b[A\u001b[A\u001b[Ac:\\Users\\shaha\\Projects\\Python Projects\\Israel-Palestine-Political-Affiliation-Text-Classification\\venv\\lib\\site-packages\\optuna\\distributions.py:524: UserWarning: Choices for a categorical distribution should be a tuple of None, bool, int, float and str for persistent storage but contains [768, 64, 3] which is of type list.\n",
      "  warnings.warn(message)\n",
      "c:\\Users\\shaha\\Projects\\Python Projects\\Israel-Palestine-Political-Affiliation-Text-Classification\\venv\\lib\\site-packages\\optuna\\distributions.py:524: UserWarning: Choices for a categorical distribution should be a tuple of None, bool, int, float and str for persistent storage but contains [768, 128, 3] which is of type list.\n",
      "  warnings.warn(message)\n",
      "c:\\Users\\shaha\\Projects\\Python Projects\\Israel-Palestine-Political-Affiliation-Text-Classification\\venv\\lib\\site-packages\\optuna\\distributions.py:524: UserWarning: Choices for a categorical distribution should be a tuple of None, bool, int, float and str for persistent storage but contains [768, 64, 64, 3] which is of type list.\n",
      "  warnings.warn(message)\n",
      "c:\\Users\\shaha\\Projects\\Python Projects\\Israel-Palestine-Political-Affiliation-Text-Classification\\venv\\lib\\site-packages\\optuna\\distributions.py:524: UserWarning: Choices for a categorical distribution should be a tuple of None, bool, int, float and str for persistent storage but contains [768, 128, 64, 3] which is of type list.\n",
      "  warnings.warn(message)\n",
      "c:\\Users\\shaha\\Projects\\Python Projects\\Israel-Palestine-Political-Affiliation-Text-Classification\\venv\\lib\\site-packages\\optuna\\distributions.py:524: UserWarning: Choices for a categorical distribution should be a tuple of None, bool, int, float and str for persistent storage but contains [768, 512, 32, 3] which is of type list.\n",
      "  warnings.warn(message)\n",
      "c:\\Users\\shaha\\Projects\\Python Projects\\Israel-Palestine-Political-Affiliation-Text-Classification\\venv\\lib\\site-packages\\optuna\\distributions.py:524: UserWarning: Choices for a categorical distribution should be a tuple of None, bool, int, float and str for persistent storage but contains [768, 512, 128, 3] which is of type list.\n",
      "  warnings.warn(message)\n",
      "c:\\Users\\shaha\\Projects\\Python Projects\\Israel-Palestine-Political-Affiliation-Text-Classification\\venv\\lib\\site-packages\\optuna\\distributions.py:524: UserWarning: Choices for a categorical distribution should be a tuple of None, bool, int, float and str for persistent storage but contains [768, 512, 128, 64, 3] which is of type list.\n",
      "  warnings.warn(message)\n",
      "[I 2025-01-24 13:40:26,929] Trial 2 finished with value: 0.3374707073914421 and parameters: {'num_epochs': 7, 'learning_rate': 0.0001618661209833094, 'weight_decay': 2.7749784607589302e-05, 'batch_norm': False, 'drop_out': 0.06847249022546276, 'layers': [768, 512, 128, 64, 3]}. Best is trial 2 with value: 0.3374707073914421.\n",
      "\n",
      "\n",
      "\n",
      "\n",
      "\u001b[A\u001b[A\u001b[A\u001b[Ac:\\Users\\shaha\\Projects\\Python Projects\\Israel-Palestine-Political-Affiliation-Text-Classification\\venv\\lib\\site-packages\\optuna\\distributions.py:524: UserWarning: Choices for a categorical distribution should be a tuple of None, bool, int, float and str for persistent storage but contains [768, 64, 3] which is of type list.\n",
      "  warnings.warn(message)\n",
      "c:\\Users\\shaha\\Projects\\Python Projects\\Israel-Palestine-Political-Affiliation-Text-Classification\\venv\\lib\\site-packages\\optuna\\distributions.py:524: UserWarning: Choices for a categorical distribution should be a tuple of None, bool, int, float and str for persistent storage but contains [768, 128, 3] which is of type list.\n",
      "  warnings.warn(message)\n",
      "c:\\Users\\shaha\\Projects\\Python Projects\\Israel-Palestine-Political-Affiliation-Text-Classification\\venv\\lib\\site-packages\\optuna\\distributions.py:524: UserWarning: Choices for a categorical distribution should be a tuple of None, bool, int, float and str for persistent storage but contains [768, 64, 64, 3] which is of type list.\n",
      "  warnings.warn(message)\n",
      "c:\\Users\\shaha\\Projects\\Python Projects\\Israel-Palestine-Political-Affiliation-Text-Classification\\venv\\lib\\site-packages\\optuna\\distributions.py:524: UserWarning: Choices for a categorical distribution should be a tuple of None, bool, int, float and str for persistent storage but contains [768, 128, 64, 3] which is of type list.\n",
      "  warnings.warn(message)\n",
      "c:\\Users\\shaha\\Projects\\Python Projects\\Israel-Palestine-Political-Affiliation-Text-Classification\\venv\\lib\\site-packages\\optuna\\distributions.py:524: UserWarning: Choices for a categorical distribution should be a tuple of None, bool, int, float and str for persistent storage but contains [768, 512, 32, 3] which is of type list.\n",
      "  warnings.warn(message)\n",
      "c:\\Users\\shaha\\Projects\\Python Projects\\Israel-Palestine-Political-Affiliation-Text-Classification\\venv\\lib\\site-packages\\optuna\\distributions.py:524: UserWarning: Choices for a categorical distribution should be a tuple of None, bool, int, float and str for persistent storage but contains [768, 512, 128, 3] which is of type list.\n",
      "  warnings.warn(message)\n",
      "c:\\Users\\shaha\\Projects\\Python Projects\\Israel-Palestine-Political-Affiliation-Text-Classification\\venv\\lib\\site-packages\\optuna\\distributions.py:524: UserWarning: Choices for a categorical distribution should be a tuple of None, bool, int, float and str for persistent storage but contains [768, 512, 128, 64, 3] which is of type list.\n",
      "  warnings.warn(message)\n",
      "[I 2025-01-24 13:41:51,263] Trial 3 finished with value: 0.33782722260277154 and parameters: {'num_epochs': 20, 'learning_rate': 1.4176908909116983e-05, 'weight_decay': 7.357833951338594e-05, 'batch_norm': False, 'drop_out': 0.01804599409987906, 'layers': [768, 64, 64, 3]}. Best is trial 3 with value: 0.33782722260277154.\n",
      "\n",
      "\n",
      "\n",
      "\n",
      "\u001b[A\u001b[A\u001b[A\u001b[Ac:\\Users\\shaha\\Projects\\Python Projects\\Israel-Palestine-Political-Affiliation-Text-Classification\\venv\\lib\\site-packages\\optuna\\distributions.py:524: UserWarning: Choices for a categorical distribution should be a tuple of None, bool, int, float and str for persistent storage but contains [768, 64, 3] which is of type list.\n",
      "  warnings.warn(message)\n",
      "c:\\Users\\shaha\\Projects\\Python Projects\\Israel-Palestine-Political-Affiliation-Text-Classification\\venv\\lib\\site-packages\\optuna\\distributions.py:524: UserWarning: Choices for a categorical distribution should be a tuple of None, bool, int, float and str for persistent storage but contains [768, 128, 3] which is of type list.\n",
      "  warnings.warn(message)\n",
      "c:\\Users\\shaha\\Projects\\Python Projects\\Israel-Palestine-Political-Affiliation-Text-Classification\\venv\\lib\\site-packages\\optuna\\distributions.py:524: UserWarning: Choices for a categorical distribution should be a tuple of None, bool, int, float and str for persistent storage but contains [768, 64, 64, 3] which is of type list.\n",
      "  warnings.warn(message)\n",
      "c:\\Users\\shaha\\Projects\\Python Projects\\Israel-Palestine-Political-Affiliation-Text-Classification\\venv\\lib\\site-packages\\optuna\\distributions.py:524: UserWarning: Choices for a categorical distribution should be a tuple of None, bool, int, float and str for persistent storage but contains [768, 128, 64, 3] which is of type list.\n",
      "  warnings.warn(message)\n",
      "c:\\Users\\shaha\\Projects\\Python Projects\\Israel-Palestine-Political-Affiliation-Text-Classification\\venv\\lib\\site-packages\\optuna\\distributions.py:524: UserWarning: Choices for a categorical distribution should be a tuple of None, bool, int, float and str for persistent storage but contains [768, 512, 32, 3] which is of type list.\n",
      "  warnings.warn(message)\n",
      "c:\\Users\\shaha\\Projects\\Python Projects\\Israel-Palestine-Political-Affiliation-Text-Classification\\venv\\lib\\site-packages\\optuna\\distributions.py:524: UserWarning: Choices for a categorical distribution should be a tuple of None, bool, int, float and str for persistent storage but contains [768, 512, 128, 3] which is of type list.\n",
      "  warnings.warn(message)\n",
      "c:\\Users\\shaha\\Projects\\Python Projects\\Israel-Palestine-Political-Affiliation-Text-Classification\\venv\\lib\\site-packages\\optuna\\distributions.py:524: UserWarning: Choices for a categorical distribution should be a tuple of None, bool, int, float and str for persistent storage but contains [768, 512, 128, 64, 3] which is of type list.\n",
      "  warnings.warn(message)\n",
      "[I 2025-01-24 13:42:22,857] Trial 4 finished with value: 0.33884120629244535 and parameters: {'num_epochs': 8, 'learning_rate': 2.1097550276077842e-05, 'weight_decay': 2.0779385602696406e-05, 'batch_norm': False, 'drop_out': 0.18302465727180056, 'layers': [768, 64, 64, 3]}. Best is trial 4 with value: 0.33884120629244535.\n",
      "\n",
      "\n",
      "\n",
      "\n",
      "\u001b[A\u001b[A\u001b[A\u001b[Ac:\\Users\\shaha\\Projects\\Python Projects\\Israel-Palestine-Political-Affiliation-Text-Classification\\venv\\lib\\site-packages\\optuna\\distributions.py:524: UserWarning: Choices for a categorical distribution should be a tuple of None, bool, int, float and str for persistent storage but contains [768, 64, 3] which is of type list.\n",
      "  warnings.warn(message)\n",
      "c:\\Users\\shaha\\Projects\\Python Projects\\Israel-Palestine-Political-Affiliation-Text-Classification\\venv\\lib\\site-packages\\optuna\\distributions.py:524: UserWarning: Choices for a categorical distribution should be a tuple of None, bool, int, float and str for persistent storage but contains [768, 128, 3] which is of type list.\n",
      "  warnings.warn(message)\n",
      "c:\\Users\\shaha\\Projects\\Python Projects\\Israel-Palestine-Political-Affiliation-Text-Classification\\venv\\lib\\site-packages\\optuna\\distributions.py:524: UserWarning: Choices for a categorical distribution should be a tuple of None, bool, int, float and str for persistent storage but contains [768, 64, 64, 3] which is of type list.\n",
      "  warnings.warn(message)\n",
      "c:\\Users\\shaha\\Projects\\Python Projects\\Israel-Palestine-Political-Affiliation-Text-Classification\\venv\\lib\\site-packages\\optuna\\distributions.py:524: UserWarning: Choices for a categorical distribution should be a tuple of None, bool, int, float and str for persistent storage but contains [768, 128, 64, 3] which is of type list.\n",
      "  warnings.warn(message)\n",
      "c:\\Users\\shaha\\Projects\\Python Projects\\Israel-Palestine-Political-Affiliation-Text-Classification\\venv\\lib\\site-packages\\optuna\\distributions.py:524: UserWarning: Choices for a categorical distribution should be a tuple of None, bool, int, float and str for persistent storage but contains [768, 512, 32, 3] which is of type list.\n",
      "  warnings.warn(message)\n",
      "c:\\Users\\shaha\\Projects\\Python Projects\\Israel-Palestine-Political-Affiliation-Text-Classification\\venv\\lib\\site-packages\\optuna\\distributions.py:524: UserWarning: Choices for a categorical distribution should be a tuple of None, bool, int, float and str for persistent storage but contains [768, 512, 128, 3] which is of type list.\n",
      "  warnings.warn(message)\n",
      "c:\\Users\\shaha\\Projects\\Python Projects\\Israel-Palestine-Political-Affiliation-Text-Classification\\venv\\lib\\site-packages\\optuna\\distributions.py:524: UserWarning: Choices for a categorical distribution should be a tuple of None, bool, int, float and str for persistent storage but contains [768, 512, 128, 64, 3] which is of type list.\n",
      "  warnings.warn(message)\n",
      "[I 2025-01-24 13:43:25,222] Trial 5 finished with value: 0.33286417579889654 and parameters: {'num_epochs': 16, 'learning_rate': 1.0239976035185558e-05, 'weight_decay': 9.921835575893538e-05, 'batch_norm': False, 'drop_out': 0.11524478316484077, 'layers': [768, 64, 64, 3]}. Best is trial 4 with value: 0.33884120629244535.\n",
      "\n",
      "\n",
      "\n",
      "\n",
      "\u001b[A\u001b[A\u001b[A\u001b[Ac:\\Users\\shaha\\Projects\\Python Projects\\Israel-Palestine-Political-Affiliation-Text-Classification\\venv\\lib\\site-packages\\optuna\\distributions.py:524: UserWarning: Choices for a categorical distribution should be a tuple of None, bool, int, float and str for persistent storage but contains [768, 64, 3] which is of type list.\n",
      "  warnings.warn(message)\n",
      "c:\\Users\\shaha\\Projects\\Python Projects\\Israel-Palestine-Political-Affiliation-Text-Classification\\venv\\lib\\site-packages\\optuna\\distributions.py:524: UserWarning: Choices for a categorical distribution should be a tuple of None, bool, int, float and str for persistent storage but contains [768, 128, 3] which is of type list.\n",
      "  warnings.warn(message)\n",
      "c:\\Users\\shaha\\Projects\\Python Projects\\Israel-Palestine-Political-Affiliation-Text-Classification\\venv\\lib\\site-packages\\optuna\\distributions.py:524: UserWarning: Choices for a categorical distribution should be a tuple of None, bool, int, float and str for persistent storage but contains [768, 64, 64, 3] which is of type list.\n",
      "  warnings.warn(message)\n",
      "c:\\Users\\shaha\\Projects\\Python Projects\\Israel-Palestine-Political-Affiliation-Text-Classification\\venv\\lib\\site-packages\\optuna\\distributions.py:524: UserWarning: Choices for a categorical distribution should be a tuple of None, bool, int, float and str for persistent storage but contains [768, 128, 64, 3] which is of type list.\n",
      "  warnings.warn(message)\n",
      "c:\\Users\\shaha\\Projects\\Python Projects\\Israel-Palestine-Political-Affiliation-Text-Classification\\venv\\lib\\site-packages\\optuna\\distributions.py:524: UserWarning: Choices for a categorical distribution should be a tuple of None, bool, int, float and str for persistent storage but contains [768, 512, 32, 3] which is of type list.\n",
      "  warnings.warn(message)\n",
      "c:\\Users\\shaha\\Projects\\Python Projects\\Israel-Palestine-Political-Affiliation-Text-Classification\\venv\\lib\\site-packages\\optuna\\distributions.py:524: UserWarning: Choices for a categorical distribution should be a tuple of None, bool, int, float and str for persistent storage but contains [768, 512, 128, 3] which is of type list.\n",
      "  warnings.warn(message)\n",
      "c:\\Users\\shaha\\Projects\\Python Projects\\Israel-Palestine-Political-Affiliation-Text-Classification\\venv\\lib\\site-packages\\optuna\\distributions.py:524: UserWarning: Choices for a categorical distribution should be a tuple of None, bool, int, float and str for persistent storage but contains [768, 512, 128, 64, 3] which is of type list.\n",
      "  warnings.warn(message)\n",
      "[I 2025-01-24 13:44:16,986] Trial 6 finished with value: 0.33716533743320015 and parameters: {'num_epochs': 13, 'learning_rate': 0.00013129971636351048, 'weight_decay': 6.976423855159657e-05, 'batch_norm': True, 'drop_out': 0.28063409431923936, 'layers': [768, 128, 3]}. Best is trial 4 with value: 0.33884120629244535.\n",
      "\n",
      "\n",
      "\n",
      "\n",
      "\u001b[A\u001b[A\u001b[A\u001b[Ac:\\Users\\shaha\\Projects\\Python Projects\\Israel-Palestine-Political-Affiliation-Text-Classification\\venv\\lib\\site-packages\\optuna\\distributions.py:524: UserWarning: Choices for a categorical distribution should be a tuple of None, bool, int, float and str for persistent storage but contains [768, 64, 3] which is of type list.\n",
      "  warnings.warn(message)\n",
      "c:\\Users\\shaha\\Projects\\Python Projects\\Israel-Palestine-Political-Affiliation-Text-Classification\\venv\\lib\\site-packages\\optuna\\distributions.py:524: UserWarning: Choices for a categorical distribution should be a tuple of None, bool, int, float and str for persistent storage but contains [768, 128, 3] which is of type list.\n",
      "  warnings.warn(message)\n",
      "c:\\Users\\shaha\\Projects\\Python Projects\\Israel-Palestine-Political-Affiliation-Text-Classification\\venv\\lib\\site-packages\\optuna\\distributions.py:524: UserWarning: Choices for a categorical distribution should be a tuple of None, bool, int, float and str for persistent storage but contains [768, 64, 64, 3] which is of type list.\n",
      "  warnings.warn(message)\n",
      "c:\\Users\\shaha\\Projects\\Python Projects\\Israel-Palestine-Political-Affiliation-Text-Classification\\venv\\lib\\site-packages\\optuna\\distributions.py:524: UserWarning: Choices for a categorical distribution should be a tuple of None, bool, int, float and str for persistent storage but contains [768, 128, 64, 3] which is of type list.\n",
      "  warnings.warn(message)\n",
      "c:\\Users\\shaha\\Projects\\Python Projects\\Israel-Palestine-Political-Affiliation-Text-Classification\\venv\\lib\\site-packages\\optuna\\distributions.py:524: UserWarning: Choices for a categorical distribution should be a tuple of None, bool, int, float and str for persistent storage but contains [768, 512, 32, 3] which is of type list.\n",
      "  warnings.warn(message)\n",
      "c:\\Users\\shaha\\Projects\\Python Projects\\Israel-Palestine-Political-Affiliation-Text-Classification\\venv\\lib\\site-packages\\optuna\\distributions.py:524: UserWarning: Choices for a categorical distribution should be a tuple of None, bool, int, float and str for persistent storage but contains [768, 512, 128, 3] which is of type list.\n",
      "  warnings.warn(message)\n",
      "c:\\Users\\shaha\\Projects\\Python Projects\\Israel-Palestine-Political-Affiliation-Text-Classification\\venv\\lib\\site-packages\\optuna\\distributions.py:524: UserWarning: Choices for a categorical distribution should be a tuple of None, bool, int, float and str for persistent storage but contains [768, 512, 128, 64, 3] which is of type list.\n",
      "  warnings.warn(message)\n",
      "[I 2025-01-24 13:45:25,816] Trial 7 finished with value: 0.33374858585811296 and parameters: {'num_epochs': 10, 'learning_rate': 0.00010667098506019652, 'weight_decay': 2.6830628724383993e-05, 'batch_norm': False, 'drop_out': 0.3933214779636803, 'layers': [768, 512, 32, 3]}. Best is trial 4 with value: 0.33884120629244535.\n",
      "\n",
      "\n",
      "\n",
      "\n",
      "\u001b[A\u001b[A\u001b[A\u001b[Ac:\\Users\\shaha\\Projects\\Python Projects\\Israel-Palestine-Political-Affiliation-Text-Classification\\venv\\lib\\site-packages\\optuna\\distributions.py:524: UserWarning: Choices for a categorical distribution should be a tuple of None, bool, int, float and str for persistent storage but contains [768, 64, 3] which is of type list.\n",
      "  warnings.warn(message)\n",
      "c:\\Users\\shaha\\Projects\\Python Projects\\Israel-Palestine-Political-Affiliation-Text-Classification\\venv\\lib\\site-packages\\optuna\\distributions.py:524: UserWarning: Choices for a categorical distribution should be a tuple of None, bool, int, float and str for persistent storage but contains [768, 128, 3] which is of type list.\n",
      "  warnings.warn(message)\n",
      "c:\\Users\\shaha\\Projects\\Python Projects\\Israel-Palestine-Political-Affiliation-Text-Classification\\venv\\lib\\site-packages\\optuna\\distributions.py:524: UserWarning: Choices for a categorical distribution should be a tuple of None, bool, int, float and str for persistent storage but contains [768, 64, 64, 3] which is of type list.\n",
      "  warnings.warn(message)\n",
      "c:\\Users\\shaha\\Projects\\Python Projects\\Israel-Palestine-Political-Affiliation-Text-Classification\\venv\\lib\\site-packages\\optuna\\distributions.py:524: UserWarning: Choices for a categorical distribution should be a tuple of None, bool, int, float and str for persistent storage but contains [768, 128, 64, 3] which is of type list.\n",
      "  warnings.warn(message)\n",
      "c:\\Users\\shaha\\Projects\\Python Projects\\Israel-Palestine-Political-Affiliation-Text-Classification\\venv\\lib\\site-packages\\optuna\\distributions.py:524: UserWarning: Choices for a categorical distribution should be a tuple of None, bool, int, float and str for persistent storage but contains [768, 512, 32, 3] which is of type list.\n",
      "  warnings.warn(message)\n",
      "c:\\Users\\shaha\\Projects\\Python Projects\\Israel-Palestine-Political-Affiliation-Text-Classification\\venv\\lib\\site-packages\\optuna\\distributions.py:524: UserWarning: Choices for a categorical distribution should be a tuple of None, bool, int, float and str for persistent storage but contains [768, 512, 128, 3] which is of type list.\n",
      "  warnings.warn(message)\n",
      "c:\\Users\\shaha\\Projects\\Python Projects\\Israel-Palestine-Political-Affiliation-Text-Classification\\venv\\lib\\site-packages\\optuna\\distributions.py:524: UserWarning: Choices for a categorical distribution should be a tuple of None, bool, int, float and str for persistent storage but contains [768, 512, 128, 64, 3] which is of type list.\n",
      "  warnings.warn(message)\n",
      "[W 2025-01-24 13:46:12,110] Trial 8 failed with parameters: {'num_epochs': 6, 'learning_rate': 0.0008022068576708899, 'weight_decay': 0.0003457227380424275, 'batch_norm': False, 'drop_out': 0.09607244327160608, 'layers': [768, 512, 128, 64, 3]} because of the following error: KeyboardInterrupt().\n",
      "Traceback (most recent call last):\n",
      "  File \"c:\\Users\\shaha\\Projects\\Python Projects\\Israel-Palestine-Political-Affiliation-Text-Classification\\venv\\lib\\site-packages\\optuna\\study\\_optimize.py\", line 197, in _run_trial\n",
      "    value_or_values = func(trial)\n",
      "  File \"C:\\Users\\shaha\\AppData\\Local\\Temp\\ipykernel_11516\\1216427771.py\", line 121, in <lambda>\n",
      "    study.optimize(lambda trial: objective(trial, model_name, X, y, folds_scores), n_trials=n_trials, timeout=timout, callbacks=[progress_bar])\n",
      "  File \"C:\\Users\\shaha\\AppData\\Local\\Temp\\ipykernel_11516\\1216427771.py\", line 109, in objective\n",
      "    scores = cross_validation(model, X, y)\n",
      "  File \"C:\\Users\\shaha\\AppData\\Local\\Temp\\ipykernel_11516\\1216427771.py\", line 77, in cross_validation\n",
      "    estimator.fit(train)\n",
      "  File \"C:\\Users\\shaha\\Projects\\Python Projects\\Israel-Palestine-Political-Affiliation-Text-Classification\\classifiers.py\", line 109, in fit\n",
      "    for _, (features, labels) in enumerate(train_dataloader):\n",
      "  File \"c:\\Users\\shaha\\Projects\\Python Projects\\Israel-Palestine-Political-Affiliation-Text-Classification\\venv\\lib\\site-packages\\torch\\utils\\data\\dataloader.py\", line 630, in __next__\n",
      "    data = self._next_data()\n",
      "  File \"c:\\Users\\shaha\\Projects\\Python Projects\\Israel-Palestine-Political-Affiliation-Text-Classification\\venv\\lib\\site-packages\\torch\\utils\\data\\dataloader.py\", line 673, in _next_data\n",
      "    data = self._dataset_fetcher.fetch(index)  # may raise StopIteration\n",
      "  File \"c:\\Users\\shaha\\Projects\\Python Projects\\Israel-Palestine-Political-Affiliation-Text-Classification\\venv\\lib\\site-packages\\torch\\utils\\data\\_utils\\fetch.py\", line 55, in fetch\n",
      "    return self.collate_fn(data)\n",
      "  File \"c:\\Users\\shaha\\Projects\\Python Projects\\Israel-Palestine-Political-Affiliation-Text-Classification\\venv\\lib\\site-packages\\torch\\utils\\data\\_utils\\collate.py\", line 317, in default_collate\n",
      "    return collate(batch, collate_fn_map=default_collate_fn_map)\n",
      "  File \"c:\\Users\\shaha\\Projects\\Python Projects\\Israel-Palestine-Political-Affiliation-Text-Classification\\venv\\lib\\site-packages\\torch\\utils\\data\\_utils\\collate.py\", line 174, in collate\n",
      "    return [collate(samples, collate_fn_map=collate_fn_map) for samples in transposed]  # Backwards compatibility.\n",
      "  File \"c:\\Users\\shaha\\Projects\\Python Projects\\Israel-Palestine-Political-Affiliation-Text-Classification\\venv\\lib\\site-packages\\torch\\utils\\data\\_utils\\collate.py\", line 174, in <listcomp>\n",
      "    return [collate(samples, collate_fn_map=collate_fn_map) for samples in transposed]  # Backwards compatibility.\n",
      "  File \"c:\\Users\\shaha\\Projects\\Python Projects\\Israel-Palestine-Political-Affiliation-Text-Classification\\venv\\lib\\site-packages\\torch\\utils\\data\\_utils\\collate.py\", line 142, in collate\n",
      "    return collate_fn_map[elem_type](batch, collate_fn_map=collate_fn_map)\n",
      "  File \"c:\\Users\\shaha\\Projects\\Python Projects\\Israel-Palestine-Political-Affiliation-Text-Classification\\venv\\lib\\site-packages\\torch\\utils\\data\\_utils\\collate.py\", line 214, in collate_tensor_fn\n",
      "    return torch.stack(batch, 0, out=out)\n",
      "KeyboardInterrupt\n",
      "[W 2025-01-24 13:46:12,113] Trial 8 failed with value None.\n"
     ]
    },
    {
     "ename": "KeyboardInterrupt",
     "evalue": "",
     "output_type": "error",
     "traceback": [
      "\u001b[1;31m---------------------------------------------------------------------------\u001b[0m",
      "\u001b[1;31mKeyboardInterrupt\u001b[0m                         Traceback (most recent call last)",
      "Cell \u001b[1;32mIn[19], line 2\u001b[0m\n\u001b[0;32m      1\u001b[0m dnn_results \u001b[38;5;241m=\u001b[39m {}\n\u001b[1;32m----> 2\u001b[0m dnn_results[\u001b[38;5;124m'\u001b[39m\u001b[38;5;124mbert_without_augmentation\u001b[39m\u001b[38;5;124m'\u001b[39m] \u001b[38;5;241m=\u001b[39m \u001b[43moptimize_model\u001b[49m\u001b[43m(\u001b[49m\u001b[38;5;124;43m'\u001b[39;49m\u001b[38;5;124;43mdnn\u001b[39;49m\u001b[38;5;124;43m'\u001b[39;49m\u001b[43m,\u001b[49m\u001b[43m \u001b[49m\u001b[43mX_bert_no_augmentation\u001b[49m\u001b[43m,\u001b[49m\u001b[43m \u001b[49m\u001b[43my_bert_no_augmentation\u001b[49m\u001b[43m,\u001b[49m\u001b[43m \u001b[49m\u001b[43mn_trials\u001b[49m\u001b[38;5;241;43m=\u001b[39;49m\u001b[38;5;241;43m20\u001b[39;49m\u001b[43m)\u001b[49m\n",
      "Cell \u001b[1;32mIn[18], line 121\u001b[0m, in \u001b[0;36moptimize_model\u001b[1;34m(model_name, X, y, n_trials, timout)\u001b[0m\n\u001b[0;32m    119\u001b[0m study \u001b[38;5;241m=\u001b[39m optuna\u001b[38;5;241m.\u001b[39mcreate_study(direction\u001b[38;5;241m=\u001b[39m\u001b[38;5;124m'\u001b[39m\u001b[38;5;124mmaximize\u001b[39m\u001b[38;5;124m'\u001b[39m)\n\u001b[0;32m    120\u001b[0m progress_bar \u001b[38;5;241m=\u001b[39m TqdmCallback(n_trials)\n\u001b[1;32m--> 121\u001b[0m \u001b[43mstudy\u001b[49m\u001b[38;5;241;43m.\u001b[39;49m\u001b[43moptimize\u001b[49m\u001b[43m(\u001b[49m\u001b[38;5;28;43;01mlambda\u001b[39;49;00m\u001b[43m \u001b[49m\u001b[43mtrial\u001b[49m\u001b[43m:\u001b[49m\u001b[43m \u001b[49m\u001b[43mobjective\u001b[49m\u001b[43m(\u001b[49m\u001b[43mtrial\u001b[49m\u001b[43m,\u001b[49m\u001b[43m \u001b[49m\u001b[43mmodel_name\u001b[49m\u001b[43m,\u001b[49m\u001b[43m \u001b[49m\u001b[43mX\u001b[49m\u001b[43m,\u001b[49m\u001b[43m \u001b[49m\u001b[43my\u001b[49m\u001b[43m,\u001b[49m\u001b[43m \u001b[49m\u001b[43mfolds_scores\u001b[49m\u001b[43m)\u001b[49m\u001b[43m,\u001b[49m\u001b[43m \u001b[49m\u001b[43mn_trials\u001b[49m\u001b[38;5;241;43m=\u001b[39;49m\u001b[43mn_trials\u001b[49m\u001b[43m,\u001b[49m\u001b[43m \u001b[49m\u001b[43mtimeout\u001b[49m\u001b[38;5;241;43m=\u001b[39;49m\u001b[43mtimout\u001b[49m\u001b[43m,\u001b[49m\u001b[43m \u001b[49m\u001b[43mcallbacks\u001b[49m\u001b[38;5;241;43m=\u001b[39;49m\u001b[43m[\u001b[49m\u001b[43mprogress_bar\u001b[49m\u001b[43m]\u001b[49m\u001b[43m)\u001b[49m\n\u001b[0;32m    122\u001b[0m \u001b[38;5;66;03m# Close progress bar\u001b[39;00m\n\u001b[0;32m    123\u001b[0m progress_bar\u001b[38;5;241m.\u001b[39mclose()\n",
      "File \u001b[1;32mc:\\Users\\shaha\\Projects\\Python Projects\\Israel-Palestine-Political-Affiliation-Text-Classification\\venv\\lib\\site-packages\\optuna\\study\\study.py:475\u001b[0m, in \u001b[0;36mStudy.optimize\u001b[1;34m(self, func, n_trials, timeout, n_jobs, catch, callbacks, gc_after_trial, show_progress_bar)\u001b[0m\n\u001b[0;32m    373\u001b[0m \u001b[38;5;28;01mdef\u001b[39;00m\u001b[38;5;250m \u001b[39m\u001b[38;5;21moptimize\u001b[39m(\n\u001b[0;32m    374\u001b[0m     \u001b[38;5;28mself\u001b[39m,\n\u001b[0;32m    375\u001b[0m     func: ObjectiveFuncType,\n\u001b[1;32m   (...)\u001b[0m\n\u001b[0;32m    382\u001b[0m     show_progress_bar: \u001b[38;5;28mbool\u001b[39m \u001b[38;5;241m=\u001b[39m \u001b[38;5;28;01mFalse\u001b[39;00m,\n\u001b[0;32m    383\u001b[0m ) \u001b[38;5;241m-\u001b[39m\u001b[38;5;241m>\u001b[39m \u001b[38;5;28;01mNone\u001b[39;00m:\n\u001b[0;32m    384\u001b[0m \u001b[38;5;250m    \u001b[39m\u001b[38;5;124;03m\"\"\"Optimize an objective function.\u001b[39;00m\n\u001b[0;32m    385\u001b[0m \n\u001b[0;32m    386\u001b[0m \u001b[38;5;124;03m    Optimization is done by choosing a suitable set of hyperparameter values from a given\u001b[39;00m\n\u001b[1;32m   (...)\u001b[0m\n\u001b[0;32m    473\u001b[0m \u001b[38;5;124;03m            If nested invocation of this method occurs.\u001b[39;00m\n\u001b[0;32m    474\u001b[0m \u001b[38;5;124;03m    \"\"\"\u001b[39;00m\n\u001b[1;32m--> 475\u001b[0m     \u001b[43m_optimize\u001b[49m\u001b[43m(\u001b[49m\n\u001b[0;32m    476\u001b[0m \u001b[43m        \u001b[49m\u001b[43mstudy\u001b[49m\u001b[38;5;241;43m=\u001b[39;49m\u001b[38;5;28;43mself\u001b[39;49m\u001b[43m,\u001b[49m\n\u001b[0;32m    477\u001b[0m \u001b[43m        \u001b[49m\u001b[43mfunc\u001b[49m\u001b[38;5;241;43m=\u001b[39;49m\u001b[43mfunc\u001b[49m\u001b[43m,\u001b[49m\n\u001b[0;32m    478\u001b[0m \u001b[43m        \u001b[49m\u001b[43mn_trials\u001b[49m\u001b[38;5;241;43m=\u001b[39;49m\u001b[43mn_trials\u001b[49m\u001b[43m,\u001b[49m\n\u001b[0;32m    479\u001b[0m \u001b[43m        \u001b[49m\u001b[43mtimeout\u001b[49m\u001b[38;5;241;43m=\u001b[39;49m\u001b[43mtimeout\u001b[49m\u001b[43m,\u001b[49m\n\u001b[0;32m    480\u001b[0m \u001b[43m        \u001b[49m\u001b[43mn_jobs\u001b[49m\u001b[38;5;241;43m=\u001b[39;49m\u001b[43mn_jobs\u001b[49m\u001b[43m,\u001b[49m\n\u001b[0;32m    481\u001b[0m \u001b[43m        \u001b[49m\u001b[43mcatch\u001b[49m\u001b[38;5;241;43m=\u001b[39;49m\u001b[38;5;28;43mtuple\u001b[39;49m\u001b[43m(\u001b[49m\u001b[43mcatch\u001b[49m\u001b[43m)\u001b[49m\u001b[43m \u001b[49m\u001b[38;5;28;43;01mif\u001b[39;49;00m\u001b[43m \u001b[49m\u001b[38;5;28;43misinstance\u001b[39;49m\u001b[43m(\u001b[49m\u001b[43mcatch\u001b[49m\u001b[43m,\u001b[49m\u001b[43m \u001b[49m\u001b[43mIterable\u001b[49m\u001b[43m)\u001b[49m\u001b[43m \u001b[49m\u001b[38;5;28;43;01melse\u001b[39;49;00m\u001b[43m \u001b[49m\u001b[43m(\u001b[49m\u001b[43mcatch\u001b[49m\u001b[43m,\u001b[49m\u001b[43m)\u001b[49m\u001b[43m,\u001b[49m\n\u001b[0;32m    482\u001b[0m \u001b[43m        \u001b[49m\u001b[43mcallbacks\u001b[49m\u001b[38;5;241;43m=\u001b[39;49m\u001b[43mcallbacks\u001b[49m\u001b[43m,\u001b[49m\n\u001b[0;32m    483\u001b[0m \u001b[43m        \u001b[49m\u001b[43mgc_after_trial\u001b[49m\u001b[38;5;241;43m=\u001b[39;49m\u001b[43mgc_after_trial\u001b[49m\u001b[43m,\u001b[49m\n\u001b[0;32m    484\u001b[0m \u001b[43m        \u001b[49m\u001b[43mshow_progress_bar\u001b[49m\u001b[38;5;241;43m=\u001b[39;49m\u001b[43mshow_progress_bar\u001b[49m\u001b[43m,\u001b[49m\n\u001b[0;32m    485\u001b[0m \u001b[43m    \u001b[49m\u001b[43m)\u001b[49m\n",
      "File \u001b[1;32mc:\\Users\\shaha\\Projects\\Python Projects\\Israel-Palestine-Political-Affiliation-Text-Classification\\venv\\lib\\site-packages\\optuna\\study\\_optimize.py:63\u001b[0m, in \u001b[0;36m_optimize\u001b[1;34m(study, func, n_trials, timeout, n_jobs, catch, callbacks, gc_after_trial, show_progress_bar)\u001b[0m\n\u001b[0;32m     61\u001b[0m \u001b[38;5;28;01mtry\u001b[39;00m:\n\u001b[0;32m     62\u001b[0m     \u001b[38;5;28;01mif\u001b[39;00m n_jobs \u001b[38;5;241m==\u001b[39m \u001b[38;5;241m1\u001b[39m:\n\u001b[1;32m---> 63\u001b[0m         \u001b[43m_optimize_sequential\u001b[49m\u001b[43m(\u001b[49m\n\u001b[0;32m     64\u001b[0m \u001b[43m            \u001b[49m\u001b[43mstudy\u001b[49m\u001b[43m,\u001b[49m\n\u001b[0;32m     65\u001b[0m \u001b[43m            \u001b[49m\u001b[43mfunc\u001b[49m\u001b[43m,\u001b[49m\n\u001b[0;32m     66\u001b[0m \u001b[43m            \u001b[49m\u001b[43mn_trials\u001b[49m\u001b[43m,\u001b[49m\n\u001b[0;32m     67\u001b[0m \u001b[43m            \u001b[49m\u001b[43mtimeout\u001b[49m\u001b[43m,\u001b[49m\n\u001b[0;32m     68\u001b[0m \u001b[43m            \u001b[49m\u001b[43mcatch\u001b[49m\u001b[43m,\u001b[49m\n\u001b[0;32m     69\u001b[0m \u001b[43m            \u001b[49m\u001b[43mcallbacks\u001b[49m\u001b[43m,\u001b[49m\n\u001b[0;32m     70\u001b[0m \u001b[43m            \u001b[49m\u001b[43mgc_after_trial\u001b[49m\u001b[43m,\u001b[49m\n\u001b[0;32m     71\u001b[0m \u001b[43m            \u001b[49m\u001b[43mreseed_sampler_rng\u001b[49m\u001b[38;5;241;43m=\u001b[39;49m\u001b[38;5;28;43;01mFalse\u001b[39;49;00m\u001b[43m,\u001b[49m\n\u001b[0;32m     72\u001b[0m \u001b[43m            \u001b[49m\u001b[43mtime_start\u001b[49m\u001b[38;5;241;43m=\u001b[39;49m\u001b[38;5;28;43;01mNone\u001b[39;49;00m\u001b[43m,\u001b[49m\n\u001b[0;32m     73\u001b[0m \u001b[43m            \u001b[49m\u001b[43mprogress_bar\u001b[49m\u001b[38;5;241;43m=\u001b[39;49m\u001b[43mprogress_bar\u001b[49m\u001b[43m,\u001b[49m\n\u001b[0;32m     74\u001b[0m \u001b[43m        \u001b[49m\u001b[43m)\u001b[49m\n\u001b[0;32m     75\u001b[0m     \u001b[38;5;28;01melse\u001b[39;00m:\n\u001b[0;32m     76\u001b[0m         \u001b[38;5;28;01mif\u001b[39;00m n_jobs \u001b[38;5;241m==\u001b[39m \u001b[38;5;241m-\u001b[39m\u001b[38;5;241m1\u001b[39m:\n",
      "File \u001b[1;32mc:\\Users\\shaha\\Projects\\Python Projects\\Israel-Palestine-Political-Affiliation-Text-Classification\\venv\\lib\\site-packages\\optuna\\study\\_optimize.py:160\u001b[0m, in \u001b[0;36m_optimize_sequential\u001b[1;34m(study, func, n_trials, timeout, catch, callbacks, gc_after_trial, reseed_sampler_rng, time_start, progress_bar)\u001b[0m\n\u001b[0;32m    157\u001b[0m         \u001b[38;5;28;01mbreak\u001b[39;00m\n\u001b[0;32m    159\u001b[0m \u001b[38;5;28;01mtry\u001b[39;00m:\n\u001b[1;32m--> 160\u001b[0m     frozen_trial \u001b[38;5;241m=\u001b[39m \u001b[43m_run_trial\u001b[49m\u001b[43m(\u001b[49m\u001b[43mstudy\u001b[49m\u001b[43m,\u001b[49m\u001b[43m \u001b[49m\u001b[43mfunc\u001b[49m\u001b[43m,\u001b[49m\u001b[43m \u001b[49m\u001b[43mcatch\u001b[49m\u001b[43m)\u001b[49m\n\u001b[0;32m    161\u001b[0m \u001b[38;5;28;01mfinally\u001b[39;00m:\n\u001b[0;32m    162\u001b[0m     \u001b[38;5;66;03m# The following line mitigates memory problems that can be occurred in some\u001b[39;00m\n\u001b[0;32m    163\u001b[0m     \u001b[38;5;66;03m# environments (e.g., services that use computing containers such as GitHub Actions).\u001b[39;00m\n\u001b[0;32m    164\u001b[0m     \u001b[38;5;66;03m# Please refer to the following PR for further details:\u001b[39;00m\n\u001b[0;32m    165\u001b[0m     \u001b[38;5;66;03m# https://github.com/optuna/optuna/pull/325.\u001b[39;00m\n\u001b[0;32m    166\u001b[0m     \u001b[38;5;28;01mif\u001b[39;00m gc_after_trial:\n",
      "File \u001b[1;32mc:\\Users\\shaha\\Projects\\Python Projects\\Israel-Palestine-Political-Affiliation-Text-Classification\\venv\\lib\\site-packages\\optuna\\study\\_optimize.py:248\u001b[0m, in \u001b[0;36m_run_trial\u001b[1;34m(study, func, catch)\u001b[0m\n\u001b[0;32m    241\u001b[0m         \u001b[38;5;28;01massert\u001b[39;00m \u001b[38;5;28;01mFalse\u001b[39;00m, \u001b[38;5;124m\"\u001b[39m\u001b[38;5;124mShould not reach.\u001b[39m\u001b[38;5;124m\"\u001b[39m\n\u001b[0;32m    243\u001b[0m \u001b[38;5;28;01mif\u001b[39;00m (\n\u001b[0;32m    244\u001b[0m     frozen_trial\u001b[38;5;241m.\u001b[39mstate \u001b[38;5;241m==\u001b[39m TrialState\u001b[38;5;241m.\u001b[39mFAIL\n\u001b[0;32m    245\u001b[0m     \u001b[38;5;129;01mand\u001b[39;00m func_err \u001b[38;5;129;01mis\u001b[39;00m \u001b[38;5;129;01mnot\u001b[39;00m \u001b[38;5;28;01mNone\u001b[39;00m\n\u001b[0;32m    246\u001b[0m     \u001b[38;5;129;01mand\u001b[39;00m \u001b[38;5;129;01mnot\u001b[39;00m \u001b[38;5;28misinstance\u001b[39m(func_err, catch)\n\u001b[0;32m    247\u001b[0m ):\n\u001b[1;32m--> 248\u001b[0m     \u001b[38;5;28;01mraise\u001b[39;00m func_err\n\u001b[0;32m    249\u001b[0m \u001b[38;5;28;01mreturn\u001b[39;00m frozen_trial\n",
      "File \u001b[1;32mc:\\Users\\shaha\\Projects\\Python Projects\\Israel-Palestine-Political-Affiliation-Text-Classification\\venv\\lib\\site-packages\\optuna\\study\\_optimize.py:197\u001b[0m, in \u001b[0;36m_run_trial\u001b[1;34m(study, func, catch)\u001b[0m\n\u001b[0;32m    195\u001b[0m \u001b[38;5;28;01mwith\u001b[39;00m get_heartbeat_thread(trial\u001b[38;5;241m.\u001b[39m_trial_id, study\u001b[38;5;241m.\u001b[39m_storage):\n\u001b[0;32m    196\u001b[0m     \u001b[38;5;28;01mtry\u001b[39;00m:\n\u001b[1;32m--> 197\u001b[0m         value_or_values \u001b[38;5;241m=\u001b[39m \u001b[43mfunc\u001b[49m\u001b[43m(\u001b[49m\u001b[43mtrial\u001b[49m\u001b[43m)\u001b[49m\n\u001b[0;32m    198\u001b[0m     \u001b[38;5;28;01mexcept\u001b[39;00m exceptions\u001b[38;5;241m.\u001b[39mTrialPruned \u001b[38;5;28;01mas\u001b[39;00m e:\n\u001b[0;32m    199\u001b[0m         \u001b[38;5;66;03m# TODO(mamu): Handle multi-objective cases.\u001b[39;00m\n\u001b[0;32m    200\u001b[0m         state \u001b[38;5;241m=\u001b[39m TrialState\u001b[38;5;241m.\u001b[39mPRUNED\n",
      "Cell \u001b[1;32mIn[18], line 121\u001b[0m, in \u001b[0;36moptimize_model.<locals>.<lambda>\u001b[1;34m(trial)\u001b[0m\n\u001b[0;32m    119\u001b[0m study \u001b[38;5;241m=\u001b[39m optuna\u001b[38;5;241m.\u001b[39mcreate_study(direction\u001b[38;5;241m=\u001b[39m\u001b[38;5;124m'\u001b[39m\u001b[38;5;124mmaximize\u001b[39m\u001b[38;5;124m'\u001b[39m)\n\u001b[0;32m    120\u001b[0m progress_bar \u001b[38;5;241m=\u001b[39m TqdmCallback(n_trials)\n\u001b[1;32m--> 121\u001b[0m study\u001b[38;5;241m.\u001b[39moptimize(\u001b[38;5;28;01mlambda\u001b[39;00m trial: \u001b[43mobjective\u001b[49m\u001b[43m(\u001b[49m\u001b[43mtrial\u001b[49m\u001b[43m,\u001b[49m\u001b[43m \u001b[49m\u001b[43mmodel_name\u001b[49m\u001b[43m,\u001b[49m\u001b[43m \u001b[49m\u001b[43mX\u001b[49m\u001b[43m,\u001b[49m\u001b[43m \u001b[49m\u001b[43my\u001b[49m\u001b[43m,\u001b[49m\u001b[43m \u001b[49m\u001b[43mfolds_scores\u001b[49m\u001b[43m)\u001b[49m, n_trials\u001b[38;5;241m=\u001b[39mn_trials, timeout\u001b[38;5;241m=\u001b[39mtimout, callbacks\u001b[38;5;241m=\u001b[39m[progress_bar])\n\u001b[0;32m    122\u001b[0m \u001b[38;5;66;03m# Close progress bar\u001b[39;00m\n\u001b[0;32m    123\u001b[0m progress_bar\u001b[38;5;241m.\u001b[39mclose()\n",
      "Cell \u001b[1;32mIn[18], line 109\u001b[0m, in \u001b[0;36mobjective\u001b[1;34m(trial, model_name, X, y, folds_scores)\u001b[0m\n\u001b[0;32m    106\u001b[0m model \u001b[38;5;241m=\u001b[39m Classifier(params, model_type\u001b[38;5;241m=\u001b[39mmodel_name, log\u001b[38;5;241m=\u001b[39m\u001b[38;5;28;01mFalse\u001b[39;00m)\n\u001b[0;32m    108\u001b[0m \u001b[38;5;66;03m# Perform cross validation\u001b[39;00m\n\u001b[1;32m--> 109\u001b[0m scores \u001b[38;5;241m=\u001b[39m \u001b[43mcross_validation\u001b[49m\u001b[43m(\u001b[49m\u001b[43mmodel\u001b[49m\u001b[43m,\u001b[49m\u001b[43m \u001b[49m\u001b[43mX\u001b[49m\u001b[43m,\u001b[49m\u001b[43m \u001b[49m\u001b[43my\u001b[49m\u001b[43m)\u001b[49m\n\u001b[0;32m    111\u001b[0m folds_scores\u001b[38;5;241m.\u001b[39mappend(scores)     \u001b[38;5;66;03m# Save scores for statistic tests\u001b[39;00m\n\u001b[0;32m    112\u001b[0m \u001b[38;5;28;01mreturn\u001b[39;00m np\u001b[38;5;241m.\u001b[39mmean(scores)\n",
      "Cell \u001b[1;32mIn[18], line 77\u001b[0m, in \u001b[0;36mcross_validation\u001b[1;34m(estimator, X, y, n_splits)\u001b[0m\n\u001b[0;32m     74\u001b[0m train \u001b[38;5;241m=\u001b[39m (train_dataloader, (x_train, y_train))\n\u001b[0;32m     75\u001b[0m val \u001b[38;5;241m=\u001b[39m (val_dataloader, (x_val, y_val))\n\u001b[1;32m---> 77\u001b[0m \u001b[43mestimator\u001b[49m\u001b[38;5;241;43m.\u001b[39;49m\u001b[43mfit\u001b[49m\u001b[43m(\u001b[49m\u001b[43mtrain\u001b[49m\u001b[43m)\u001b[49m\n\u001b[0;32m     78\u001b[0m pred \u001b[38;5;241m=\u001b[39m estimator\u001b[38;5;241m.\u001b[39mpredict(val)\n\u001b[0;32m     79\u001b[0m score \u001b[38;5;241m=\u001b[39m f1_score(y_val, pred, average\u001b[38;5;241m=\u001b[39m\u001b[38;5;124m'\u001b[39m\u001b[38;5;124mmacro\u001b[39m\u001b[38;5;124m'\u001b[39m)\n",
      "File \u001b[1;32m~\\Projects\\Python Projects\\Israel-Palestine-Political-Affiliation-Text-Classification\\classifiers.py:109\u001b[0m, in \u001b[0;36mClassifier.fit\u001b[1;34m(self, train_data_package)\u001b[0m\n\u001b[0;32m    107\u001b[0m \u001b[38;5;28mself\u001b[39m\u001b[38;5;241m.\u001b[39mmodel\u001b[38;5;241m.\u001b[39mtrain()\n\u001b[0;32m    108\u001b[0m \u001b[38;5;28;01mfor\u001b[39;00m epoch \u001b[38;5;129;01min\u001b[39;00m \u001b[38;5;28mrange\u001b[39m(\u001b[38;5;28mself\u001b[39m\u001b[38;5;241m.\u001b[39mnum_epochs):\n\u001b[1;32m--> 109\u001b[0m     \u001b[38;5;28;01mfor\u001b[39;00m _, (features, labels) \u001b[38;5;129;01min\u001b[39;00m \u001b[38;5;28menumerate\u001b[39m(train_dataloader):\n\u001b[0;32m    110\u001b[0m         \u001b[38;5;28mself\u001b[39m\u001b[38;5;241m.\u001b[39moptimizer\u001b[38;5;241m.\u001b[39mzero_grad()\n\u001b[0;32m    111\u001b[0m         outputs \u001b[38;5;241m=\u001b[39m \u001b[38;5;28mself\u001b[39m\u001b[38;5;241m.\u001b[39mmodel(features\u001b[38;5;241m.\u001b[39mfloat())\n",
      "File \u001b[1;32mc:\\Users\\shaha\\Projects\\Python Projects\\Israel-Palestine-Political-Affiliation-Text-Classification\\venv\\lib\\site-packages\\torch\\utils\\data\\dataloader.py:630\u001b[0m, in \u001b[0;36m_BaseDataLoaderIter.__next__\u001b[1;34m(self)\u001b[0m\n\u001b[0;32m    627\u001b[0m \u001b[38;5;28;01mif\u001b[39;00m \u001b[38;5;28mself\u001b[39m\u001b[38;5;241m.\u001b[39m_sampler_iter \u001b[38;5;129;01mis\u001b[39;00m \u001b[38;5;28;01mNone\u001b[39;00m:\n\u001b[0;32m    628\u001b[0m     \u001b[38;5;66;03m# TODO(https://github.com/pytorch/pytorch/issues/76750)\u001b[39;00m\n\u001b[0;32m    629\u001b[0m     \u001b[38;5;28mself\u001b[39m\u001b[38;5;241m.\u001b[39m_reset()  \u001b[38;5;66;03m# type: ignore[call-arg]\u001b[39;00m\n\u001b[1;32m--> 630\u001b[0m data \u001b[38;5;241m=\u001b[39m \u001b[38;5;28;43mself\u001b[39;49m\u001b[38;5;241;43m.\u001b[39;49m\u001b[43m_next_data\u001b[49m\u001b[43m(\u001b[49m\u001b[43m)\u001b[49m\n\u001b[0;32m    631\u001b[0m \u001b[38;5;28mself\u001b[39m\u001b[38;5;241m.\u001b[39m_num_yielded \u001b[38;5;241m+\u001b[39m\u001b[38;5;241m=\u001b[39m \u001b[38;5;241m1\u001b[39m\n\u001b[0;32m    632\u001b[0m \u001b[38;5;28;01mif\u001b[39;00m \u001b[38;5;28mself\u001b[39m\u001b[38;5;241m.\u001b[39m_dataset_kind \u001b[38;5;241m==\u001b[39m _DatasetKind\u001b[38;5;241m.\u001b[39mIterable \u001b[38;5;129;01mand\u001b[39;00m \\\n\u001b[0;32m    633\u001b[0m         \u001b[38;5;28mself\u001b[39m\u001b[38;5;241m.\u001b[39m_IterableDataset_len_called \u001b[38;5;129;01mis\u001b[39;00m \u001b[38;5;129;01mnot\u001b[39;00m \u001b[38;5;28;01mNone\u001b[39;00m \u001b[38;5;129;01mand\u001b[39;00m \\\n\u001b[0;32m    634\u001b[0m         \u001b[38;5;28mself\u001b[39m\u001b[38;5;241m.\u001b[39m_num_yielded \u001b[38;5;241m>\u001b[39m \u001b[38;5;28mself\u001b[39m\u001b[38;5;241m.\u001b[39m_IterableDataset_len_called:\n",
      "File \u001b[1;32mc:\\Users\\shaha\\Projects\\Python Projects\\Israel-Palestine-Political-Affiliation-Text-Classification\\venv\\lib\\site-packages\\torch\\utils\\data\\dataloader.py:673\u001b[0m, in \u001b[0;36m_SingleProcessDataLoaderIter._next_data\u001b[1;34m(self)\u001b[0m\n\u001b[0;32m    671\u001b[0m \u001b[38;5;28;01mdef\u001b[39;00m\u001b[38;5;250m \u001b[39m\u001b[38;5;21m_next_data\u001b[39m(\u001b[38;5;28mself\u001b[39m):\n\u001b[0;32m    672\u001b[0m     index \u001b[38;5;241m=\u001b[39m \u001b[38;5;28mself\u001b[39m\u001b[38;5;241m.\u001b[39m_next_index()  \u001b[38;5;66;03m# may raise StopIteration\u001b[39;00m\n\u001b[1;32m--> 673\u001b[0m     data \u001b[38;5;241m=\u001b[39m \u001b[38;5;28;43mself\u001b[39;49m\u001b[38;5;241;43m.\u001b[39;49m\u001b[43m_dataset_fetcher\u001b[49m\u001b[38;5;241;43m.\u001b[39;49m\u001b[43mfetch\u001b[49m\u001b[43m(\u001b[49m\u001b[43mindex\u001b[49m\u001b[43m)\u001b[49m  \u001b[38;5;66;03m# may raise StopIteration\u001b[39;00m\n\u001b[0;32m    674\u001b[0m     \u001b[38;5;28;01mif\u001b[39;00m \u001b[38;5;28mself\u001b[39m\u001b[38;5;241m.\u001b[39m_pin_memory:\n\u001b[0;32m    675\u001b[0m         data \u001b[38;5;241m=\u001b[39m _utils\u001b[38;5;241m.\u001b[39mpin_memory\u001b[38;5;241m.\u001b[39mpin_memory(data, \u001b[38;5;28mself\u001b[39m\u001b[38;5;241m.\u001b[39m_pin_memory_device)\n",
      "File \u001b[1;32mc:\\Users\\shaha\\Projects\\Python Projects\\Israel-Palestine-Political-Affiliation-Text-Classification\\venv\\lib\\site-packages\\torch\\utils\\data\\_utils\\fetch.py:55\u001b[0m, in \u001b[0;36m_MapDatasetFetcher.fetch\u001b[1;34m(self, possibly_batched_index)\u001b[0m\n\u001b[0;32m     53\u001b[0m \u001b[38;5;28;01melse\u001b[39;00m:\n\u001b[0;32m     54\u001b[0m     data \u001b[38;5;241m=\u001b[39m \u001b[38;5;28mself\u001b[39m\u001b[38;5;241m.\u001b[39mdataset[possibly_batched_index]\n\u001b[1;32m---> 55\u001b[0m \u001b[38;5;28;01mreturn\u001b[39;00m \u001b[38;5;28;43mself\u001b[39;49m\u001b[38;5;241;43m.\u001b[39;49m\u001b[43mcollate_fn\u001b[49m\u001b[43m(\u001b[49m\u001b[43mdata\u001b[49m\u001b[43m)\u001b[49m\n",
      "File \u001b[1;32mc:\\Users\\shaha\\Projects\\Python Projects\\Israel-Palestine-Political-Affiliation-Text-Classification\\venv\\lib\\site-packages\\torch\\utils\\data\\_utils\\collate.py:317\u001b[0m, in \u001b[0;36mdefault_collate\u001b[1;34m(batch)\u001b[0m\n\u001b[0;32m    256\u001b[0m \u001b[38;5;28;01mdef\u001b[39;00m\u001b[38;5;250m \u001b[39m\u001b[38;5;21mdefault_collate\u001b[39m(batch):\n\u001b[0;32m    257\u001b[0m \u001b[38;5;250m    \u001b[39m\u001b[38;5;124mr\u001b[39m\u001b[38;5;124;03m\"\"\"\u001b[39;00m\n\u001b[0;32m    258\u001b[0m \u001b[38;5;124;03m    Take in a batch of data and put the elements within the batch into a tensor with an additional outer dimension - batch size.\u001b[39;00m\n\u001b[0;32m    259\u001b[0m \n\u001b[1;32m   (...)\u001b[0m\n\u001b[0;32m    315\u001b[0m \u001b[38;5;124;03m        >>> default_collate(batch)  # Handle `CustomType` automatically\u001b[39;00m\n\u001b[0;32m    316\u001b[0m \u001b[38;5;124;03m    \"\"\"\u001b[39;00m\n\u001b[1;32m--> 317\u001b[0m     \u001b[38;5;28;01mreturn\u001b[39;00m \u001b[43mcollate\u001b[49m\u001b[43m(\u001b[49m\u001b[43mbatch\u001b[49m\u001b[43m,\u001b[49m\u001b[43m \u001b[49m\u001b[43mcollate_fn_map\u001b[49m\u001b[38;5;241;43m=\u001b[39;49m\u001b[43mdefault_collate_fn_map\u001b[49m\u001b[43m)\u001b[49m\n",
      "File \u001b[1;32mc:\\Users\\shaha\\Projects\\Python Projects\\Israel-Palestine-Political-Affiliation-Text-Classification\\venv\\lib\\site-packages\\torch\\utils\\data\\_utils\\collate.py:174\u001b[0m, in \u001b[0;36mcollate\u001b[1;34m(batch, collate_fn_map)\u001b[0m\n\u001b[0;32m    171\u001b[0m transposed \u001b[38;5;241m=\u001b[39m \u001b[38;5;28mlist\u001b[39m(\u001b[38;5;28mzip\u001b[39m(\u001b[38;5;241m*\u001b[39mbatch))  \u001b[38;5;66;03m# It may be accessed twice, so we use a list.\u001b[39;00m\n\u001b[0;32m    173\u001b[0m \u001b[38;5;28;01mif\u001b[39;00m \u001b[38;5;28misinstance\u001b[39m(elem, \u001b[38;5;28mtuple\u001b[39m):\n\u001b[1;32m--> 174\u001b[0m     \u001b[38;5;28;01mreturn\u001b[39;00m [collate(samples, collate_fn_map\u001b[38;5;241m=\u001b[39mcollate_fn_map) \u001b[38;5;28;01mfor\u001b[39;00m samples \u001b[38;5;129;01min\u001b[39;00m transposed]  \u001b[38;5;66;03m# Backwards compatibility.\u001b[39;00m\n\u001b[0;32m    175\u001b[0m \u001b[38;5;28;01melse\u001b[39;00m:\n\u001b[0;32m    176\u001b[0m     \u001b[38;5;28;01mtry\u001b[39;00m:\n",
      "File \u001b[1;32mc:\\Users\\shaha\\Projects\\Python Projects\\Israel-Palestine-Political-Affiliation-Text-Classification\\venv\\lib\\site-packages\\torch\\utils\\data\\_utils\\collate.py:174\u001b[0m, in \u001b[0;36m<listcomp>\u001b[1;34m(.0)\u001b[0m\n\u001b[0;32m    171\u001b[0m transposed \u001b[38;5;241m=\u001b[39m \u001b[38;5;28mlist\u001b[39m(\u001b[38;5;28mzip\u001b[39m(\u001b[38;5;241m*\u001b[39mbatch))  \u001b[38;5;66;03m# It may be accessed twice, so we use a list.\u001b[39;00m\n\u001b[0;32m    173\u001b[0m \u001b[38;5;28;01mif\u001b[39;00m \u001b[38;5;28misinstance\u001b[39m(elem, \u001b[38;5;28mtuple\u001b[39m):\n\u001b[1;32m--> 174\u001b[0m     \u001b[38;5;28;01mreturn\u001b[39;00m [\u001b[43mcollate\u001b[49m\u001b[43m(\u001b[49m\u001b[43msamples\u001b[49m\u001b[43m,\u001b[49m\u001b[43m \u001b[49m\u001b[43mcollate_fn_map\u001b[49m\u001b[38;5;241;43m=\u001b[39;49m\u001b[43mcollate_fn_map\u001b[49m\u001b[43m)\u001b[49m \u001b[38;5;28;01mfor\u001b[39;00m samples \u001b[38;5;129;01min\u001b[39;00m transposed]  \u001b[38;5;66;03m# Backwards compatibility.\u001b[39;00m\n\u001b[0;32m    175\u001b[0m \u001b[38;5;28;01melse\u001b[39;00m:\n\u001b[0;32m    176\u001b[0m     \u001b[38;5;28;01mtry\u001b[39;00m:\n",
      "File \u001b[1;32mc:\\Users\\shaha\\Projects\\Python Projects\\Israel-Palestine-Political-Affiliation-Text-Classification\\venv\\lib\\site-packages\\torch\\utils\\data\\_utils\\collate.py:142\u001b[0m, in \u001b[0;36mcollate\u001b[1;34m(batch, collate_fn_map)\u001b[0m\n\u001b[0;32m    140\u001b[0m \u001b[38;5;28;01mif\u001b[39;00m collate_fn_map \u001b[38;5;129;01mis\u001b[39;00m \u001b[38;5;129;01mnot\u001b[39;00m \u001b[38;5;28;01mNone\u001b[39;00m:\n\u001b[0;32m    141\u001b[0m     \u001b[38;5;28;01mif\u001b[39;00m elem_type \u001b[38;5;129;01min\u001b[39;00m collate_fn_map:\n\u001b[1;32m--> 142\u001b[0m         \u001b[38;5;28;01mreturn\u001b[39;00m \u001b[43mcollate_fn_map\u001b[49m\u001b[43m[\u001b[49m\u001b[43melem_type\u001b[49m\u001b[43m]\u001b[49m\u001b[43m(\u001b[49m\u001b[43mbatch\u001b[49m\u001b[43m,\u001b[49m\u001b[43m \u001b[49m\u001b[43mcollate_fn_map\u001b[49m\u001b[38;5;241;43m=\u001b[39;49m\u001b[43mcollate_fn_map\u001b[49m\u001b[43m)\u001b[49m\n\u001b[0;32m    144\u001b[0m     \u001b[38;5;28;01mfor\u001b[39;00m collate_type \u001b[38;5;129;01min\u001b[39;00m collate_fn_map:\n\u001b[0;32m    145\u001b[0m         \u001b[38;5;28;01mif\u001b[39;00m \u001b[38;5;28misinstance\u001b[39m(elem, collate_type):\n",
      "File \u001b[1;32mc:\\Users\\shaha\\Projects\\Python Projects\\Israel-Palestine-Political-Affiliation-Text-Classification\\venv\\lib\\site-packages\\torch\\utils\\data\\_utils\\collate.py:214\u001b[0m, in \u001b[0;36mcollate_tensor_fn\u001b[1;34m(batch, collate_fn_map)\u001b[0m\n\u001b[0;32m    212\u001b[0m     storage \u001b[38;5;241m=\u001b[39m elem\u001b[38;5;241m.\u001b[39m_typed_storage()\u001b[38;5;241m.\u001b[39m_new_shared(numel, device\u001b[38;5;241m=\u001b[39melem\u001b[38;5;241m.\u001b[39mdevice)\n\u001b[0;32m    213\u001b[0m     out \u001b[38;5;241m=\u001b[39m elem\u001b[38;5;241m.\u001b[39mnew(storage)\u001b[38;5;241m.\u001b[39mresize_(\u001b[38;5;28mlen\u001b[39m(batch), \u001b[38;5;241m*\u001b[39m\u001b[38;5;28mlist\u001b[39m(elem\u001b[38;5;241m.\u001b[39msize()))\n\u001b[1;32m--> 214\u001b[0m \u001b[38;5;28;01mreturn\u001b[39;00m \u001b[43mtorch\u001b[49m\u001b[38;5;241;43m.\u001b[39;49m\u001b[43mstack\u001b[49m\u001b[43m(\u001b[49m\u001b[43mbatch\u001b[49m\u001b[43m,\u001b[49m\u001b[43m \u001b[49m\u001b[38;5;241;43m0\u001b[39;49m\u001b[43m,\u001b[49m\u001b[43m \u001b[49m\u001b[43mout\u001b[49m\u001b[38;5;241;43m=\u001b[39;49m\u001b[43mout\u001b[49m\u001b[43m)\u001b[49m\n",
      "\u001b[1;31mKeyboardInterrupt\u001b[0m: "
     ]
    }
   ],
   "source": [
    "dnn_results = {}\n",
    "dnn_results['bert_without_augmentation'] = optimize_model('dnn', X_bert_no_augmentation, y_bert_no_augmentation)"
   ]
  },
  {
   "cell_type": "code",
   "execution_count": null,
   "metadata": {},
   "outputs": [],
   "source": [
    "dnn_results['bert_with_undersampling'] = optimize_model('dnn', X_bert_undersampled, y_bert_undersampled)"
   ]
  },
  {
   "cell_type": "code",
   "execution_count": null,
   "metadata": {},
   "outputs": [],
   "source": [
    "dnn_results['bert_with_augmentation'] = optimize_model('dnn', X_bert_with_augmentation, y_bert_with_augmentation)"
   ]
  },
  {
   "cell_type": "code",
   "execution_count": null,
   "metadata": {},
   "outputs": [],
   "source": [
    "dnn_results['tfidf_without_augmentation'] = optimize_model('dnn', X_tfidf_no_augmentation, y_tfidf_no_augmentation)"
   ]
  },
  {
   "cell_type": "code",
   "execution_count": null,
   "metadata": {},
   "outputs": [],
   "source": [
    "dnn_results['tfidf_with_undersampling'] = optimize_model('dnn', X_tfidf_undersampled, y_tfidf_undersampled)"
   ]
  },
  {
   "cell_type": "code",
   "execution_count": 20,
   "metadata": {
    "collapsed": false
   },
   "outputs": [
    {
     "name": "stderr",
     "output_type": "stream",
     "text": [
      "[I 2025-01-22 01:11:58,946] A new study created in memory with name: no-name-4b0ac8b7-ed74-4a89-a46b-e182a7c894ae\n",
      "\n",
      "  0%|          | 0/50 [00:00<?, ?it/s]\u001b[A[W 2025-01-22 01:11:58,952] Trial 0 failed with parameters: {'batch_norm': True} because of the following error: KeyError('layers').\n",
      "Traceback (most recent call last):\n",
      "  File \"C:\\Users\\amita\\PycharmProjects\\Israel-Palestine-Political-Affiliation-Text-Classification\\venv\\Lib\\site-packages\\optuna\\study\\_optimize.py\", line 197, in _run_trial\n",
      "    value_or_values = func(trial)\n",
      "                      ^^^^^^^^^^^\n",
      "  File \"C:\\Users\\amita\\AppData\\Local\\Temp\\ipykernel_35216\\3444861739.py\", line 127, in <lambda>\n",
      "    study.optimize(lambda trial: objective(trial, model_name, X, y, folds_scores), n_trials=n_trials, timeout=timout, callbacks=[progress_bar])\n",
      "                                 ^^^^^^^^^^^^^^^^^^^^^^^^^^^^^^^^^^^^^^^^^^^^^^^^\n",
      "  File \"C:\\Users\\amita\\AppData\\Local\\Temp\\ipykernel_35216\\3444861739.py\", line 107, in objective\n",
      "    model = Classifier(params, model_type=model_name, log=False)\n",
      "            ^^^^^^^^^^^^^^^^^^^^^^^^^^^^^^^^^^^^^^^^^^^^^^^^^^^^\n",
      "  File \"C:\\Users\\amita\\PycharmProjects\\Israel-Palestine-Political-Affiliation-Text-Classification\\classifiers.py\", line 80, in __init__\n",
      "    self.model = DNN(config)\n",
      "                 ^^^^^^^^^^^\n",
      "  File \"C:\\Users\\amita\\PycharmProjects\\Israel-Palestine-Political-Affiliation-Text-Classification\\classifiers.py\", line 42, in __init__\n",
      "    input_size = config[\"layers\"][0]\n",
      "                 ~~~~~~^^^^^^^^^^\n",
      "KeyError: 'layers'\n",
      "[W 2025-01-22 01:11:58,956] Trial 0 failed with value None.\n",
      "  0%|          | 0/50 [3:30:49<?, ?it/s]\n"
     ]
    },
    {
     "ename": "KeyError",
     "evalue": "'layers'",
     "output_type": "error",
     "traceback": [
      "\u001b[1;31m---------------------------------------------------------------------------\u001b[0m",
      "\u001b[1;31mKeyError\u001b[0m                                  Traceback (most recent call last)",
      "Cell \u001b[1;32mIn[20], line 2\u001b[0m\n\u001b[0;32m      1\u001b[0m dnn_results \u001b[38;5;241m=\u001b[39m {}\n\u001b[1;32m----> 2\u001b[0m dnn_results[\u001b[38;5;124m'\u001b[39m\u001b[38;5;124mbert_without_augmentation\u001b[39m\u001b[38;5;124m'\u001b[39m] \u001b[38;5;241m=\u001b[39m \u001b[43moptimize_model\u001b[49m\u001b[43m(\u001b[49m\u001b[38;5;124;43m'\u001b[39;49m\u001b[38;5;124;43mdnn\u001b[39;49m\u001b[38;5;124;43m'\u001b[39;49m\u001b[43m,\u001b[49m\u001b[43m \u001b[49m\u001b[43mX_bert_no_augmentation\u001b[49m\u001b[43m,\u001b[49m\u001b[43m \u001b[49m\u001b[43my_bert_no_augmentation\u001b[49m\u001b[43m)\u001b[49m\n\u001b[0;32m      3\u001b[0m dnn_results[\u001b[38;5;124m'\u001b[39m\u001b[38;5;124mbert_with_augmentation\u001b[39m\u001b[38;5;124m'\u001b[39m] \u001b[38;5;241m=\u001b[39m optimize_model(\u001b[38;5;124m'\u001b[39m\u001b[38;5;124mdnn\u001b[39m\u001b[38;5;124m'\u001b[39m, X_bert_with_augmentation, y_bert_with_augmentation)\n\u001b[0;32m      4\u001b[0m dnn_results[\u001b[38;5;124m'\u001b[39m\u001b[38;5;124mtfidf_without_augmentation\u001b[39m\u001b[38;5;124m'\u001b[39m] \u001b[38;5;241m=\u001b[39m optimize_model(\u001b[38;5;124m'\u001b[39m\u001b[38;5;124mdnn\u001b[39m\u001b[38;5;124m'\u001b[39m, X_tfidf_no_augmentation, y_tfidf_no_augmentation)\n",
      "Cell \u001b[1;32mIn[9], line 127\u001b[0m, in \u001b[0;36moptimize_model\u001b[1;34m(model_name, X, y, n_trials, timout)\u001b[0m\n\u001b[0;32m    125\u001b[0m study \u001b[38;5;241m=\u001b[39m optuna\u001b[38;5;241m.\u001b[39mcreate_study(direction\u001b[38;5;241m=\u001b[39m\u001b[38;5;124m'\u001b[39m\u001b[38;5;124mmaximize\u001b[39m\u001b[38;5;124m'\u001b[39m)\n\u001b[0;32m    126\u001b[0m progress_bar \u001b[38;5;241m=\u001b[39m TqdmCallback(n_trials)\n\u001b[1;32m--> 127\u001b[0m \u001b[43mstudy\u001b[49m\u001b[38;5;241;43m.\u001b[39;49m\u001b[43moptimize\u001b[49m\u001b[43m(\u001b[49m\u001b[38;5;28;43;01mlambda\u001b[39;49;00m\u001b[43m \u001b[49m\u001b[43mtrial\u001b[49m\u001b[43m:\u001b[49m\u001b[43m \u001b[49m\u001b[43mobjective\u001b[49m\u001b[43m(\u001b[49m\u001b[43mtrial\u001b[49m\u001b[43m,\u001b[49m\u001b[43m \u001b[49m\u001b[43mmodel_name\u001b[49m\u001b[43m,\u001b[49m\u001b[43m \u001b[49m\u001b[43mX\u001b[49m\u001b[43m,\u001b[49m\u001b[43m \u001b[49m\u001b[43my\u001b[49m\u001b[43m,\u001b[49m\u001b[43m \u001b[49m\u001b[43mfolds_scores\u001b[49m\u001b[43m)\u001b[49m\u001b[43m,\u001b[49m\u001b[43m \u001b[49m\u001b[43mn_trials\u001b[49m\u001b[38;5;241;43m=\u001b[39;49m\u001b[43mn_trials\u001b[49m\u001b[43m,\u001b[49m\u001b[43m \u001b[49m\u001b[43mtimeout\u001b[49m\u001b[38;5;241;43m=\u001b[39;49m\u001b[43mtimout\u001b[49m\u001b[43m,\u001b[49m\u001b[43m \u001b[49m\u001b[43mcallbacks\u001b[49m\u001b[38;5;241;43m=\u001b[39;49m\u001b[43m[\u001b[49m\u001b[43mprogress_bar\u001b[49m\u001b[43m]\u001b[49m\u001b[43m)\u001b[49m\n\u001b[0;32m    128\u001b[0m \u001b[38;5;66;03m# Close progress bar\u001b[39;00m\n\u001b[0;32m    129\u001b[0m progress_bar\u001b[38;5;241m.\u001b[39mclose()\n",
      "File \u001b[1;32m~\\PycharmProjects\\Israel-Palestine-Political-Affiliation-Text-Classification\\venv\\Lib\\site-packages\\optuna\\study\\study.py:475\u001b[0m, in \u001b[0;36mStudy.optimize\u001b[1;34m(self, func, n_trials, timeout, n_jobs, catch, callbacks, gc_after_trial, show_progress_bar)\u001b[0m\n\u001b[0;32m    373\u001b[0m \u001b[38;5;28;01mdef\u001b[39;00m\u001b[38;5;250m \u001b[39m\u001b[38;5;21moptimize\u001b[39m(\n\u001b[0;32m    374\u001b[0m     \u001b[38;5;28mself\u001b[39m,\n\u001b[0;32m    375\u001b[0m     func: ObjectiveFuncType,\n\u001b[1;32m   (...)\u001b[0m\n\u001b[0;32m    382\u001b[0m     show_progress_bar: \u001b[38;5;28mbool\u001b[39m \u001b[38;5;241m=\u001b[39m \u001b[38;5;28;01mFalse\u001b[39;00m,\n\u001b[0;32m    383\u001b[0m ) \u001b[38;5;241m-\u001b[39m\u001b[38;5;241m>\u001b[39m \u001b[38;5;28;01mNone\u001b[39;00m:\n\u001b[0;32m    384\u001b[0m \u001b[38;5;250m    \u001b[39m\u001b[38;5;124;03m\"\"\"Optimize an objective function.\u001b[39;00m\n\u001b[0;32m    385\u001b[0m \n\u001b[0;32m    386\u001b[0m \u001b[38;5;124;03m    Optimization is done by choosing a suitable set of hyperparameter values from a given\u001b[39;00m\n\u001b[1;32m   (...)\u001b[0m\n\u001b[0;32m    473\u001b[0m \u001b[38;5;124;03m            If nested invocation of this method occurs.\u001b[39;00m\n\u001b[0;32m    474\u001b[0m \u001b[38;5;124;03m    \"\"\"\u001b[39;00m\n\u001b[1;32m--> 475\u001b[0m     \u001b[43m_optimize\u001b[49m\u001b[43m(\u001b[49m\n\u001b[0;32m    476\u001b[0m \u001b[43m        \u001b[49m\u001b[43mstudy\u001b[49m\u001b[38;5;241;43m=\u001b[39;49m\u001b[38;5;28;43mself\u001b[39;49m\u001b[43m,\u001b[49m\n\u001b[0;32m    477\u001b[0m \u001b[43m        \u001b[49m\u001b[43mfunc\u001b[49m\u001b[38;5;241;43m=\u001b[39;49m\u001b[43mfunc\u001b[49m\u001b[43m,\u001b[49m\n\u001b[0;32m    478\u001b[0m \u001b[43m        \u001b[49m\u001b[43mn_trials\u001b[49m\u001b[38;5;241;43m=\u001b[39;49m\u001b[43mn_trials\u001b[49m\u001b[43m,\u001b[49m\n\u001b[0;32m    479\u001b[0m \u001b[43m        \u001b[49m\u001b[43mtimeout\u001b[49m\u001b[38;5;241;43m=\u001b[39;49m\u001b[43mtimeout\u001b[49m\u001b[43m,\u001b[49m\n\u001b[0;32m    480\u001b[0m \u001b[43m        \u001b[49m\u001b[43mn_jobs\u001b[49m\u001b[38;5;241;43m=\u001b[39;49m\u001b[43mn_jobs\u001b[49m\u001b[43m,\u001b[49m\n\u001b[0;32m    481\u001b[0m \u001b[43m        \u001b[49m\u001b[43mcatch\u001b[49m\u001b[38;5;241;43m=\u001b[39;49m\u001b[38;5;28;43mtuple\u001b[39;49m\u001b[43m(\u001b[49m\u001b[43mcatch\u001b[49m\u001b[43m)\u001b[49m\u001b[43m \u001b[49m\u001b[38;5;28;43;01mif\u001b[39;49;00m\u001b[43m \u001b[49m\u001b[38;5;28;43misinstance\u001b[39;49m\u001b[43m(\u001b[49m\u001b[43mcatch\u001b[49m\u001b[43m,\u001b[49m\u001b[43m \u001b[49m\u001b[43mIterable\u001b[49m\u001b[43m)\u001b[49m\u001b[43m \u001b[49m\u001b[38;5;28;43;01melse\u001b[39;49;00m\u001b[43m \u001b[49m\u001b[43m(\u001b[49m\u001b[43mcatch\u001b[49m\u001b[43m,\u001b[49m\u001b[43m)\u001b[49m\u001b[43m,\u001b[49m\n\u001b[0;32m    482\u001b[0m \u001b[43m        \u001b[49m\u001b[43mcallbacks\u001b[49m\u001b[38;5;241;43m=\u001b[39;49m\u001b[43mcallbacks\u001b[49m\u001b[43m,\u001b[49m\n\u001b[0;32m    483\u001b[0m \u001b[43m        \u001b[49m\u001b[43mgc_after_trial\u001b[49m\u001b[38;5;241;43m=\u001b[39;49m\u001b[43mgc_after_trial\u001b[49m\u001b[43m,\u001b[49m\n\u001b[0;32m    484\u001b[0m \u001b[43m        \u001b[49m\u001b[43mshow_progress_bar\u001b[49m\u001b[38;5;241;43m=\u001b[39;49m\u001b[43mshow_progress_bar\u001b[49m\u001b[43m,\u001b[49m\n\u001b[0;32m    485\u001b[0m \u001b[43m    \u001b[49m\u001b[43m)\u001b[49m\n",
      "File \u001b[1;32m~\\PycharmProjects\\Israel-Palestine-Political-Affiliation-Text-Classification\\venv\\Lib\\site-packages\\optuna\\study\\_optimize.py:63\u001b[0m, in \u001b[0;36m_optimize\u001b[1;34m(study, func, n_trials, timeout, n_jobs, catch, callbacks, gc_after_trial, show_progress_bar)\u001b[0m\n\u001b[0;32m     61\u001b[0m \u001b[38;5;28;01mtry\u001b[39;00m:\n\u001b[0;32m     62\u001b[0m     \u001b[38;5;28;01mif\u001b[39;00m n_jobs \u001b[38;5;241m==\u001b[39m \u001b[38;5;241m1\u001b[39m:\n\u001b[1;32m---> 63\u001b[0m         \u001b[43m_optimize_sequential\u001b[49m\u001b[43m(\u001b[49m\n\u001b[0;32m     64\u001b[0m \u001b[43m            \u001b[49m\u001b[43mstudy\u001b[49m\u001b[43m,\u001b[49m\n\u001b[0;32m     65\u001b[0m \u001b[43m            \u001b[49m\u001b[43mfunc\u001b[49m\u001b[43m,\u001b[49m\n\u001b[0;32m     66\u001b[0m \u001b[43m            \u001b[49m\u001b[43mn_trials\u001b[49m\u001b[43m,\u001b[49m\n\u001b[0;32m     67\u001b[0m \u001b[43m            \u001b[49m\u001b[43mtimeout\u001b[49m\u001b[43m,\u001b[49m\n\u001b[0;32m     68\u001b[0m \u001b[43m            \u001b[49m\u001b[43mcatch\u001b[49m\u001b[43m,\u001b[49m\n\u001b[0;32m     69\u001b[0m \u001b[43m            \u001b[49m\u001b[43mcallbacks\u001b[49m\u001b[43m,\u001b[49m\n\u001b[0;32m     70\u001b[0m \u001b[43m            \u001b[49m\u001b[43mgc_after_trial\u001b[49m\u001b[43m,\u001b[49m\n\u001b[0;32m     71\u001b[0m \u001b[43m            \u001b[49m\u001b[43mreseed_sampler_rng\u001b[49m\u001b[38;5;241;43m=\u001b[39;49m\u001b[38;5;28;43;01mFalse\u001b[39;49;00m\u001b[43m,\u001b[49m\n\u001b[0;32m     72\u001b[0m \u001b[43m            \u001b[49m\u001b[43mtime_start\u001b[49m\u001b[38;5;241;43m=\u001b[39;49m\u001b[38;5;28;43;01mNone\u001b[39;49;00m\u001b[43m,\u001b[49m\n\u001b[0;32m     73\u001b[0m \u001b[43m            \u001b[49m\u001b[43mprogress_bar\u001b[49m\u001b[38;5;241;43m=\u001b[39;49m\u001b[43mprogress_bar\u001b[49m\u001b[43m,\u001b[49m\n\u001b[0;32m     74\u001b[0m \u001b[43m        \u001b[49m\u001b[43m)\u001b[49m\n\u001b[0;32m     75\u001b[0m     \u001b[38;5;28;01melse\u001b[39;00m:\n\u001b[0;32m     76\u001b[0m         \u001b[38;5;28;01mif\u001b[39;00m n_jobs \u001b[38;5;241m==\u001b[39m \u001b[38;5;241m-\u001b[39m\u001b[38;5;241m1\u001b[39m:\n",
      "File \u001b[1;32m~\\PycharmProjects\\Israel-Palestine-Political-Affiliation-Text-Classification\\venv\\Lib\\site-packages\\optuna\\study\\_optimize.py:160\u001b[0m, in \u001b[0;36m_optimize_sequential\u001b[1;34m(study, func, n_trials, timeout, catch, callbacks, gc_after_trial, reseed_sampler_rng, time_start, progress_bar)\u001b[0m\n\u001b[0;32m    157\u001b[0m         \u001b[38;5;28;01mbreak\u001b[39;00m\n\u001b[0;32m    159\u001b[0m \u001b[38;5;28;01mtry\u001b[39;00m:\n\u001b[1;32m--> 160\u001b[0m     frozen_trial \u001b[38;5;241m=\u001b[39m \u001b[43m_run_trial\u001b[49m\u001b[43m(\u001b[49m\u001b[43mstudy\u001b[49m\u001b[43m,\u001b[49m\u001b[43m \u001b[49m\u001b[43mfunc\u001b[49m\u001b[43m,\u001b[49m\u001b[43m \u001b[49m\u001b[43mcatch\u001b[49m\u001b[43m)\u001b[49m\n\u001b[0;32m    161\u001b[0m \u001b[38;5;28;01mfinally\u001b[39;00m:\n\u001b[0;32m    162\u001b[0m     \u001b[38;5;66;03m# The following line mitigates memory problems that can be occurred in some\u001b[39;00m\n\u001b[0;32m    163\u001b[0m     \u001b[38;5;66;03m# environments (e.g., services that use computing containers such as GitHub Actions).\u001b[39;00m\n\u001b[0;32m    164\u001b[0m     \u001b[38;5;66;03m# Please refer to the following PR for further details:\u001b[39;00m\n\u001b[0;32m    165\u001b[0m     \u001b[38;5;66;03m# https://github.com/optuna/optuna/pull/325.\u001b[39;00m\n\u001b[0;32m    166\u001b[0m     \u001b[38;5;28;01mif\u001b[39;00m gc_after_trial:\n",
      "File \u001b[1;32m~\\PycharmProjects\\Israel-Palestine-Political-Affiliation-Text-Classification\\venv\\Lib\\site-packages\\optuna\\study\\_optimize.py:248\u001b[0m, in \u001b[0;36m_run_trial\u001b[1;34m(study, func, catch)\u001b[0m\n\u001b[0;32m    241\u001b[0m         \u001b[38;5;28;01massert\u001b[39;00m \u001b[38;5;28;01mFalse\u001b[39;00m, \u001b[38;5;124m\"\u001b[39m\u001b[38;5;124mShould not reach.\u001b[39m\u001b[38;5;124m\"\u001b[39m\n\u001b[0;32m    243\u001b[0m \u001b[38;5;28;01mif\u001b[39;00m (\n\u001b[0;32m    244\u001b[0m     frozen_trial\u001b[38;5;241m.\u001b[39mstate \u001b[38;5;241m==\u001b[39m TrialState\u001b[38;5;241m.\u001b[39mFAIL\n\u001b[0;32m    245\u001b[0m     \u001b[38;5;129;01mand\u001b[39;00m func_err \u001b[38;5;129;01mis\u001b[39;00m \u001b[38;5;129;01mnot\u001b[39;00m \u001b[38;5;28;01mNone\u001b[39;00m\n\u001b[0;32m    246\u001b[0m     \u001b[38;5;129;01mand\u001b[39;00m \u001b[38;5;129;01mnot\u001b[39;00m \u001b[38;5;28misinstance\u001b[39m(func_err, catch)\n\u001b[0;32m    247\u001b[0m ):\n\u001b[1;32m--> 248\u001b[0m     \u001b[38;5;28;01mraise\u001b[39;00m func_err\n\u001b[0;32m    249\u001b[0m \u001b[38;5;28;01mreturn\u001b[39;00m frozen_trial\n",
      "File \u001b[1;32m~\\PycharmProjects\\Israel-Palestine-Political-Affiliation-Text-Classification\\venv\\Lib\\site-packages\\optuna\\study\\_optimize.py:197\u001b[0m, in \u001b[0;36m_run_trial\u001b[1;34m(study, func, catch)\u001b[0m\n\u001b[0;32m    195\u001b[0m \u001b[38;5;28;01mwith\u001b[39;00m get_heartbeat_thread(trial\u001b[38;5;241m.\u001b[39m_trial_id, study\u001b[38;5;241m.\u001b[39m_storage):\n\u001b[0;32m    196\u001b[0m     \u001b[38;5;28;01mtry\u001b[39;00m:\n\u001b[1;32m--> 197\u001b[0m         value_or_values \u001b[38;5;241m=\u001b[39m \u001b[43mfunc\u001b[49m\u001b[43m(\u001b[49m\u001b[43mtrial\u001b[49m\u001b[43m)\u001b[49m\n\u001b[0;32m    198\u001b[0m     \u001b[38;5;28;01mexcept\u001b[39;00m exceptions\u001b[38;5;241m.\u001b[39mTrialPruned \u001b[38;5;28;01mas\u001b[39;00m e:\n\u001b[0;32m    199\u001b[0m         \u001b[38;5;66;03m# TODO(mamu): Handle multi-objective cases.\u001b[39;00m\n\u001b[0;32m    200\u001b[0m         state \u001b[38;5;241m=\u001b[39m TrialState\u001b[38;5;241m.\u001b[39mPRUNED\n",
      "Cell \u001b[1;32mIn[9], line 127\u001b[0m, in \u001b[0;36moptimize_model.<locals>.<lambda>\u001b[1;34m(trial)\u001b[0m\n\u001b[0;32m    125\u001b[0m study \u001b[38;5;241m=\u001b[39m optuna\u001b[38;5;241m.\u001b[39mcreate_study(direction\u001b[38;5;241m=\u001b[39m\u001b[38;5;124m'\u001b[39m\u001b[38;5;124mmaximize\u001b[39m\u001b[38;5;124m'\u001b[39m)\n\u001b[0;32m    126\u001b[0m progress_bar \u001b[38;5;241m=\u001b[39m TqdmCallback(n_trials)\n\u001b[1;32m--> 127\u001b[0m study\u001b[38;5;241m.\u001b[39moptimize(\u001b[38;5;28;01mlambda\u001b[39;00m trial: \u001b[43mobjective\u001b[49m\u001b[43m(\u001b[49m\u001b[43mtrial\u001b[49m\u001b[43m,\u001b[49m\u001b[43m \u001b[49m\u001b[43mmodel_name\u001b[49m\u001b[43m,\u001b[49m\u001b[43m \u001b[49m\u001b[43mX\u001b[49m\u001b[43m,\u001b[49m\u001b[43m \u001b[49m\u001b[43my\u001b[49m\u001b[43m,\u001b[49m\u001b[43m \u001b[49m\u001b[43mfolds_scores\u001b[49m\u001b[43m)\u001b[49m, n_trials\u001b[38;5;241m=\u001b[39mn_trials, timeout\u001b[38;5;241m=\u001b[39mtimout, callbacks\u001b[38;5;241m=\u001b[39m[progress_bar])\n\u001b[0;32m    128\u001b[0m \u001b[38;5;66;03m# Close progress bar\u001b[39;00m\n\u001b[0;32m    129\u001b[0m progress_bar\u001b[38;5;241m.\u001b[39mclose()\n",
      "Cell \u001b[1;32mIn[9], line 107\u001b[0m, in \u001b[0;36mobjective\u001b[1;34m(trial, model_name, X, y, folds_scores)\u001b[0m\n\u001b[0;32m    103\u001b[0m         params[\u001b[38;5;124m\"\u001b[39m\u001b[38;5;124mrate_drop\u001b[39m\u001b[38;5;124m\"\u001b[39m] \u001b[38;5;241m=\u001b[39m trial\u001b[38;5;241m.\u001b[39msuggest_float(\u001b[38;5;124m\"\u001b[39m\u001b[38;5;124mrate_drop\u001b[39m\u001b[38;5;124m\"\u001b[39m, \u001b[38;5;241m1e-8\u001b[39m, \u001b[38;5;241m1.0\u001b[39m, log\u001b[38;5;241m=\u001b[39m\u001b[38;5;28;01mTrue\u001b[39;00m)\n\u001b[0;32m    104\u001b[0m         params[\u001b[38;5;124m\"\u001b[39m\u001b[38;5;124mskip_drop\u001b[39m\u001b[38;5;124m\"\u001b[39m] \u001b[38;5;241m=\u001b[39m trial\u001b[38;5;241m.\u001b[39msuggest_float(\u001b[38;5;124m\"\u001b[39m\u001b[38;5;124mskip_drop\u001b[39m\u001b[38;5;124m\"\u001b[39m, \u001b[38;5;241m1e-8\u001b[39m, \u001b[38;5;241m1.0\u001b[39m, log\u001b[38;5;241m=\u001b[39m\u001b[38;5;28;01mTrue\u001b[39;00m)\n\u001b[1;32m--> 107\u001b[0m model \u001b[38;5;241m=\u001b[39m \u001b[43mClassifier\u001b[49m\u001b[43m(\u001b[49m\u001b[43mparams\u001b[49m\u001b[43m,\u001b[49m\u001b[43m \u001b[49m\u001b[43mmodel_type\u001b[49m\u001b[38;5;241;43m=\u001b[39;49m\u001b[43mmodel_name\u001b[49m\u001b[43m,\u001b[49m\u001b[43m \u001b[49m\u001b[43mlog\u001b[49m\u001b[38;5;241;43m=\u001b[39;49m\u001b[38;5;28;43;01mFalse\u001b[39;49;00m\u001b[43m)\u001b[49m\n\u001b[0;32m    109\u001b[0m \u001b[38;5;66;03m# Create a pipeline with just the classifier since feature prep is external\u001b[39;00m\n\u001b[0;32m    110\u001b[0m pipeline \u001b[38;5;241m=\u001b[39m Pipeline([\n\u001b[0;32m    111\u001b[0m     (\u001b[38;5;124m'\u001b[39m\u001b[38;5;124mclassifier\u001b[39m\u001b[38;5;124m'\u001b[39m, model)\n\u001b[0;32m    112\u001b[0m ])\n",
      "File \u001b[1;32m~\\PycharmProjects\\Israel-Palestine-Political-Affiliation-Text-Classification\\classifiers.py:80\u001b[0m, in \u001b[0;36mClassifier.__init__\u001b[1;34m(self, config, model_type, log)\u001b[0m\n\u001b[0;32m     76\u001b[0m \u001b[38;5;28mself\u001b[39m\u001b[38;5;241m.\u001b[39mlog \u001b[38;5;241m=\u001b[39m log\n\u001b[0;32m     78\u001b[0m \u001b[38;5;28;01mif\u001b[39;00m model_type \u001b[38;5;129;01min\u001b[39;00m [\u001b[38;5;124m\"\u001b[39m\u001b[38;5;124mlogistic_regression\u001b[39m\u001b[38;5;124m\"\u001b[39m, \u001b[38;5;124m\"\u001b[39m\u001b[38;5;124mdnn\u001b[39m\u001b[38;5;124m\"\u001b[39m]:\n\u001b[0;32m     79\u001b[0m     \u001b[38;5;66;03m# A one layered logistic regression implementation using the DNN class\u001b[39;00m\n\u001b[1;32m---> 80\u001b[0m     \u001b[38;5;28mself\u001b[39m\u001b[38;5;241m.\u001b[39mmodel \u001b[38;5;241m=\u001b[39m \u001b[43mDNN\u001b[49m\u001b[43m(\u001b[49m\u001b[43mconfig\u001b[49m\u001b[43m)\u001b[49m\n\u001b[0;32m     81\u001b[0m     \u001b[38;5;28mself\u001b[39m\u001b[38;5;241m.\u001b[39moptimizer \u001b[38;5;241m=\u001b[39m optim\u001b[38;5;241m.\u001b[39mAdam(\u001b[38;5;28mself\u001b[39m\u001b[38;5;241m.\u001b[39mmodel\u001b[38;5;241m.\u001b[39mparameters(), lr\u001b[38;5;241m=\u001b[39mconfig[\u001b[38;5;124m\"\u001b[39m\u001b[38;5;124mlearning_rate\u001b[39m\u001b[38;5;124m\"\u001b[39m], weight_decay\u001b[38;5;241m=\u001b[39mconfig[\u001b[38;5;124m\"\u001b[39m\u001b[38;5;124mweight_decay\u001b[39m\u001b[38;5;124m\"\u001b[39m])\n\u001b[0;32m     82\u001b[0m     \u001b[38;5;28mself\u001b[39m\u001b[38;5;241m.\u001b[39mcriterion \u001b[38;5;241m=\u001b[39m nn\u001b[38;5;241m.\u001b[39mCrossEntropyLoss()  \u001b[38;5;66;03m# Cross-Entropy Loss for multiclass problem\u001b[39;00m\n",
      "File \u001b[1;32m~\\PycharmProjects\\Israel-Palestine-Political-Affiliation-Text-Classification\\classifiers.py:42\u001b[0m, in \u001b[0;36mDNN.__init__\u001b[1;34m(self, config)\u001b[0m\n\u001b[0;32m     40\u001b[0m \u001b[38;5;28msuper\u001b[39m(DNN, \u001b[38;5;28mself\u001b[39m)\u001b[38;5;241m.\u001b[39m\u001b[38;5;21m__init__\u001b[39m()\n\u001b[0;32m     41\u001b[0m layers \u001b[38;5;241m=\u001b[39m []\n\u001b[1;32m---> 42\u001b[0m input_size \u001b[38;5;241m=\u001b[39m \u001b[43mconfig\u001b[49m\u001b[43m[\u001b[49m\u001b[38;5;124;43m\"\u001b[39;49m\u001b[38;5;124;43mlayers\u001b[39;49m\u001b[38;5;124;43m\"\u001b[39;49m\u001b[43m]\u001b[49m[\u001b[38;5;241m0\u001b[39m]\n\u001b[0;32m     44\u001b[0m \u001b[38;5;66;03m# Iterate through the hidden layers\u001b[39;00m\n\u001b[0;32m     45\u001b[0m \u001b[38;5;28;01mfor\u001b[39;00m output_size \u001b[38;5;129;01min\u001b[39;00m config[\u001b[38;5;124m\"\u001b[39m\u001b[38;5;124mlayers\u001b[39m\u001b[38;5;124m\"\u001b[39m][\u001b[38;5;241m1\u001b[39m:\u001b[38;5;241m-\u001b[39m\u001b[38;5;241m1\u001b[39m]:  \u001b[38;5;66;03m# Skip the last layer (number of classes)\u001b[39;00m\n",
      "\u001b[1;31mKeyError\u001b[0m: 'layers'"
     ]
    }
   ],
   "source": [
    "dnn_results['tfidf_with_augmentation'] = optimize_model('dnn', X_tfidf_with_augmentation, y_tfidf_with_augmentation)"
   ]
  },
  {
   "cell_type": "code",
   "execution_count": null,
   "metadata": {
    "collapsed": false
   },
   "outputs": [],
   "source": [
    "print(\"DNN results:\\n\\n\")\n",
    "df = pd.DataFrame([\n",
    "    {\n",
    "        'Experiment': key,\n",
    "        'Best Parameters': value[0],\n",
    "        'Best Avg': value[1],\n",
    "        'STD': value[2],\n",
    "        'Scores': value[3]\n",
    "    }\n",
    "    for key, value in dnn_results.items()\n",
    "])\n",
    "display(df)"
   ]
  }
 ],
 "metadata": {
  "colab": {
   "provenance": []
  },
  "kernelspec": {
   "display_name": "venv",
   "language": "python",
   "name": "python3"
  },
  "language_info": {
   "codemirror_mode": {
    "name": "ipython",
    "version": 3
   },
   "file_extension": ".py",
   "mimetype": "text/x-python",
   "name": "python",
   "nbconvert_exporter": "python",
   "pygments_lexer": "ipython3",
   "version": "3.8.5"
  }
 },
 "nbformat": 4,
 "nbformat_minor": 0
}
